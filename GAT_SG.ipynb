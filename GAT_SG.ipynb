{
  "cells": [
    {
      "cell_type": "code",
      "execution_count": 1,
      "id": "hV6QpbJXMOZ1",
      "metadata": {
        "colab": {
          "base_uri": "https://localhost:8080/"
        },
        "id": "hV6QpbJXMOZ1",
        "outputId": "7f024d46-ad2e-4a71-9fc5-d23a83d403d5"
      },
      "outputs": [
        {
          "name": "stdout",
          "output_type": "stream",
          "text": [
            "Archive:  all.zip\n",
            "  inflating: .DS_Store               \n",
            "   creating: .git/\n",
            "  inflating: .git/config             \n",
            "   creating: .git/objects/\n",
            "   creating: .git/objects/pack/\n",
            "  inflating: .git/objects/pack/pack-2ca7792152d971f87066cb44277bc2209794d002.pack  \n",
            "  inflating: .git/objects/pack/pack-2ca7792152d971f87066cb44277bc2209794d002.idx  \n",
            "   creating: .git/objects/info/\n",
            " extracting: .git/HEAD               \n",
            "   creating: .git/info/\n",
            "  inflating: .git/info/exclude       \n",
            "   creating: .git/logs/\n",
            "  inflating: .git/logs/HEAD          \n",
            "   creating: .git/logs/refs/\n",
            "   creating: .git/logs/refs/heads/\n",
            "  inflating: .git/logs/refs/heads/main  \n",
            "   creating: .git/logs/refs/remotes/\n",
            "   creating: .git/logs/refs/remotes/origin/\n",
            "  inflating: .git/logs/refs/remotes/origin/HEAD  \n",
            "  inflating: .git/description        \n",
            "   creating: .git/hooks/\n",
            "  inflating: .git/hooks/commit-msg.sample  \n",
            "  inflating: .git/hooks/pre-rebase.sample  \n",
            "  inflating: .git/hooks/pre-commit.sample  \n",
            "  inflating: .git/hooks/applypatch-msg.sample  \n",
            "  inflating: .git/hooks/fsmonitor-watchman.sample  \n",
            "  inflating: .git/hooks/pre-receive.sample  \n",
            "  inflating: .git/hooks/prepare-commit-msg.sample  \n",
            "  inflating: .git/hooks/post-update.sample  \n",
            "  inflating: .git/hooks/pre-merge-commit.sample  \n",
            "  inflating: .git/hooks/pre-applypatch.sample  \n",
            "  inflating: .git/hooks/pre-push.sample  \n",
            "  inflating: .git/hooks/update.sample  \n",
            "  inflating: .git/hooks/push-to-checkout.sample  \n",
            "   creating: .git/refs/\n",
            "   creating: .git/refs/heads/\n",
            " extracting: .git/refs/heads/main    \n",
            "   creating: .git/refs/tags/\n",
            "   creating: .git/refs/remotes/\n",
            "   creating: .git/refs/remotes/origin/\n",
            " extracting: .git/refs/remotes/origin/HEAD  \n",
            "  inflating: .git/index              \n",
            "  inflating: .git/packed-refs        \n",
            "   creating: .github/\n",
            " extracting: .github/FUNDING.yml     \n",
            "  inflating: .gitignore              \n",
            "  inflating: LICENCE                 \n",
            "  inflating: README.md               \n",
            "  inflating: The Annotated GAT (Cora).ipynb  \n",
            "  inflating: The Annotated GAT (PPI).ipynb  \n",
            "   creating: data/\n",
            "   creating: data/readme_pics/\n",
            "  inflating: data/readme_pics/cora_degree_statistics.PNG  \n",
            "   creating: data/readme_pics/entropy_histograms/\n",
            "  inflating: data/readme_pics/entropy_histograms/layer_1_head_0.jpg  \n",
            "  inflating: data/readme_pics/entropy_histograms/layer_0_head_0.jpg  \n",
            "  inflating: data/readme_pics/ppi_graph_jupyter.PNG  \n",
            "  inflating: data/readme_pics/cora_graph.PNG  \n",
            "  inflating: data/readme_pics/protein.png  \n",
            "  inflating: data/readme_pics/val_acc.PNG  \n",
            "  inflating: data/readme_pics/attention2.jpg  \n",
            "  inflating: data/readme_pics/attention3.jpg  \n",
            "   creating: data/readme_pics/entropy_histograms_ppi/\n",
            "  inflating: data/readme_pics/entropy_histograms_ppi/layer_0_head_0.jpg  \n",
            "  inflating: data/readme_pics/attention1.jpg  \n",
            "   creating: data/readme_pics/neighborhood_attention_ppi/\n",
            "  inflating: data/readme_pics/neighborhood_attention_ppi/4.jpg  \n",
            "  inflating: data/readme_pics/neighborhood_attention_ppi/2.jpg  \n",
            "  inflating: data/readme_pics/neighborhood_attention_ppi/3.jpg  \n",
            "  inflating: data/readme_pics/neighborhood_attention_ppi/1.jpg  \n",
            "  inflating: data/readme_pics/attention4.jpg  \n",
            "  inflating: data/readme_pics/t-sne.PNG  \n",
            "  inflating: data/readme_pics/kk_layout.jpg  \n",
            "  inflating: data/readme_pics/cora_graph_jupyter.PNG  \n",
            "  inflating: data/readme_pics/GAT_schematic.PNG  \n",
            "  inflating: data/readme_pics/val_loss.PNG  \n",
            "   creating: data/cora/\n",
            "  inflating: data/cora/node_labels.npy  \n",
            "  inflating: data/cora/adjacency_list.dict  \n",
            "  inflating: data/cora/node_features.csr  \n",
            "  inflating: environment.yml         \n",
            "   creating: models/\n",
            "   creating: models/binaries/\n",
            "  inflating: models/binaries/gat_000000.pth  \n",
            "  inflating: models/binaries/gat_PPI_000000.pth  \n",
            "   creating: models/definitions/\n",
            "  inflating: models/definitions/GAT.py  \n",
            "  inflating: playground.py           \n",
            "  inflating: requirements.txt        \n",
            "  inflating: training_script_cora.py  \n",
            "  inflating: training_script_ppi.py  \n",
            "   creating: utils/\n",
            "  inflating: utils/data_loading.py   \n",
            "  inflating: utils/constants.py      \n",
            "  inflating: utils/dataset.py        \n",
            "  inflating: utils/visualizations.py  \n",
            "  inflating: utils/utils.py          \n",
            "  inflating: wordnet_doctor.png      \n"
          ]
        }
      ],
      "source": [
        "!unzip all.zip"
      ]
    },
    {
      "cell_type": "code",
      "execution_count": 2,
      "id": "Ogw7X5GFPfSA",
      "metadata": {
        "colab": {
          "base_uri": "https://localhost:8080/"
        },
        "id": "Ogw7X5GFPfSA",
        "outputId": "bd7cd60c-d125-450f-89b7-878fbd6e2b35"
      },
      "outputs": [
        {
          "name": "stdout",
          "output_type": "stream",
          "text": [
            "Tue Feb 15 10:41:01 2022       \n",
            "+-----------------------------------------------------------------------------+\n",
            "| NVIDIA-SMI 460.32.03    Driver Version: 460.32.03    CUDA Version: 11.2     |\n",
            "|-------------------------------+----------------------+----------------------+\n",
            "| GPU  Name        Persistence-M| Bus-Id        Disp.A | Volatile Uncorr. ECC |\n",
            "| Fan  Temp  Perf  Pwr:Usage/Cap|         Memory-Usage | GPU-Util  Compute M. |\n",
            "|                               |                      |               MIG M. |\n",
            "|===============================+======================+======================|\n",
            "|   0  Tesla K80           Off  | 00000000:00:04.0 Off |                    0 |\n",
            "| N/A   52C    P8    31W / 149W |      0MiB / 11441MiB |      0%      Default |\n",
            "|                               |                      |                  N/A |\n",
            "+-------------------------------+----------------------+----------------------+\n",
            "                                                                               \n",
            "+-----------------------------------------------------------------------------+\n",
            "| Processes:                                                                  |\n",
            "|  GPU   GI   CI        PID   Type   Process name                  GPU Memory |\n",
            "|        ID   ID                                                   Usage      |\n",
            "|=============================================================================|\n",
            "|  No running processes found                                                 |\n",
            "+-----------------------------------------------------------------------------+\n",
            "nvcc: NVIDIA (R) Cuda compiler driver\n",
            "Copyright (c) 2005-2020 NVIDIA Corporation\n",
            "Built on Mon_Oct_12_20:09:46_PDT_2020\n",
            "Cuda compilation tools, release 11.1, V11.1.105\n",
            "Build cuda_11.1.TC455_06.29190527_0\n"
          ]
        }
      ],
      "source": [
        "!nvidia-smi\n",
        "!/usr/local/cuda/bin/nvcc --version"
      ]
    },
    {
      "cell_type": "code",
      "execution_count": 3,
      "id": "yVgTzV6yNoE2",
      "metadata": {
        "id": "yVgTzV6yNoE2"
      },
      "outputs": [],
      "source": [
        "#!pip install torch==1.10.0+cu111 torchvision==0.11.1+cu111 torchaudio==0.10.0 -f https://download.pytorch.org/whl/torch_stable.html"
      ]
    },
    {
      "cell_type": "code",
      "execution_count": 4,
      "id": "vBjR1V427KtX",
      "metadata": {
        "colab": {
          "base_uri": "https://localhost:8080/"
        },
        "id": "vBjR1V427KtX",
        "outputId": "91b95ad2-76cc-481c-eaa3-89efa1f13d51"
      },
      "outputs": [
        {
          "name": "stdout",
          "output_type": "stream",
          "text": [
            "1.10.0+cu111\n",
            "11.1\n"
          ]
        }
      ],
      "source": [
        "import torch\n",
        "print(torch.__version__)\n",
        "print(torch.version.cuda)"
      ]
    },
    {
      "cell_type": "code",
      "execution_count": 5,
      "id": "zZLcpIWvNDSb",
      "metadata": {
        "colab": {
          "base_uri": "https://localhost:8080/"
        },
        "id": "zZLcpIWvNDSb",
        "outputId": "5e3f5d26-90cf-4800-9e31-108e47f6e079"
      },
      "outputs": [
        {
          "name": "stdout",
          "output_type": "stream",
          "text": [
            "Requirement already satisfied: matplotlib in /usr/local/lib/python3.7/dist-packages (from -r requirements.txt (line 4)) (3.2.2)\n",
            "Collecting GitPython\n",
            "  Downloading GitPython-3.1.26-py3-none-any.whl (180 kB)\n",
            "\u001b[K     |████████████████████████████████| 180 kB 5.3 MB/s \n",
            "\u001b[?25hRequirement already satisfied: jupyter in /usr/local/lib/python3.7/dist-packages (from -r requirements.txt (line 6)) (1.0.0)\n",
            "Requirement already satisfied: numpy in /usr/local/lib/python3.7/dist-packages (from -r requirements.txt (line 7)) (1.19.5)\n",
            "Requirement already satisfied: scipy in /usr/local/lib/python3.7/dist-packages (from -r requirements.txt (line 8)) (1.4.1)\n",
            "Requirement already satisfied: scikit-learn in /usr/local/lib/python3.7/dist-packages (from -r requirements.txt (line 9)) (1.0.2)\n",
            "Requirement already satisfied: tensorboard in /usr/local/lib/python3.7/dist-packages (from -r requirements.txt (line 10)) (2.7.0)\n",
            "Requirement already satisfied: networkx in /usr/local/lib/python3.7/dist-packages (from -r requirements.txt (line 11)) (2.6.3)\n",
            "Collecting igraph\n",
            "  Downloading igraph-0.9.9-cp37-cp37m-manylinux_2_17_x86_64.manylinux2014_x86_64.whl (3.1 MB)\n",
            "\u001b[K     |████████████████████████████████| 3.1 MB 39.2 MB/s \n",
            "\u001b[?25hCollecting pycairo\n",
            "  Downloading pycairo-1.20.1.tar.gz (344 kB)\n",
            "\u001b[K     |████████████████████████████████| 344 kB 34.7 MB/s \n",
            "\u001b[?25h  Installing build dependencies ... \u001b[?25l\u001b[?25hdone\n",
            "  Getting requirements to build wheel ... \u001b[?25l\u001b[?25hdone\n",
            "    Preparing wheel metadata ... \u001b[?25l\u001b[?25hdone\n",
            "Collecting cairocffi\n",
            "  Downloading cairocffi-1.3.0.tar.gz (88 kB)\n",
            "\u001b[K     |████████████████████████████████| 88 kB 7.0 MB/s \n",
            "\u001b[?25hRequirement already satisfied: pyparsing!=2.0.4,!=2.1.2,!=2.1.6,>=2.0.1 in /usr/local/lib/python3.7/dist-packages (from matplotlib->-r requirements.txt (line 4)) (3.0.7)\n",
            "Requirement already satisfied: kiwisolver>=1.0.1 in /usr/local/lib/python3.7/dist-packages (from matplotlib->-r requirements.txt (line 4)) (1.3.2)\n",
            "Requirement already satisfied: cycler>=0.10 in /usr/local/lib/python3.7/dist-packages (from matplotlib->-r requirements.txt (line 4)) (0.11.0)\n",
            "Requirement already satisfied: python-dateutil>=2.1 in /usr/local/lib/python3.7/dist-packages (from matplotlib->-r requirements.txt (line 4)) (2.8.2)\n",
            "Requirement already satisfied: six>=1.5 in /usr/local/lib/python3.7/dist-packages (from python-dateutil>=2.1->matplotlib->-r requirements.txt (line 4)) (1.15.0)\n",
            "Collecting gitdb<5,>=4.0.1\n",
            "  Downloading gitdb-4.0.9-py3-none-any.whl (63 kB)\n",
            "\u001b[K     |████████████████████████████████| 63 kB 1.7 MB/s \n",
            "\u001b[?25hRequirement already satisfied: typing-extensions>=3.7.4.3 in /usr/local/lib/python3.7/dist-packages (from GitPython->-r requirements.txt (line 5)) (3.10.0.2)\n",
            "Collecting smmap<6,>=3.0.1\n",
            "  Downloading smmap-5.0.0-py3-none-any.whl (24 kB)\n",
            "Requirement already satisfied: jupyter-console in /usr/local/lib/python3.7/dist-packages (from jupyter->-r requirements.txt (line 6)) (5.2.0)\n",
            "Requirement already satisfied: nbconvert in /usr/local/lib/python3.7/dist-packages (from jupyter->-r requirements.txt (line 6)) (5.6.1)\n",
            "Requirement already satisfied: notebook in /usr/local/lib/python3.7/dist-packages (from jupyter->-r requirements.txt (line 6)) (5.3.1)\n",
            "Requirement already satisfied: ipywidgets in /usr/local/lib/python3.7/dist-packages (from jupyter->-r requirements.txt (line 6)) (7.6.5)\n",
            "Requirement already satisfied: ipykernel in /usr/local/lib/python3.7/dist-packages (from jupyter->-r requirements.txt (line 6)) (4.10.1)\n",
            "Requirement already satisfied: qtconsole in /usr/local/lib/python3.7/dist-packages (from jupyter->-r requirements.txt (line 6)) (5.2.2)\n",
            "Requirement already satisfied: joblib>=0.11 in /usr/local/lib/python3.7/dist-packages (from scikit-learn->-r requirements.txt (line 9)) (1.1.0)\n",
            "Requirement already satisfied: threadpoolctl>=2.0.0 in /usr/local/lib/python3.7/dist-packages (from scikit-learn->-r requirements.txt (line 9)) (3.1.0)\n",
            "Requirement already satisfied: setuptools>=41.0.0 in /usr/local/lib/python3.7/dist-packages (from tensorboard->-r requirements.txt (line 10)) (57.4.0)\n",
            "Requirement already satisfied: wheel>=0.26 in /usr/local/lib/python3.7/dist-packages (from tensorboard->-r requirements.txt (line 10)) (0.37.1)\n",
            "Requirement already satisfied: google-auth-oauthlib<0.5,>=0.4.1 in /usr/local/lib/python3.7/dist-packages (from tensorboard->-r requirements.txt (line 10)) (0.4.6)\n",
            "Requirement already satisfied: protobuf>=3.6.0 in /usr/local/lib/python3.7/dist-packages (from tensorboard->-r requirements.txt (line 10)) (3.17.3)\n",
            "Requirement already satisfied: requests<3,>=2.21.0 in /usr/local/lib/python3.7/dist-packages (from tensorboard->-r requirements.txt (line 10)) (2.23.0)\n",
            "Requirement already satisfied: werkzeug>=0.11.15 in /usr/local/lib/python3.7/dist-packages (from tensorboard->-r requirements.txt (line 10)) (1.0.1)\n",
            "Requirement already satisfied: google-auth<3,>=1.6.3 in /usr/local/lib/python3.7/dist-packages (from tensorboard->-r requirements.txt (line 10)) (1.35.0)\n",
            "Requirement already satisfied: tensorboard-plugin-wit>=1.6.0 in /usr/local/lib/python3.7/dist-packages (from tensorboard->-r requirements.txt (line 10)) (1.8.1)\n",
            "Requirement already satisfied: markdown>=2.6.8 in /usr/local/lib/python3.7/dist-packages (from tensorboard->-r requirements.txt (line 10)) (3.3.6)\n",
            "Requirement already satisfied: absl-py>=0.4 in /usr/local/lib/python3.7/dist-packages (from tensorboard->-r requirements.txt (line 10)) (1.0.0)\n",
            "Requirement already satisfied: tensorboard-data-server<0.7.0,>=0.6.0 in /usr/local/lib/python3.7/dist-packages (from tensorboard->-r requirements.txt (line 10)) (0.6.1)\n",
            "Requirement already satisfied: grpcio>=1.24.3 in /usr/local/lib/python3.7/dist-packages (from tensorboard->-r requirements.txt (line 10)) (1.43.0)\n",
            "Requirement already satisfied: cachetools<5.0,>=2.0.0 in /usr/local/lib/python3.7/dist-packages (from google-auth<3,>=1.6.3->tensorboard->-r requirements.txt (line 10)) (4.2.4)\n",
            "Requirement already satisfied: rsa<5,>=3.1.4 in /usr/local/lib/python3.7/dist-packages (from google-auth<3,>=1.6.3->tensorboard->-r requirements.txt (line 10)) (4.8)\n",
            "Requirement already satisfied: pyasn1-modules>=0.2.1 in /usr/local/lib/python3.7/dist-packages (from google-auth<3,>=1.6.3->tensorboard->-r requirements.txt (line 10)) (0.2.8)\n",
            "Requirement already satisfied: requests-oauthlib>=0.7.0 in /usr/local/lib/python3.7/dist-packages (from google-auth-oauthlib<0.5,>=0.4.1->tensorboard->-r requirements.txt (line 10)) (1.3.1)\n",
            "Requirement already satisfied: importlib-metadata>=4.4 in /usr/local/lib/python3.7/dist-packages (from markdown>=2.6.8->tensorboard->-r requirements.txt (line 10)) (4.10.1)\n",
            "Requirement already satisfied: zipp>=0.5 in /usr/local/lib/python3.7/dist-packages (from importlib-metadata>=4.4->markdown>=2.6.8->tensorboard->-r requirements.txt (line 10)) (3.7.0)\n",
            "Requirement already satisfied: pyasn1<0.5.0,>=0.4.6 in /usr/local/lib/python3.7/dist-packages (from pyasn1-modules>=0.2.1->google-auth<3,>=1.6.3->tensorboard->-r requirements.txt (line 10)) (0.4.8)\n",
            "Requirement already satisfied: certifi>=2017.4.17 in /usr/local/lib/python3.7/dist-packages (from requests<3,>=2.21.0->tensorboard->-r requirements.txt (line 10)) (2021.10.8)\n",
            "Requirement already satisfied: urllib3!=1.25.0,!=1.25.1,<1.26,>=1.21.1 in /usr/local/lib/python3.7/dist-packages (from requests<3,>=2.21.0->tensorboard->-r requirements.txt (line 10)) (1.24.3)\n",
            "Requirement already satisfied: chardet<4,>=3.0.2 in /usr/local/lib/python3.7/dist-packages (from requests<3,>=2.21.0->tensorboard->-r requirements.txt (line 10)) (3.0.4)\n",
            "Requirement already satisfied: idna<3,>=2.5 in /usr/local/lib/python3.7/dist-packages (from requests<3,>=2.21.0->tensorboard->-r requirements.txt (line 10)) (2.10)\n",
            "Requirement already satisfied: oauthlib>=3.0.0 in /usr/local/lib/python3.7/dist-packages (from requests-oauthlib>=0.7.0->google-auth-oauthlib<0.5,>=0.4.1->tensorboard->-r requirements.txt (line 10)) (3.2.0)\n",
            "Collecting texttable>=1.6.2\n",
            "  Downloading texttable-1.6.4-py2.py3-none-any.whl (10 kB)\n",
            "Requirement already satisfied: cffi>=1.1.0 in /usr/local/lib/python3.7/dist-packages (from cairocffi->-r requirements.txt (line 14)) (1.15.0)\n",
            "Requirement already satisfied: pycparser in /usr/local/lib/python3.7/dist-packages (from cffi>=1.1.0->cairocffi->-r requirements.txt (line 14)) (2.21)\n",
            "Requirement already satisfied: ipython>=4.0.0 in /usr/local/lib/python3.7/dist-packages (from ipykernel->jupyter->-r requirements.txt (line 6)) (5.5.0)\n",
            "Requirement already satisfied: tornado>=4.0 in /usr/local/lib/python3.7/dist-packages (from ipykernel->jupyter->-r requirements.txt (line 6)) (5.1.1)\n",
            "Requirement already satisfied: jupyter-client in /usr/local/lib/python3.7/dist-packages (from ipykernel->jupyter->-r requirements.txt (line 6)) (5.3.5)\n",
            "Requirement already satisfied: traitlets>=4.1.0 in /usr/local/lib/python3.7/dist-packages (from ipykernel->jupyter->-r requirements.txt (line 6)) (5.1.1)\n",
            "Requirement already satisfied: pexpect in /usr/local/lib/python3.7/dist-packages (from ipython>=4.0.0->ipykernel->jupyter->-r requirements.txt (line 6)) (4.8.0)\n",
            "Requirement already satisfied: prompt-toolkit<2.0.0,>=1.0.4 in /usr/local/lib/python3.7/dist-packages (from ipython>=4.0.0->ipykernel->jupyter->-r requirements.txt (line 6)) (1.0.18)\n",
            "Requirement already satisfied: pickleshare in /usr/local/lib/python3.7/dist-packages (from ipython>=4.0.0->ipykernel->jupyter->-r requirements.txt (line 6)) (0.7.5)\n",
            "Requirement already satisfied: simplegeneric>0.8 in /usr/local/lib/python3.7/dist-packages (from ipython>=4.0.0->ipykernel->jupyter->-r requirements.txt (line 6)) (0.8.1)\n",
            "Requirement already satisfied: decorator in /usr/local/lib/python3.7/dist-packages (from ipython>=4.0.0->ipykernel->jupyter->-r requirements.txt (line 6)) (4.4.2)\n",
            "Requirement already satisfied: pygments in /usr/local/lib/python3.7/dist-packages (from ipython>=4.0.0->ipykernel->jupyter->-r requirements.txt (line 6)) (2.6.1)\n",
            "Requirement already satisfied: wcwidth in /usr/local/lib/python3.7/dist-packages (from prompt-toolkit<2.0.0,>=1.0.4->ipython>=4.0.0->ipykernel->jupyter->-r requirements.txt (line 6)) (0.2.5)\n",
            "Requirement already satisfied: ipython-genutils~=0.2.0 in /usr/local/lib/python3.7/dist-packages (from ipywidgets->jupyter->-r requirements.txt (line 6)) (0.2.0)\n",
            "Requirement already satisfied: nbformat>=4.2.0 in /usr/local/lib/python3.7/dist-packages (from ipywidgets->jupyter->-r requirements.txt (line 6)) (5.1.3)\n",
            "Requirement already satisfied: jupyterlab-widgets>=1.0.0 in /usr/local/lib/python3.7/dist-packages (from ipywidgets->jupyter->-r requirements.txt (line 6)) (1.0.2)\n",
            "Requirement already satisfied: widgetsnbextension~=3.5.0 in /usr/local/lib/python3.7/dist-packages (from ipywidgets->jupyter->-r requirements.txt (line 6)) (3.5.2)\n",
            "Requirement already satisfied: jsonschema!=2.5.0,>=2.4 in /usr/local/lib/python3.7/dist-packages (from nbformat>=4.2.0->ipywidgets->jupyter->-r requirements.txt (line 6)) (4.3.3)\n",
            "Requirement already satisfied: jupyter-core in /usr/local/lib/python3.7/dist-packages (from nbformat>=4.2.0->ipywidgets->jupyter->-r requirements.txt (line 6)) (4.9.1)\n",
            "Requirement already satisfied: pyrsistent!=0.17.0,!=0.17.1,!=0.17.2,>=0.14.0 in /usr/local/lib/python3.7/dist-packages (from jsonschema!=2.5.0,>=2.4->nbformat>=4.2.0->ipywidgets->jupyter->-r requirements.txt (line 6)) (0.18.1)\n",
            "Requirement already satisfied: importlib-resources>=1.4.0 in /usr/local/lib/python3.7/dist-packages (from jsonschema!=2.5.0,>=2.4->nbformat>=4.2.0->ipywidgets->jupyter->-r requirements.txt (line 6)) (5.4.0)\n",
            "Requirement already satisfied: attrs>=17.4.0 in /usr/local/lib/python3.7/dist-packages (from jsonschema!=2.5.0,>=2.4->nbformat>=4.2.0->ipywidgets->jupyter->-r requirements.txt (line 6)) (21.4.0)\n",
            "Requirement already satisfied: terminado>=0.8.1 in /usr/local/lib/python3.7/dist-packages (from notebook->jupyter->-r requirements.txt (line 6)) (0.13.1)\n",
            "Requirement already satisfied: Send2Trash in /usr/local/lib/python3.7/dist-packages (from notebook->jupyter->-r requirements.txt (line 6)) (1.8.0)\n",
            "Requirement already satisfied: jinja2 in /usr/local/lib/python3.7/dist-packages (from notebook->jupyter->-r requirements.txt (line 6)) (2.11.3)\n",
            "Requirement already satisfied: pyzmq>=13 in /usr/local/lib/python3.7/dist-packages (from jupyter-client->ipykernel->jupyter->-r requirements.txt (line 6)) (22.3.0)\n",
            "Requirement already satisfied: ptyprocess in /usr/local/lib/python3.7/dist-packages (from terminado>=0.8.1->notebook->jupyter->-r requirements.txt (line 6)) (0.7.0)\n",
            "Requirement already satisfied: MarkupSafe>=0.23 in /usr/local/lib/python3.7/dist-packages (from jinja2->notebook->jupyter->-r requirements.txt (line 6)) (2.0.1)\n",
            "Requirement already satisfied: pandocfilters>=1.4.1 in /usr/local/lib/python3.7/dist-packages (from nbconvert->jupyter->-r requirements.txt (line 6)) (1.5.0)\n",
            "Requirement already satisfied: bleach in /usr/local/lib/python3.7/dist-packages (from nbconvert->jupyter->-r requirements.txt (line 6)) (4.1.0)\n",
            "Requirement already satisfied: testpath in /usr/local/lib/python3.7/dist-packages (from nbconvert->jupyter->-r requirements.txt (line 6)) (0.5.0)\n",
            "Requirement already satisfied: defusedxml in /usr/local/lib/python3.7/dist-packages (from nbconvert->jupyter->-r requirements.txt (line 6)) (0.7.1)\n",
            "Requirement already satisfied: entrypoints>=0.2.2 in /usr/local/lib/python3.7/dist-packages (from nbconvert->jupyter->-r requirements.txt (line 6)) (0.4)\n",
            "Requirement already satisfied: mistune<2,>=0.8.1 in /usr/local/lib/python3.7/dist-packages (from nbconvert->jupyter->-r requirements.txt (line 6)) (0.8.4)\n",
            "Requirement already satisfied: webencodings in /usr/local/lib/python3.7/dist-packages (from bleach->nbconvert->jupyter->-r requirements.txt (line 6)) (0.5.1)\n",
            "Requirement already satisfied: packaging in /usr/local/lib/python3.7/dist-packages (from bleach->nbconvert->jupyter->-r requirements.txt (line 6)) (21.3)\n",
            "Requirement already satisfied: qtpy in /usr/local/lib/python3.7/dist-packages (from qtconsole->jupyter->-r requirements.txt (line 6)) (2.0.1)\n",
            "Building wheels for collected packages: pycairo, cairocffi\n",
            "  Building wheel for pycairo (PEP 517) ... \u001b[?25l\u001b[?25herror\n",
            "\u001b[31m  ERROR: Failed building wheel for pycairo\u001b[0m\n",
            "  Building wheel for cairocffi (setup.py) ... \u001b[?25l\u001b[?25hdone\n",
            "  Created wheel for cairocffi: filename=cairocffi-1.3.0-py3-none-any.whl size=89668 sha256=415965dd36c56ffe8104c6435d537004caf3cbc474489b2069c7e0c8e413a27e\n",
            "  Stored in directory: /root/.cache/pip/wheels/4e/ca/e1/5c8a9692a27f639a07c949044bec943f26c81cd53d3805319f\n",
            "Successfully built cairocffi\n",
            "Failed to build pycairo\n",
            "\u001b[31mERROR: Could not build wheels for pycairo which use PEP 517 and cannot be installed directly\u001b[0m\n"
          ]
        }
      ],
      "source": [
        "!pip install -r requirements.txt"
      ]
    },
    {
      "cell_type": "code",
      "execution_count": 6,
      "id": "L6LcpR06R-NY",
      "metadata": {
        "colab": {
          "base_uri": "https://localhost:8080/"
        },
        "id": "L6LcpR06R-NY",
        "outputId": "c05b21e3-a206-4041-e725-12e8ab6e7d8f"
      },
      "outputs": [
        {
          "name": "stdout",
          "output_type": "stream",
          "text": [
            "Reading package lists... Done\n",
            "Building dependency tree       \n",
            "Reading state information... Done\n",
            "libcairo2 is already the newest version (1.15.10-2ubuntu0.1).\n",
            "libcairo2 set to manually installed.\n",
            "The following packages were automatically installed and are no longer required:\n",
            "  cuda-command-line-tools-10-0 cuda-command-line-tools-10-1\n",
            "  cuda-command-line-tools-11-0 cuda-compiler-10-0 cuda-compiler-10-1\n",
            "  cuda-compiler-11-0 cuda-cuobjdump-10-0 cuda-cuobjdump-10-1\n",
            "  cuda-cuobjdump-11-0 cuda-cupti-10-0 cuda-cupti-10-1 cuda-cupti-11-0\n",
            "  cuda-cupti-dev-11-0 cuda-documentation-10-0 cuda-documentation-10-1\n",
            "  cuda-documentation-11-0 cuda-documentation-11-1 cuda-gdb-10-0 cuda-gdb-10-1\n",
            "  cuda-gdb-11-0 cuda-gpu-library-advisor-10-0 cuda-gpu-library-advisor-10-1\n",
            "  cuda-libraries-10-0 cuda-libraries-10-1 cuda-libraries-11-0\n",
            "  cuda-memcheck-10-0 cuda-memcheck-10-1 cuda-memcheck-11-0 cuda-nsight-10-0\n",
            "  cuda-nsight-10-1 cuda-nsight-11-0 cuda-nsight-11-1 cuda-nsight-compute-10-0\n",
            "  cuda-nsight-compute-10-1 cuda-nsight-compute-11-0 cuda-nsight-compute-11-1\n",
            "  cuda-nsight-systems-10-1 cuda-nsight-systems-11-0 cuda-nsight-systems-11-1\n",
            "  cuda-nvcc-10-0 cuda-nvcc-10-1 cuda-nvcc-11-0 cuda-nvdisasm-10-0\n",
            "  cuda-nvdisasm-10-1 cuda-nvdisasm-11-0 cuda-nvml-dev-10-0 cuda-nvml-dev-10-1\n",
            "  cuda-nvml-dev-11-0 cuda-nvprof-10-0 cuda-nvprof-10-1 cuda-nvprof-11-0\n",
            "  cuda-nvprune-10-0 cuda-nvprune-10-1 cuda-nvprune-11-0 cuda-nvtx-10-0\n",
            "  cuda-nvtx-10-1 cuda-nvtx-11-0 cuda-nvvp-10-0 cuda-nvvp-10-1 cuda-nvvp-11-0\n",
            "  cuda-nvvp-11-1 cuda-samples-10-0 cuda-samples-10-1 cuda-samples-11-0\n",
            "  cuda-samples-11-1 cuda-sanitizer-11-0 cuda-sanitizer-api-10-1\n",
            "  cuda-toolkit-10-0 cuda-toolkit-10-1 cuda-toolkit-11-0 cuda-toolkit-11-1\n",
            "  cuda-tools-10-0 cuda-tools-10-1 cuda-tools-11-0 cuda-tools-11-1\n",
            "  cuda-visual-tools-10-0 cuda-visual-tools-10-1 cuda-visual-tools-11-0\n",
            "  cuda-visual-tools-11-1 default-jre dkms freeglut3 freeglut3-dev\n",
            "  keyboard-configuration libargon2-0 libcap2 libcryptsetup12\n",
            "  libdevmapper1.02.1 libfontenc1 libidn11 libip4tc0 libjansson4\n",
            "  libnvidia-cfg1-510 libnvidia-common-460 libnvidia-common-510\n",
            "  libnvidia-extra-510 libnvidia-fbc1-510 libnvidia-gl-510 libpam-systemd\n",
            "  libpolkit-agent-1-0 libpolkit-backend-1-0 libpolkit-gobject-1-0 libxfont2\n",
            "  libxi-dev libxkbfile1 libxmu-dev libxmu-headers libxnvctrl0 libxtst6\n",
            "  nsight-compute-2020.2.1 nsight-compute-2022.1.0 nsight-systems-2020.3.2\n",
            "  nsight-systems-2020.3.4 nsight-systems-2021.5.2 nvidia-dkms-510\n",
            "  nvidia-kernel-common-510 nvidia-kernel-source-510 nvidia-modprobe\n",
            "  nvidia-settings openjdk-11-jre policykit-1 policykit-1-gnome python3-xkit\n",
            "  screen-resolution-extra systemd systemd-sysv udev x11-xkb-utils\n",
            "  xserver-common xserver-xorg-core-hwe-18.04 xserver-xorg-video-nvidia-510\n",
            "Use 'apt autoremove' to remove them.\n",
            "The following additional packages will be installed:\n",
            "  gir1.2-freedesktop gobject-introspection libffi-dev python3-mako\n",
            "  python3-markupsafe\n",
            "Suggested packages:\n",
            "  libgirepository1.0-doc python3-beaker python-mako-doc\n",
            "The following NEW packages will be installed:\n",
            "  gir1.2-freedesktop gobject-introspection libffi-dev libgirepository1.0-dev\n",
            "  python3-cairo python3-mako python3-markupsafe\n",
            "0 upgraded, 7 newly installed, 0 to remove and 39 not upgraded.\n",
            "Need to get 1,247 kB of archives.\n",
            "After this operation, 10.7 MB of additional disk space will be used.\n",
            "Get:1 http://archive.ubuntu.com/ubuntu bionic/main amd64 gir1.2-freedesktop amd64 1.56.1-1 [9,080 B]\n",
            "Get:2 http://archive.ubuntu.com/ubuntu bionic/main amd64 python3-markupsafe amd64 1.0-1build1 [13.5 kB]\n",
            "Get:3 http://archive.ubuntu.com/ubuntu bionic/main amd64 python3-mako all 1.0.7+ds1-1 [59.3 kB]\n",
            "Get:4 http://archive.ubuntu.com/ubuntu bionic/main amd64 gobject-introspection amd64 1.56.1-1 [270 kB]\n",
            "Get:5 http://archive.ubuntu.com/ubuntu bionic/main amd64 libffi-dev amd64 3.2.1-8 [156 kB]\n",
            "Get:6 http://archive.ubuntu.com/ubuntu bionic/main amd64 libgirepository1.0-dev amd64 1.56.1-1 [683 kB]\n",
            "Get:7 http://archive.ubuntu.com/ubuntu bionic/main amd64 python3-cairo amd64 1.16.2-1 [56.1 kB]\n",
            "Fetched 1,247 kB in 1s (1,247 kB/s)\n",
            "Selecting previously unselected package gir1.2-freedesktop:amd64.\n",
            "(Reading database ... 155113 files and directories currently installed.)\n",
            "Preparing to unpack .../0-gir1.2-freedesktop_1.56.1-1_amd64.deb ...\n",
            "Unpacking gir1.2-freedesktop:amd64 (1.56.1-1) ...\n",
            "Selecting previously unselected package python3-markupsafe.\n",
            "Preparing to unpack .../1-python3-markupsafe_1.0-1build1_amd64.deb ...\n",
            "Unpacking python3-markupsafe (1.0-1build1) ...\n",
            "Selecting previously unselected package python3-mako.\n",
            "Preparing to unpack .../2-python3-mako_1.0.7+ds1-1_all.deb ...\n",
            "Unpacking python3-mako (1.0.7+ds1-1) ...\n",
            "Selecting previously unselected package gobject-introspection.\n",
            "Preparing to unpack .../3-gobject-introspection_1.56.1-1_amd64.deb ...\n",
            "Unpacking gobject-introspection (1.56.1-1) ...\n",
            "Selecting previously unselected package libffi-dev:amd64.\n",
            "Preparing to unpack .../4-libffi-dev_3.2.1-8_amd64.deb ...\n",
            "Unpacking libffi-dev:amd64 (3.2.1-8) ...\n",
            "Selecting previously unselected package libgirepository1.0-dev:amd64.\n",
            "Preparing to unpack .../5-libgirepository1.0-dev_1.56.1-1_amd64.deb ...\n",
            "Unpacking libgirepository1.0-dev:amd64 (1.56.1-1) ...\n",
            "Selecting previously unselected package python3-cairo:amd64.\n",
            "Preparing to unpack .../6-python3-cairo_1.16.2-1_amd64.deb ...\n",
            "Unpacking python3-cairo:amd64 (1.16.2-1) ...\n",
            "Setting up gir1.2-freedesktop:amd64 (1.56.1-1) ...\n",
            "Setting up libffi-dev:amd64 (3.2.1-8) ...\n",
            "Setting up python3-markupsafe (1.0-1build1) ...\n",
            "Setting up python3-cairo:amd64 (1.16.2-1) ...\n",
            "Setting up python3-mako (1.0.7+ds1-1) ...\n",
            "Setting up gobject-introspection (1.56.1-1) ...\n",
            "Setting up libgirepository1.0-dev:amd64 (1.56.1-1) ...\n",
            "Processing triggers for man-db (2.8.3-2ubuntu0.1) ...\n"
          ]
        }
      ],
      "source": [
        "!apt install libgirepository1.0-dev python3-cairo libcairo2"
      ]
    },
    {
      "cell_type": "code",
      "execution_count": 7,
      "id": "3qWRt8q7Rw4i",
      "metadata": {
        "colab": {
          "base_uri": "https://localhost:8080/"
        },
        "id": "3qWRt8q7Rw4i",
        "outputId": "1a4dfbc4-1b67-42ff-9558-06229bdb42d0"
      },
      "outputs": [
        {
          "name": "stdout",
          "output_type": "stream",
          "text": [
            "Requirement already satisfied: pycairo in /usr/lib/python3/dist-packages (1.16.2)\n"
          ]
        }
      ],
      "source": [
        "!pip install pycairo"
      ]
    },
    {
      "cell_type": "code",
      "execution_count": 8,
      "id": "Rv1QVVwASgY-",
      "metadata": {
        "colab": {
          "base_uri": "https://localhost:8080/"
        },
        "id": "Rv1QVVwASgY-",
        "outputId": "a2814333-da0e-474c-f674-bc743ba7e1c6"
      },
      "outputs": [
        {
          "name": "stdout",
          "output_type": "stream",
          "text": [
            "Collecting igraph\n",
            "  Using cached igraph-0.9.9-cp37-cp37m-manylinux_2_17_x86_64.manylinux2014_x86_64.whl (3.1 MB)\n",
            "Collecting texttable>=1.6.2\n",
            "  Using cached texttable-1.6.4-py2.py3-none-any.whl (10 kB)\n",
            "Installing collected packages: texttable, igraph\n",
            "Successfully installed igraph-0.9.9 texttable-1.6.4\n"
          ]
        }
      ],
      "source": [
        "!pip install igraph"
      ]
    },
    {
      "cell_type": "code",
      "execution_count": 9,
      "id": "wB-Vj_CvV1hU",
      "metadata": {
        "colab": {
          "base_uri": "https://localhost:8080/"
        },
        "id": "wB-Vj_CvV1hU",
        "outputId": "a8f24fac-6554-4b99-e903-ff3932333f84"
      },
      "outputs": [
        {
          "name": "stdout",
          "output_type": "stream",
          "text": [
            "Requirement already satisfied: igraph in /usr/local/lib/python3.7/dist-packages (0.9.9)\n",
            "Requirement already satisfied: pycairo in /usr/lib/python3/dist-packages (1.16.2)\n",
            "Collecting cairocffi\n",
            "  Using cached cairocffi-1.3.0-py3-none-any.whl\n",
            "Requirement already satisfied: texttable>=1.6.2 in /usr/local/lib/python3.7/dist-packages (from igraph) (1.6.4)\n",
            "Requirement already satisfied: cffi>=1.1.0 in /usr/local/lib/python3.7/dist-packages (from cairocffi) (1.15.0)\n",
            "Requirement already satisfied: pycparser in /usr/local/lib/python3.7/dist-packages (from cffi>=1.1.0->cairocffi) (2.21)\n",
            "Installing collected packages: cairocffi\n",
            "Successfully installed cairocffi-1.3.0\n"
          ]
        }
      ],
      "source": [
        "!pip install igraph pycairo cairocffi"
      ]
    },
    {
      "cell_type": "code",
      "execution_count": 10,
      "id": "SmgeDqvqYQ71",
      "metadata": {
        "colab": {
          "base_uri": "https://localhost:8080/"
        },
        "id": "SmgeDqvqYQ71",
        "outputId": "70a10d9b-ca93-43c0-9d52-aeda36dfa208"
      },
      "outputs": [
        {
          "name": "stdout",
          "output_type": "stream",
          "text": [
            "Collecting GitPython\n",
            "  Using cached GitPython-3.1.26-py3-none-any.whl (180 kB)\n",
            "Requirement already satisfied: typing-extensions>=3.7.4.3 in /usr/local/lib/python3.7/dist-packages (from GitPython) (3.10.0.2)\n",
            "Collecting gitdb<5,>=4.0.1\n",
            "  Using cached gitdb-4.0.9-py3-none-any.whl (63 kB)\n",
            "Collecting smmap<6,>=3.0.1\n",
            "  Using cached smmap-5.0.0-py3-none-any.whl (24 kB)\n",
            "Installing collected packages: smmap, gitdb, GitPython\n",
            "Successfully installed GitPython-3.1.26 gitdb-4.0.9 smmap-5.0.0\n"
          ]
        }
      ],
      "source": [
        "!pip install GitPython"
      ]
    },
    {
      "cell_type": "code",
      "execution_count": 11,
      "id": "hZkBi3x541Sx",
      "metadata": {
        "colab": {
          "base_uri": "https://localhost:8080/"
        },
        "id": "hZkBi3x541Sx",
        "outputId": "94ca9d21-5bca-4736-bdda-e0dd9e9f6413"
      },
      "outputs": [
        {
          "name": "stdout",
          "output_type": "stream",
          "text": [
            "Requirement already satisfied: nltk in /usr/local/lib/python3.7/dist-packages (3.2.5)\n",
            "Requirement already satisfied: six in /usr/local/lib/python3.7/dist-packages (from nltk) (1.15.0)\n"
          ]
        }
      ],
      "source": [
        "!pip install nltk"
      ]
    },
    {
      "cell_type": "code",
      "execution_count": 12,
      "id": "sFM5JeIm49lW",
      "metadata": {
        "colab": {
          "base_uri": "https://localhost:8080/"
        },
        "id": "sFM5JeIm49lW",
        "outputId": "121314e1-34d7-4468-de47-73e80c54238d"
      },
      "outputs": [
        {
          "name": "stdout",
          "output_type": "stream",
          "text": [
            "Looking in links: https://data.pyg.org/whl/torch-1.10.0+cu111.html\n",
            "Collecting torch-scatter\n",
            "  Downloading https://data.pyg.org/whl/torch-1.10.0%2Bcu113/torch_scatter-2.0.9-cp37-cp37m-linux_x86_64.whl (7.9 MB)\n",
            "\u001b[K     |████████████████████████████████| 7.9 MB 5.4 MB/s \n",
            "\u001b[?25hInstalling collected packages: torch-scatter\n",
            "Successfully installed torch-scatter-2.0.9\n",
            "Looking in links: https://data.pyg.org/whl/torch-1.10.0+cu111.html\n",
            "Collecting torch-sparse\n",
            "  Downloading https://data.pyg.org/whl/torch-1.10.0%2Bcu113/torch_sparse-0.6.12-cp37-cp37m-linux_x86_64.whl (3.5 MB)\n",
            "\u001b[K     |████████████████████████████████| 3.5 MB 5.0 MB/s \n",
            "\u001b[?25hRequirement already satisfied: scipy in /usr/local/lib/python3.7/dist-packages (from torch-sparse) (1.4.1)\n",
            "Requirement already satisfied: numpy>=1.13.3 in /usr/local/lib/python3.7/dist-packages (from scipy->torch-sparse) (1.19.5)\n",
            "Installing collected packages: torch-sparse\n",
            "Successfully installed torch-sparse-0.6.12\n",
            "Collecting torch-geometric\n",
            "  Downloading torch_geometric-2.0.3.tar.gz (370 kB)\n",
            "\u001b[K     |████████████████████████████████| 370 kB 5.6 MB/s \n",
            "\u001b[?25hRequirement already satisfied: numpy in /usr/local/lib/python3.7/dist-packages (from torch-geometric) (1.19.5)\n",
            "Requirement already satisfied: tqdm in /usr/local/lib/python3.7/dist-packages (from torch-geometric) (4.62.3)\n",
            "Requirement already satisfied: scipy in /usr/local/lib/python3.7/dist-packages (from torch-geometric) (1.4.1)\n",
            "Requirement already satisfied: networkx in /usr/local/lib/python3.7/dist-packages (from torch-geometric) (2.6.3)\n",
            "Requirement already satisfied: scikit-learn in /usr/local/lib/python3.7/dist-packages (from torch-geometric) (1.0.2)\n",
            "Requirement already satisfied: requests in /usr/local/lib/python3.7/dist-packages (from torch-geometric) (2.23.0)\n",
            "Requirement already satisfied: pandas in /usr/local/lib/python3.7/dist-packages (from torch-geometric) (1.3.5)\n",
            "Collecting rdflib\n",
            "  Downloading rdflib-6.1.1-py3-none-any.whl (482 kB)\n",
            "\u001b[K     |████████████████████████████████| 482 kB 23.6 MB/s \n",
            "\u001b[?25hRequirement already satisfied: googledrivedownloader in /usr/local/lib/python3.7/dist-packages (from torch-geometric) (0.4)\n",
            "Requirement already satisfied: jinja2 in /usr/local/lib/python3.7/dist-packages (from torch-geometric) (2.11.3)\n",
            "Requirement already satisfied: pyparsing in /usr/local/lib/python3.7/dist-packages (from torch-geometric) (3.0.7)\n",
            "Collecting yacs\n",
            "  Downloading yacs-0.1.8-py3-none-any.whl (14 kB)\n",
            "Requirement already satisfied: PyYAML in /usr/local/lib/python3.7/dist-packages (from torch-geometric) (3.13)\n",
            "Requirement already satisfied: MarkupSafe>=0.23 in /usr/local/lib/python3.7/dist-packages (from jinja2->torch-geometric) (2.0.1)\n",
            "Requirement already satisfied: python-dateutil>=2.7.3 in /usr/local/lib/python3.7/dist-packages (from pandas->torch-geometric) (2.8.2)\n",
            "Requirement already satisfied: pytz>=2017.3 in /usr/local/lib/python3.7/dist-packages (from pandas->torch-geometric) (2018.9)\n",
            "Requirement already satisfied: six>=1.5 in /usr/local/lib/python3.7/dist-packages (from python-dateutil>=2.7.3->pandas->torch-geometric) (1.15.0)\n",
            "Collecting isodate\n",
            "  Downloading isodate-0.6.1-py2.py3-none-any.whl (41 kB)\n",
            "\u001b[K     |████████████████████████████████| 41 kB 539 kB/s \n",
            "\u001b[?25hRequirement already satisfied: setuptools in /usr/local/lib/python3.7/dist-packages (from rdflib->torch-geometric) (57.4.0)\n",
            "Requirement already satisfied: importlib-metadata in /usr/local/lib/python3.7/dist-packages (from rdflib->torch-geometric) (4.10.1)\n",
            "Requirement already satisfied: typing-extensions>=3.6.4 in /usr/local/lib/python3.7/dist-packages (from importlib-metadata->rdflib->torch-geometric) (3.10.0.2)\n",
            "Requirement already satisfied: zipp>=0.5 in /usr/local/lib/python3.7/dist-packages (from importlib-metadata->rdflib->torch-geometric) (3.7.0)\n",
            "Requirement already satisfied: chardet<4,>=3.0.2 in /usr/local/lib/python3.7/dist-packages (from requests->torch-geometric) (3.0.4)\n",
            "Requirement already satisfied: certifi>=2017.4.17 in /usr/local/lib/python3.7/dist-packages (from requests->torch-geometric) (2021.10.8)\n",
            "Requirement already satisfied: urllib3!=1.25.0,!=1.25.1,<1.26,>=1.21.1 in /usr/local/lib/python3.7/dist-packages (from requests->torch-geometric) (1.24.3)\n",
            "Requirement already satisfied: idna<3,>=2.5 in /usr/local/lib/python3.7/dist-packages (from requests->torch-geometric) (2.10)\n",
            "Requirement already satisfied: joblib>=0.11 in /usr/local/lib/python3.7/dist-packages (from scikit-learn->torch-geometric) (1.1.0)\n",
            "Requirement already satisfied: threadpoolctl>=2.0.0 in /usr/local/lib/python3.7/dist-packages (from scikit-learn->torch-geometric) (3.1.0)\n",
            "Building wheels for collected packages: torch-geometric\n",
            "  Building wheel for torch-geometric (setup.py) ... \u001b[?25l\u001b[?25hdone\n",
            "  Created wheel for torch-geometric: filename=torch_geometric-2.0.3-py3-none-any.whl size=581968 sha256=54afccd630981780108bf4636251933e29f03920eeaddb45294c52f8ba470577\n",
            "  Stored in directory: /root/.cache/pip/wheels/c3/2a/58/87ce0508964d4def1aafb92750c4f3ac77038efd1b9a89dcf5\n",
            "Successfully built torch-geometric\n",
            "Installing collected packages: isodate, yacs, rdflib, torch-geometric\n",
            "Successfully installed isodate-0.6.1 rdflib-6.1.1 torch-geometric-2.0.3 yacs-0.1.8\n"
          ]
        }
      ],
      "source": [
        "!pip install torch-scatter -f https://data.pyg.org/whl/torch-1.10.0+cu111.html\n",
        "!pip install torch-sparse -f https://data.pyg.org/whl/torch-1.10.0+cu111.html\n",
        "!pip install torch-geometric"
      ]
    },
    {
      "cell_type": "code",
      "execution_count": 13,
      "id": "JjiASgG95DHK",
      "metadata": {
        "colab": {
          "base_uri": "https://localhost:8080/"
        },
        "id": "JjiASgG95DHK",
        "outputId": "b6927241-9dde-4e0d-f159-a9b8b10d04e6"
      },
      "outputs": [
        {
          "name": "stdout",
          "output_type": "stream",
          "text": [
            "Reading package lists... Done\n",
            "Building dependency tree       \n",
            "Reading state information... Done\n",
            "graphviz is already the newest version (2.40.1-2).\n",
            "The following packages were automatically installed and are no longer required:\n",
            "  cuda-command-line-tools-10-0 cuda-command-line-tools-10-1\n",
            "  cuda-command-line-tools-11-0 cuda-compiler-10-0 cuda-compiler-10-1\n",
            "  cuda-compiler-11-0 cuda-cuobjdump-10-0 cuda-cuobjdump-10-1\n",
            "  cuda-cuobjdump-11-0 cuda-cupti-10-0 cuda-cupti-10-1 cuda-cupti-11-0\n",
            "  cuda-cupti-dev-11-0 cuda-documentation-10-0 cuda-documentation-10-1\n",
            "  cuda-documentation-11-0 cuda-documentation-11-1 cuda-gdb-10-0 cuda-gdb-10-1\n",
            "  cuda-gdb-11-0 cuda-gpu-library-advisor-10-0 cuda-gpu-library-advisor-10-1\n",
            "  cuda-libraries-10-0 cuda-libraries-10-1 cuda-libraries-11-0\n",
            "  cuda-memcheck-10-0 cuda-memcheck-10-1 cuda-memcheck-11-0 cuda-nsight-10-0\n",
            "  cuda-nsight-10-1 cuda-nsight-11-0 cuda-nsight-11-1 cuda-nsight-compute-10-0\n",
            "  cuda-nsight-compute-10-1 cuda-nsight-compute-11-0 cuda-nsight-compute-11-1\n",
            "  cuda-nsight-systems-10-1 cuda-nsight-systems-11-0 cuda-nsight-systems-11-1\n",
            "  cuda-nvcc-10-0 cuda-nvcc-10-1 cuda-nvcc-11-0 cuda-nvdisasm-10-0\n",
            "  cuda-nvdisasm-10-1 cuda-nvdisasm-11-0 cuda-nvml-dev-10-0 cuda-nvml-dev-10-1\n",
            "  cuda-nvml-dev-11-0 cuda-nvprof-10-0 cuda-nvprof-10-1 cuda-nvprof-11-0\n",
            "  cuda-nvprune-10-0 cuda-nvprune-10-1 cuda-nvprune-11-0 cuda-nvtx-10-0\n",
            "  cuda-nvtx-10-1 cuda-nvtx-11-0 cuda-nvvp-10-0 cuda-nvvp-10-1 cuda-nvvp-11-0\n",
            "  cuda-nvvp-11-1 cuda-samples-10-0 cuda-samples-10-1 cuda-samples-11-0\n",
            "  cuda-samples-11-1 cuda-sanitizer-11-0 cuda-sanitizer-api-10-1\n",
            "  cuda-toolkit-10-0 cuda-toolkit-10-1 cuda-toolkit-11-0 cuda-toolkit-11-1\n",
            "  cuda-tools-10-0 cuda-tools-10-1 cuda-tools-11-0 cuda-tools-11-1\n",
            "  cuda-visual-tools-10-0 cuda-visual-tools-10-1 cuda-visual-tools-11-0\n",
            "  cuda-visual-tools-11-1 default-jre dkms freeglut3 freeglut3-dev\n",
            "  keyboard-configuration libargon2-0 libcap2 libcryptsetup12\n",
            "  libdevmapper1.02.1 libfontenc1 libidn11 libip4tc0 libjansson4\n",
            "  libnvidia-cfg1-510 libnvidia-common-460 libnvidia-common-510\n",
            "  libnvidia-extra-510 libnvidia-fbc1-510 libnvidia-gl-510 libpam-systemd\n",
            "  libpolkit-agent-1-0 libpolkit-backend-1-0 libpolkit-gobject-1-0 libxfont2\n",
            "  libxi-dev libxkbfile1 libxmu-dev libxmu-headers libxnvctrl0 libxtst6\n",
            "  nsight-compute-2020.2.1 nsight-compute-2022.1.0 nsight-systems-2020.3.2\n",
            "  nsight-systems-2020.3.4 nsight-systems-2021.5.2 nvidia-dkms-510\n",
            "  nvidia-kernel-common-510 nvidia-kernel-source-510 nvidia-modprobe\n",
            "  nvidia-settings openjdk-11-jre policykit-1 policykit-1-gnome python3-xkit\n",
            "  screen-resolution-extra systemd systemd-sysv udev x11-xkb-utils\n",
            "  xserver-common xserver-xorg-core-hwe-18.04 xserver-xorg-video-nvidia-510\n",
            "Use 'apt autoremove' to remove them.\n",
            "0 upgraded, 0 newly installed, 0 to remove and 39 not upgraded.\n",
            "Requirement already satisfied: pydot in /usr/local/lib/python3.7/dist-packages (1.3.0)\n",
            "Requirement already satisfied: pyparsing>=2.1.4 in /usr/local/lib/python3.7/dist-packages (from pydot) (3.0.7)\n"
          ]
        }
      ],
      "source": [
        "!apt install graphviz\n",
        "!pip install pydot"
      ]
    },
    {
      "cell_type": "code",
      "execution_count": 2,
      "id": "gMc20S-n5VBr",
      "metadata": {
        "colab": {
          "base_uri": "https://localhost:8080/"
        },
        "id": "gMc20S-n5VBr",
        "outputId": "69618fea-3631-404c-c755-94e7ea9419f6"
      },
      "outputs": [
        {
          "ename": "ModuleNotFoundError",
          "evalue": "No module named 'torch_sparse'",
          "output_type": "error",
          "traceback": [
            "\u001b[1;31m---------------------------------------------------------------------------\u001b[0m",
            "\u001b[1;31mModuleNotFoundError\u001b[0m                       Traceback (most recent call last)",
            "\u001b[1;32md:\\Users\\zuev5\\TUM\\pytorch-GAT\\GAT_SG.ipynb Cell 14'\u001b[0m in \u001b[0;36m<module>\u001b[1;34m\u001b[0m\n\u001b[1;32m----> <a href='vscode-notebook-cell://ssh-remote%2Bwin/d%3A/Users/zuev5/TUM/pytorch-GAT/GAT_SG.ipynb#ch0000013vscode-remote?line=0'>1</a>\u001b[0m \u001b[39mfrom\u001b[39;00m \u001b[39mutils\u001b[39;00m\u001b[39m.\u001b[39;00m\u001b[39mdataset\u001b[39;00m \u001b[39mimport\u001b[39;00m WordNet18\n\u001b[0;32m      <a href='vscode-notebook-cell://ssh-remote%2Bwin/d%3A/Users/zuev5/TUM/pytorch-GAT/GAT_SG.ipynb#ch0000013vscode-remote?line=1'>2</a>\u001b[0m wn18graph \u001b[39m=\u001b[39m WordNet18(root\u001b[39m=\u001b[39m\u001b[39m'\u001b[39m\u001b[39mdata/wordnet18my\u001b[39m\u001b[39m'\u001b[39m)\n\u001b[0;32m      <a href='vscode-notebook-cell://ssh-remote%2Bwin/d%3A/Users/zuev5/TUM/pytorch-GAT/GAT_SG.ipynb#ch0000013vscode-remote?line=2'>3</a>\u001b[0m \u001b[39mimport\u001b[39;00m \u001b[39mnltk\u001b[39;00m\n",
            "File \u001b[1;32md:\\Users\\zuev5\\TUM\\pytorch-GAT\\utils\\dataset.py:5\u001b[0m, in \u001b[0;36m<module>\u001b[1;34m\u001b[0m\n\u001b[0;32m      <a href='file:///d%3A/Users/zuev5/TUM/pytorch-GAT/utils/dataset.py?line=1'>2</a>\u001b[0m \u001b[39mimport\u001b[39;00m \u001b[39mpickle\u001b[39;00m\n\u001b[0;32m      <a href='file:///d%3A/Users/zuev5/TUM/pytorch-GAT/utils/dataset.py?line=3'>4</a>\u001b[0m \u001b[39mimport\u001b[39;00m \u001b[39mtorch\u001b[39;00m\n\u001b[1;32m----> <a href='file:///d%3A/Users/zuev5/TUM/pytorch-GAT/utils/dataset.py?line=4'>5</a>\u001b[0m \u001b[39mfrom\u001b[39;00m \u001b[39mtorch_geometric\u001b[39;00m\u001b[39m.\u001b[39;00m\u001b[39mdata\u001b[39;00m \u001b[39mimport\u001b[39;00m InMemoryDataset, Data, download_url\n\u001b[0;32m      <a href='file:///d%3A/Users/zuev5/TUM/pytorch-GAT/utils/dataset.py?line=5'>6</a>\u001b[0m \u001b[39mfrom\u001b[39;00m \u001b[39mtorch_geometric\u001b[39;00m\u001b[39m.\u001b[39;00m\u001b[39mdatasets\u001b[39;00m \u001b[39mimport\u001b[39;00m WordNet18 \u001b[39mas\u001b[39;00m WordNet18Original\n\u001b[0;32m      <a href='file:///d%3A/Users/zuev5/TUM/pytorch-GAT/utils/dataset.py?line=8'>9</a>\u001b[0m \u001b[39mclass\u001b[39;00m \u001b[39mWordNet18\u001b[39;00m(WordNet18Original):\n",
            "File \u001b[1;32md:\\Users\\zuev5\\TUM\\pytorch-GAT\\.venv\\lib\\site-packages\\torch_geometric\\__init__.py:4\u001b[0m, in \u001b[0;36m<module>\u001b[1;34m\u001b[0m\n\u001b[0;32m      <a href='file:///d%3A/Users/zuev5/TUM/pytorch-GAT/.venv/lib/site-packages/torch_geometric/__init__.py?line=0'>1</a>\u001b[0m \u001b[39mfrom\u001b[39;00m \u001b[39mtypes\u001b[39;00m \u001b[39mimport\u001b[39;00m ModuleType\n\u001b[0;32m      <a href='file:///d%3A/Users/zuev5/TUM/pytorch-GAT/.venv/lib/site-packages/torch_geometric/__init__.py?line=1'>2</a>\u001b[0m \u001b[39mfrom\u001b[39;00m \u001b[39mimportlib\u001b[39;00m \u001b[39mimport\u001b[39;00m import_module\n\u001b[1;32m----> <a href='file:///d%3A/Users/zuev5/TUM/pytorch-GAT/.venv/lib/site-packages/torch_geometric/__init__.py?line=3'>4</a>\u001b[0m \u001b[39mimport\u001b[39;00m \u001b[39mtorch_geometric\u001b[39;00m\u001b[39m.\u001b[39;00m\u001b[39mdata\u001b[39;00m\n\u001b[0;32m      <a href='file:///d%3A/Users/zuev5/TUM/pytorch-GAT/.venv/lib/site-packages/torch_geometric/__init__.py?line=4'>5</a>\u001b[0m \u001b[39mimport\u001b[39;00m \u001b[39mtorch_geometric\u001b[39;00m\u001b[39m.\u001b[39;00m\u001b[39mloader\u001b[39;00m\n\u001b[0;32m      <a href='file:///d%3A/Users/zuev5/TUM/pytorch-GAT/.venv/lib/site-packages/torch_geometric/__init__.py?line=5'>6</a>\u001b[0m \u001b[39mimport\u001b[39;00m \u001b[39mtorch_geometric\u001b[39;00m\u001b[39m.\u001b[39;00m\u001b[39mtransforms\u001b[39;00m\n",
            "File \u001b[1;32md:\\Users\\zuev5\\TUM\\pytorch-GAT\\.venv\\lib\\site-packages\\torch_geometric\\data\\__init__.py:1\u001b[0m, in \u001b[0;36m<module>\u001b[1;34m\u001b[0m\n\u001b[1;32m----> <a href='file:///d%3A/Users/zuev5/TUM/pytorch-GAT/.venv/lib/site-packages/torch_geometric/data/__init__.py?line=0'>1</a>\u001b[0m \u001b[39mfrom\u001b[39;00m \u001b[39m.\u001b[39;00m\u001b[39mdata\u001b[39;00m \u001b[39mimport\u001b[39;00m Data\n\u001b[0;32m      <a href='file:///d%3A/Users/zuev5/TUM/pytorch-GAT/.venv/lib/site-packages/torch_geometric/data/__init__.py?line=1'>2</a>\u001b[0m \u001b[39mfrom\u001b[39;00m \u001b[39m.\u001b[39;00m\u001b[39mhetero_data\u001b[39;00m \u001b[39mimport\u001b[39;00m HeteroData\n\u001b[0;32m      <a href='file:///d%3A/Users/zuev5/TUM/pytorch-GAT/.venv/lib/site-packages/torch_geometric/data/__init__.py?line=2'>3</a>\u001b[0m \u001b[39mfrom\u001b[39;00m \u001b[39m.\u001b[39;00m\u001b[39mtemporal\u001b[39;00m \u001b[39mimport\u001b[39;00m TemporalData\n",
            "File \u001b[1;32md:\\Users\\zuev5\\TUM\\pytorch-GAT\\.venv\\lib\\site-packages\\torch_geometric\\data\\data.py:3\u001b[0m, in \u001b[0;36m<module>\u001b[1;34m\u001b[0m\n\u001b[0;32m      <a href='file:///d%3A/Users/zuev5/TUM/pytorch-GAT/.venv/lib/site-packages/torch_geometric/data/data.py?line=0'>1</a>\u001b[0m \u001b[39mfrom\u001b[39;00m \u001b[39mtyping\u001b[39;00m \u001b[39mimport\u001b[39;00m (Optional, Dict, Any, Union, List, Iterable, Tuple,\n\u001b[0;32m      <a href='file:///d%3A/Users/zuev5/TUM/pytorch-GAT/.venv/lib/site-packages/torch_geometric/data/data.py?line=1'>2</a>\u001b[0m                     NamedTuple, Callable)\n\u001b[1;32m----> <a href='file:///d%3A/Users/zuev5/TUM/pytorch-GAT/.venv/lib/site-packages/torch_geometric/data/data.py?line=2'>3</a>\u001b[0m \u001b[39mfrom\u001b[39;00m \u001b[39mtorch_geometric\u001b[39;00m\u001b[39m.\u001b[39;00m\u001b[39mtyping\u001b[39;00m \u001b[39mimport\u001b[39;00m OptTensor, NodeType, EdgeType\n\u001b[0;32m      <a href='file:///d%3A/Users/zuev5/TUM/pytorch-GAT/.venv/lib/site-packages/torch_geometric/data/data.py?line=3'>4</a>\u001b[0m \u001b[39mfrom\u001b[39;00m \u001b[39mtorch_geometric\u001b[39;00m\u001b[39m.\u001b[39;00m\u001b[39mdeprecation\u001b[39;00m \u001b[39mimport\u001b[39;00m deprecated\n\u001b[0;32m      <a href='file:///d%3A/Users/zuev5/TUM/pytorch-GAT/.venv/lib/site-packages/torch_geometric/data/data.py?line=5'>6</a>\u001b[0m \u001b[39mimport\u001b[39;00m \u001b[39mcopy\u001b[39;00m\n",
            "File \u001b[1;32md:\\Users\\zuev5\\TUM\\pytorch-GAT\\.venv\\lib\\site-packages\\torch_geometric\\typing.py:4\u001b[0m, in \u001b[0;36m<module>\u001b[1;34m\u001b[0m\n\u001b[0;32m      <a href='file:///d%3A/Users/zuev5/TUM/pytorch-GAT/.venv/lib/site-packages/torch_geometric/typing.py?line=0'>1</a>\u001b[0m \u001b[39mfrom\u001b[39;00m \u001b[39mtyping\u001b[39;00m \u001b[39mimport\u001b[39;00m Tuple, Optional, Union, List\n\u001b[0;32m      <a href='file:///d%3A/Users/zuev5/TUM/pytorch-GAT/.venv/lib/site-packages/torch_geometric/typing.py?line=2'>3</a>\u001b[0m \u001b[39mfrom\u001b[39;00m \u001b[39mtorch\u001b[39;00m \u001b[39mimport\u001b[39;00m Tensor\n\u001b[1;32m----> <a href='file:///d%3A/Users/zuev5/TUM/pytorch-GAT/.venv/lib/site-packages/torch_geometric/typing.py?line=3'>4</a>\u001b[0m \u001b[39mfrom\u001b[39;00m \u001b[39mtorch_sparse\u001b[39;00m \u001b[39mimport\u001b[39;00m SparseTensor\n\u001b[0;32m      <a href='file:///d%3A/Users/zuev5/TUM/pytorch-GAT/.venv/lib/site-packages/torch_geometric/typing.py?line=5'>6</a>\u001b[0m \u001b[39m# Types for accessing data ####################################################\u001b[39;00m\n\u001b[0;32m      <a href='file:///d%3A/Users/zuev5/TUM/pytorch-GAT/.venv/lib/site-packages/torch_geometric/typing.py?line=6'>7</a>\u001b[0m \n\u001b[0;32m      <a href='file:///d%3A/Users/zuev5/TUM/pytorch-GAT/.venv/lib/site-packages/torch_geometric/typing.py?line=7'>8</a>\u001b[0m \u001b[39m# Node-types are denoted by a single string, e.g.: `data['paper']`:\u001b[39;00m\n\u001b[0;32m      <a href='file:///d%3A/Users/zuev5/TUM/pytorch-GAT/.venv/lib/site-packages/torch_geometric/typing.py?line=8'>9</a>\u001b[0m NodeType \u001b[39m=\u001b[39m \u001b[39mstr\u001b[39m\n",
            "\u001b[1;31mModuleNotFoundError\u001b[0m: No module named 'torch_sparse'"
          ]
        }
      ],
      "source": [
        "from utils.dataset import WordNet18\n",
        "wn18graph = WordNet18(root='data/wordnet18my')\n",
        "import nltk\n",
        "nltk.download('wordnet')\n",
        "from nltk.corpus import wordnet\n",
        "print(wordnet.synset_from_pos_and_offset('n', 3964744))"
      ]
    },
    {
      "cell_type": "code",
      "execution_count": null,
      "id": "HJ5yivDteoZm",
      "metadata": {
        "id": "HJ5yivDteoZm"
      },
      "outputs": [],
      "source": [
        "from torchtext.vocab import GloVe\n",
        "glove = GloVe('6B', dim=50)"
      ]
    },
    {
      "cell_type": "markdown",
      "id": "treated-drama",
      "metadata": {
        "id": "treated-drama"
      },
      "source": [
        "# The Annotated GAT (PPI)\n",
        "\n",
        "This notebook is the 2nd part of the series, please check out **\"The Annotated GAT (Cora)\"** notebook for a more gentle introduction to GAT. ❤️\n",
        "\n",
        "The idea of this notebook is to explain how you can use GAT in an **inductive setting**. \n",
        "\n",
        "I'll be using the **PPI (protein-protein interaction) dataset** in this notebook.\n",
        "\n",
        "Here is a representation of the 3D structure of the protein [myoglobin](https://en.wikipedia.org/wiki/Protein) (not like you need to know anything about proteins in order to follow along this notebook it's just that they are beautiful and I love them 🍗❤️)!\n",
        "\n",
        "<img src=\"data/readme_pics/protein.png\" alt=\"protein schematic\" align=\"center\"/> <br/>\n",
        "\n",
        "In this notebook you'll get the answers to these questions:\n",
        "\n",
        "✅ How to load and visualize the PPI dataset? <br/>\n",
        "✅ How to train/use GAT on PPI (multi-label classification problem)? <br/>\n",
        "✅ How to visualize different GAT's properties? (mainly attention) <br/>\n",
        "\n",
        "Awesome, let's start!"
      ]
    },
    {
      "cell_type": "code",
      "execution_count": null,
      "id": "described-classroom",
      "metadata": {
        "id": "described-classroom"
      },
      "outputs": [],
      "source": [
        "# I always like to structure my imports into Python's native libs,\n",
        "# stuff I installed via conda/pip and local file imports (but we don't have those here)\n",
        "\n",
        "import json\n",
        "import os\n",
        "import enum\n",
        "\n",
        "# Visualization related imports\n",
        "import matplotlib.pyplot as plt\n",
        "import networkx as nx\n",
        "from networkx.readwrite import json_graph\n",
        "import igraph as ig\n",
        "\n",
        "# Main computation libraries\n",
        "import numpy as np\n",
        "\n",
        "# Deep learning related imports\n",
        "import torch\n",
        "from torch.utils.data import DataLoader, Dataset"
      ]
    },
    {
      "cell_type": "code",
      "execution_count": null,
      "id": "modified-electric",
      "metadata": {
        "id": "modified-electric"
      },
      "outputs": [],
      "source": [
        "\"\"\"\n",
        "    Contains constants needed for data loading and visualization.\n",
        "\n",
        "\"\"\"\n",
        "\n",
        "\n",
        "# Supported datasets - only PPI in this notebook\n",
        "class DatasetType(enum.Enum):\n",
        "    PPI = 0\n",
        "\n",
        "    \n",
        "class GraphVisualizationTool(enum.Enum):\n",
        "    IGRAPH = 0\n",
        "\n",
        "\n",
        "# We'll be dumping and reading the data from this directory\n",
        "DATA_DIR_PATH = os.path.join(os.getcwd(), 'data')\n",
        "PPI_PATH = os.path.join(DATA_DIR_PATH, 'ppi')\n",
        "PPI_URL = 'https://data.dgl.ai/dataset/ppi.zip'  # preprocessed PPI data from Deep Graph Library\n",
        "\n",
        "#\n",
        "# PPI specific constants\n",
        "#\n",
        "\n",
        "PPI_NUM_INPUT_FEATURES = 50\n",
        "PPI_NUM_CLASSES = 121"
      ]
    },
    {
      "cell_type": "markdown",
      "id": "bacterial-failing",
      "metadata": {
        "id": "bacterial-failing"
      },
      "source": [
        "Note that some parts of this notebook overlap with \"The Annotated GAT (Cora)\" notebook, so you may see some redundancy. 🙏\n",
        "\n",
        "With that out of the way we've got the level 1 unlocked (Data 📜). 😍 Let's go!"
      ]
    },
    {
      "cell_type": "markdown",
      "id": "processed-mortality",
      "metadata": {
        "id": "processed-mortality"
      },
      "source": [
        "# Part 1: Understanding your data (become One with the data 📜❤️)\n",
        "\n",
        "I'll be using the PPI dataset as the running example in this notebook.\n",
        "\n",
        "Having said that, you may wonder, what's the difference between `transductive` and `inductive` setting? If you're not familiar with GNNs this may appear as a weird concept. But it's quite simple actually.\n",
        "\n",
        "**Transductive** - you have a single graph (like Cora) you split some **nodes** (and not graphs) into train/val/test training sets. While you're training you'll be using only the labels from your training nodes. BUT. During the forward prop, by the nature of how spatial GNNs work, you'll be aggregating the feature vectors from your neighbors and **some of them may belong to val or even test sets!** The main point is - you **ARE NOT** using their label information but you **ARE** using the structural information and their features.\n",
        "\n",
        "**Inductive** - you're probably much more familiar with this one if you come from the computer vision or NLP background. You have a set of training graphs, a separate set of val graphs and of course a separate set of test graphs.\n",
        "\n",
        "Having explained that let's jump into the code and let's load and visualize PPI."
      ]
    },
    {
      "cell_type": "code",
      "execution_count": null,
      "id": "variable-insulin",
      "metadata": {
        "id": "variable-insulin"
      },
      "outputs": [],
      "source": [
        "# First let's define this simple function for loading PPI's graph data\n",
        "\n",
        "def json_read(path):\n",
        "    with open(path, 'r') as file:\n",
        "        data = json.load(file)\n",
        "\n",
        "    return data"
      ]
    },
    {
      "cell_type": "markdown",
      "id": "outdoor-child",
      "metadata": {
        "id": "outdoor-child"
      },
      "source": [
        "Now let's see how we can load PPI!"
      ]
    },
    {
      "cell_type": "code",
      "execution_count": null,
      "id": "HVH_7TGwTX4_",
      "metadata": {
        "id": "HVH_7TGwTX4_"
      },
      "outputs": [],
      "source": [
        "from torch.hub import download_url_to_file\n",
        "import zipfile"
      ]
    },
    {
      "cell_type": "code",
      "execution_count": null,
      "id": "metropolitan-programming",
      "metadata": {
        "id": "metropolitan-programming"
      },
      "outputs": [],
      "source": [
        "def load_graph_data(training_config, device):\n",
        "    dataset_name = training_config['dataset_name'].lower()\n",
        "    should_visualize = training_config['should_visualize']\n",
        "\n",
        "    if dataset_name == DatasetType.PPI.name.lower():  # Protein-Protein Interaction dataset\n",
        "\n",
        "        # Instead of checking PPI in, I'd rather download it on-the-fly the first time it's needed (lazy execution ^^)\n",
        "        if not os.path.exists(PPI_PATH):  # download the first time this is ran\n",
        "            os.makedirs(PPI_PATH)\n",
        "\n",
        "            # Step 1: Download the ppi.zip (contains the PPI dataset)\n",
        "            zip_tmp_path = os.path.join(PPI_PATH, 'ppi.zip')\n",
        "            download_url_to_file(PPI_URL, zip_tmp_path)\n",
        "\n",
        "            # Step 2: Unzip it\n",
        "            with zipfile.ZipFile(zip_tmp_path) as zf:\n",
        "                zf.extractall(path=PPI_PATH)\n",
        "            print(f'Unzipping to: {PPI_PATH} finished.')\n",
        "\n",
        "            # Step3: Remove the temporary resource file\n",
        "            os.remove(zip_tmp_path)\n",
        "            print(f'Removing tmp file {zip_tmp_path}.')\n",
        "\n",
        "        # Collect train/val/test graphs here\n",
        "        edge_index_list = []\n",
        "        node_features_list = []\n",
        "        node_labels_list = []\n",
        "\n",
        "        # Dynamically determine how many graphs we have per split (avoid using constants when possible)\n",
        "        num_graphs_per_split_cumulative = [0]\n",
        "\n",
        "        # Small optimization \"trick\" since we only need test in the playground.py\n",
        "        splits = ['test'] if training_config['ppi_load_test_only'] else ['train', 'valid', 'test']\n",
        "\n",
        "        for split in splits:\n",
        "            # PPI has 50 features per node, it's a combination of positional gene sets, motif gene sets,\n",
        "            # and immunological signatures - you can treat it as a black box (I personally have a rough understanding)\n",
        "            # shape = (NS, 50) - where NS is the number of (N)odes in the training/val/test (S)plit\n",
        "            # Note: node features are already preprocessed\n",
        "            node_features = np.load(os.path.join(PPI_PATH, f'{split}_feats.npy'))\n",
        "\n",
        "            # PPI has 121 labels and each node can have multiple labels associated (gene ontology stuff)\n",
        "            # SHAPE = (NS, 121)\n",
        "            node_labels = np.load(os.path.join(PPI_PATH, f'{split}_labels.npy'))\n",
        "\n",
        "            # Graph topology stored in a special nodes-links NetworkX format\n",
        "            nodes_links_dict = json_read(os.path.join(PPI_PATH, f'{split}_graph.json'))\n",
        "            # PPI contains undirected graphs with self edges - 20 train graphs, 2 validation graphs and 2 test graphs\n",
        "            # The reason I use a NetworkX's directed graph is because we need to explicitly model both directions\n",
        "            # because of the edge index and the way GAT implementation #3 works\n",
        "            collection_of_graphs = nx.DiGraph(json_graph.node_link_graph(nodes_links_dict))\n",
        "            # For each node in the above collection, ids specify to which graph the node belongs to\n",
        "            graph_ids = np.load(os.path.join(PPI_PATH, F'{split}_graph_id.npy'))\n",
        "            num_graphs_per_split_cumulative.append(num_graphs_per_split_cumulative[-1] + len(np.unique(graph_ids)))\n",
        "\n",
        "            # Split the collection of graphs into separate PPI graphs\n",
        "            for graph_id in range(np.min(graph_ids), np.max(graph_ids) + 1):\n",
        "                mask = graph_ids == graph_id  # find the nodes which belong to the current graph (identified via id)\n",
        "                graph_node_ids = np.asarray(mask).nonzero()[0]\n",
        "                graph = collection_of_graphs.subgraph(graph_node_ids)  # returns the induced subgraph over these nodes\n",
        "                print(f'Loading {split} graph {graph_id} to CPU. '\n",
        "                      f'It has {graph.number_of_nodes()} nodes and {graph.number_of_edges()} edges.')\n",
        "\n",
        "                # shape = (2, E) - where E is the number of edges in the graph\n",
        "                # Note: leaving the tensors on CPU I'll load them to GPU in the training loop on-the-fly as VRAM\n",
        "                # is a scarcer resource than CPU's RAM and the whole PPI dataset can't fit during the training.\n",
        "                edge_index = torch.tensor(list(graph.edges), dtype=torch.long).transpose(0, 1).contiguous()\n",
        "                edge_index = edge_index - edge_index.min()  # bring the edges to [0, num_of_nodes] range\n",
        "                edge_index_list.append(edge_index)\n",
        "                # shape = (N, 50) - where N is the number of nodes in the graph\n",
        "                node_features_list.append(torch.tensor(node_features[mask], dtype=torch.float))\n",
        "                # shape = (N, 121), BCEWithLogitsLoss doesn't require long/int64 so saving some memory by using float32\n",
        "                node_labels_list.append(torch.tensor(node_labels[mask], dtype=torch.float))\n",
        "\n",
        "                if should_visualize:\n",
        "                    plot_in_out_degree_distributions(edge_index.numpy(), graph.number_of_nodes(), dataset_name)\n",
        "                    visualize_graph(edge_index.numpy(), node_labels[mask], dataset_name)\n",
        "\n",
        "        #\n",
        "        # Prepare graph data loaders\n",
        "        #\n",
        "\n",
        "        # Optimization, do a shortcut in case we only need the test data loader\n",
        "        if training_config['ppi_load_test_only']:\n",
        "            data_loader_test = GraphDataLoader(\n",
        "                node_features_list[num_graphs_per_split_cumulative[0]:num_graphs_per_split_cumulative[1]],\n",
        "                node_labels_list[num_graphs_per_split_cumulative[0]:num_graphs_per_split_cumulative[1]],\n",
        "                edge_index_list[num_graphs_per_split_cumulative[0]:num_graphs_per_split_cumulative[1]],\n",
        "                batch_size=training_config['batch_size'],\n",
        "                shuffle=False\n",
        "            )\n",
        "            return data_loader_test\n",
        "        else:\n",
        "\n",
        "            data_loader_train = GraphDataLoader(\n",
        "                node_features_list[num_graphs_per_split_cumulative[0]:num_graphs_per_split_cumulative[1]],\n",
        "                node_labels_list[num_graphs_per_split_cumulative[0]:num_graphs_per_split_cumulative[1]],\n",
        "                edge_index_list[num_graphs_per_split_cumulative[0]:num_graphs_per_split_cumulative[1]],\n",
        "                batch_size=training_config['batch_size'],\n",
        "                shuffle=True\n",
        "            )\n",
        "\n",
        "            data_loader_val = GraphDataLoader(\n",
        "                node_features_list[num_graphs_per_split_cumulative[1]:num_graphs_per_split_cumulative[2]],\n",
        "                node_labels_list[num_graphs_per_split_cumulative[1]:num_graphs_per_split_cumulative[2]],\n",
        "                edge_index_list[num_graphs_per_split_cumulative[1]:num_graphs_per_split_cumulative[2]],\n",
        "                batch_size=training_config['batch_size'],\n",
        "                shuffle=False  # no need to shuffle the validation and test graphs\n",
        "            )\n",
        "\n",
        "            data_loader_test = GraphDataLoader(\n",
        "                node_features_list[num_graphs_per_split_cumulative[2]:num_graphs_per_split_cumulative[3]],\n",
        "                node_labels_list[num_graphs_per_split_cumulative[2]:num_graphs_per_split_cumulative[3]],\n",
        "                edge_index_list[num_graphs_per_split_cumulative[2]:num_graphs_per_split_cumulative[3]],\n",
        "                batch_size=training_config['batch_size'],\n",
        "                shuffle=False\n",
        "            )\n",
        "\n",
        "            return data_loader_train, data_loader_val, data_loader_test\n",
        "    else:\n",
        "        raise Exception(f'{dataset_name} not yet supported.')"
      ]
    },
    {
      "cell_type": "code",
      "execution_count": null,
      "id": "jtvOmz_oeNws",
      "metadata": {
        "colab": {
          "base_uri": "https://localhost:8080/"
        },
        "id": "jtvOmz_oeNws",
        "outputId": "3d9611b9-dcf7-40b0-841b-c8a3c55dfa7d"
      },
      "outputs": [
        {
          "name": "stdout",
          "output_type": "stream",
          "text": [
            "(Synset('white.n.01'), ['White', 'White_person', 'Caucasian'])\n",
            "(Synset('white.n.02'), ['white', 'whiteness'])\n",
            "(Synset('white.n.03'), ['White', 'Edward_White', 'Edward_D._White', 'Edward_Douglas_White_Jr.'])\n",
            "(Synset('white.n.04'), ['White', 'Patrick_White', 'Patrick_Victor_Martindale_White'])\n",
            "(Synset('white.n.05'), ['White', 'T._H._White', 'Theodore_Harold_White'])\n",
            "(Synset('white.n.06'), ['White', 'Stanford_White'])\n",
            "(Synset('white.n.07'), ['White', 'E._B._White', 'Elwyn_Brooks_White'])\n",
            "(Synset('white.n.08'), ['White', 'Andrew_D._White', 'Andrew_Dickson_White'])\n",
            "(Synset('white.n.09'), ['White', 'White_River'])\n",
            "(Synset('egg_white.n.01'), ['egg_white', 'white', 'albumen', 'ovalbumin'])\n",
            "(Synset('white.n.11'), ['white'])\n",
            "(Synset('flannel.n.03'), ['flannel', 'gabardine', 'tweed', 'white'])\n",
            "(Synset('whiten.v.01'), ['whiten', 'white'])\n",
            "(Synset('white.a.01'), ['white'])\n",
            "(Synset('white.a.02'), ['white'])\n",
            "(Synset('white.s.03'), ['white'])\n",
            "(Synset('white.s.04'), ['white', 'snowy'])\n",
            "(Synset('white.s.05'), ['white', 'lily-white'])\n",
            "(Synset('white.s.06'), ['white', 'white-hot'])\n",
            "(Synset('white.s.07'), ['white'])\n",
            "(Synset('blank.s.01'), ['blank', 'clean', 'white'])\n",
            "(Synset('white.s.09'), ['white'])\n",
            "(Synset('white.s.10'), ['white', 'whitened'])\n",
            "(Synset('ashen.s.01'), ['ashen', 'blanched', 'bloodless', 'livid', 'white'])\n",
            "(Synset('white.s.12'), ['white'])\n"
          ]
        }
      ],
      "source": [
        "from nltk.corpus import wordnet\n",
        "for i in list(map(lambda x: (x, x.lemma_names(lang='eng')), wordnet.synsets('white'))):\n",
        "    print(i)"
      ]
    },
    {
      "cell_type": "code",
      "execution_count": null,
      "id": "vhY_93Evd3Ww",
      "metadata": {
        "id": "vhY_93Evd3Ww"
      },
      "outputs": [],
      "source": [
        "from utils.dataset import WordNet18\n",
        "dataset = WordNet18(root='data/wordnet18')\n",
        "data = dataset[0]"
      ]
    },
    {
      "cell_type": "code",
      "execution_count": null,
      "id": "bDlTwFBCfrAr",
      "metadata": {
        "colab": {
          "base_uri": "https://localhost:8080/"
        },
        "id": "bDlTwFBCfrAr",
        "outputId": "3cfc5819-95af-4266-e5ca-2b71b8a30de9"
      },
      "outputs": [
        {
          "data": {
            "text/plain": [
              "31550"
            ]
          },
          "execution_count": 10,
          "metadata": {},
          "output_type": "execute_result"
        }
      ],
      "source": [
        "dataset.entity2id['person.n.01']"
      ]
    },
    {
      "cell_type": "code",
      "execution_count": null,
      "id": "1yvqF6XTgVBm",
      "metadata": {
        "id": "1yvqF6XTgVBm"
      },
      "outputs": [],
      "source": [
        "import pydot\n",
        "from IPython.display import SVG, display\n",
        "\n",
        "def view_pydot(pdot):\n",
        "    plt = SVG(pdot.create_svg())\n",
        "    display(plt)"
      ]
    },
    {
      "cell_type": "code",
      "execution_count": null,
      "id": "r9RpGxT_gZXd",
      "metadata": {
        "id": "r9RpGxT_gZXd"
      },
      "outputs": [],
      "source": [
        "def extend_wn_neighbors(g_node_synsets, g_node_features_words, g_node_labels_words, g_edge_index):\n",
        "    graph = pydot.Dot(\"my_graph\", graph_type=\"digraph\")\n",
        "\n",
        "\n",
        "def extend_wn_neighbors_node(synsets_to_classes, classes_to_synsets, node_synset):\n",
        "    next_idx = len(synsets_to_classes)\n",
        "    start = node_synset\n",
        "\n",
        "    node_synsets_extension = []\n",
        "    node_synset_to_node = {}\n",
        "    edge_index_extension = [\n",
        "        [],\n",
        "        []\n",
        "    ]\n",
        "\n",
        "    start_id = dataset.entity2id[start]\n",
        "    start_n = pydot.Node(start)\n",
        "    graph.add_node(start_n)\n",
        "\n",
        "    nodes = {start_id: start_n}\n",
        "\n",
        "    for (src, dst), edg in zip(data.edge_index.T, data.edge_type):\n",
        "        if src == start_id:\n",
        "            src_n = start_n\n",
        "            dest_id = dst.item()\n",
        "            dest = dataset.id2entity[dest_id]\n",
        "            dest_n = nodes.get(dest_id)\n",
        "            if dest_n is None:\n",
        "                dest_n = nodes[dest_id] = pydot.Node(dest)\n",
        "                graph.add_node(dest_n)\n",
        "            edge_id = edg.item()\n",
        "            edge = dataset.id2edge[edge_id]\n",
        "            edge_index_extension[0].append(src)\n",
        "            edge_index_extension[1].append(edge_id)\n",
        "            edge_index_extension[0].append(edge_id)\n",
        "            edge_index_extension[1].append(dst_id)\n",
        "            graph.add_edge(pydot.Edge(src_n, dest_n, label=edge))\n",
        "        elif dst == start_id:\n",
        "            dest_n = start_n\n",
        "            src_id = src.item()\n",
        "            src = dataset.id2entity[src_id]\n",
        "            src_n = nodes.get(src_id)\n",
        "            if src_n is None:\n",
        "                src_n = nodes[src_id] = pydot.Node(src)\n",
        "                graph.add_node(src_n)\n",
        "            edge_id = edg.item()\n",
        "            edge = dataset.id2edge[edge_id]\n",
        "            edge_index_extension[0].append(src)\n",
        "            edge_index_extension[1].append(dst)\n",
        "            graph.add_edge(pydot.Edge(src_n, dest_n, label=edge))\n",
        "    return graph\n",
        "#graph = extend_wn_neighbors(None)\n",
        "#view_pydot(graph)"
      ]
    },
    {
      "cell_type": "code",
      "execution_count": null,
      "id": "BVAWGQCfYIGv",
      "metadata": {
        "colab": {
          "base_uri": "https://localhost:8080/"
        },
        "id": "BVAWGQCfYIGv",
        "outputId": "3cd7f0a8-cdb7-4583-9f3c-c9bc2e17b864"
      },
      "outputs": [
        {
          "name": "stdout",
          "output_type": "stream",
          "text": [
            "torch.Size([7, 50]) torch.float32\n",
            "torch.Size([7]) torch.int64\n",
            "torch.Size([2, 6]) torch.int64\n"
          ]
        }
      ],
      "source": [
        "# classes = [\n",
        "#     'none',\n",
        "#     'doctor',\n",
        "#     'farmer',\n",
        "#     'waiter',\n",
        "# ]\n",
        "# words_to_classes = {w: i for i, w in enumerate(classes)}\n",
        "\n",
        "edge_index_list = []\n",
        "node_features_list = []\n",
        "node_labels_list = []\n",
        "\n",
        "node_synsets_list = []\n",
        "synsets_to_classes = {}\n",
        "classes_to_synsets = []\n",
        "\n",
        "def get_synset_class(synsets_to_classes, classes_to_synsets, node_synset):\n",
        "    next_idx = len(synsets_to_classes)\n",
        "    if node_synset not in synsets_to_classes:\n",
        "        synsets_to_classes[node_synset] = next_idx\n",
        "        classes_to_synsets.append(node_synset)\n",
        "    return synsets_to_classes[node_synset]\n",
        "\n",
        "def class_of(s):\n",
        "    return get_synset_class(synsets_to_classes, classes_to_synsets, s)\n",
        "\n",
        "def make_graph(g_node_synsets, g_node_features_words, g_node_labels_words, g_edge_index):\n",
        "    g_node_features = torch.stack([\n",
        "        glove[word] for word in g_node_features_words\n",
        "    ])\n",
        "    #g_node_labels = torch.zeros(g_node_features.shape[0], len(classes))\n",
        "    #g_node_labels[range(g_node_features.shape[0]), [words_to_classes[w] for w in g_node_labels_words]] = 1\n",
        "    g_node_labels = torch.tensor([class_of(s) for s in g_node_synsets])\n",
        "    return g_edge_index, g_node_features, g_node_labels\n",
        "\n",
        "def append_graph(g_node_synsets, *args):\n",
        "    e, f, l = make_graph(g_node_synsets, *args)\n",
        "    edge_index_list.append(e)\n",
        "    node_features_list.append(f)\n",
        "    node_labels_list.append(l)\n",
        "\n",
        "    # collect synsets\n",
        "    # i = len(synsets_to_classes)  # next class idx\n",
        "    # for s in g_node_synsets:\n",
        "    #     if s not in synsets_to_classes:\n",
        "    #         synsets_to_classes[s] = i\n",
        "    #         classes_to_synsets.append(s)\n",
        "    #         i += 1\n",
        "\n",
        "# Graph 1        # 0              1            2                3            4            5          6\n",
        "g_node_synsets = ['person.n.01', 'hold.v.02', 'notebook.n.01', 'wear.v.01', 'coat.n.01', 'be.v.01', 'white.a.01']\n",
        "g_node_features_words = ['person', 'holds', 'notebook', 'wears', 'coat', 'is', 'white']\n",
        "g_node_labels_words = ['doctor', 'none', 'none', 'none', 'none', 'none', 'none']\n",
        "g_edge_index = torch.tensor([\n",
        "    [0, 1, 0, 3, 4, 5],\n",
        "    [1, 2, 3, 4, 5, 6],\n",
        "], dtype=torch.long)\n",
        "append_graph(g_node_synsets, g_node_features_words, g_node_labels_words, g_edge_index)\n",
        "\n",
        "# Graph 2        # 0              1            2\n",
        "g_node_synsets = ['person.n.01', 'hold.v.02', 'plant.n.02']\n",
        "g_node_features_words = ['person', 'holds', 'plant']\n",
        "g_node_labels_words = ['farmer', 'none', 'none']\n",
        "g_edge_index = torch.tensor([\n",
        "    [0, 1],\n",
        "    [1, 2],\n",
        "], dtype=torch.long)\n",
        "append_graph(g_node_synsets, g_node_features_words, g_node_labels_words, g_edge_index)\n",
        "\n",
        "# Graph 3        # 0              1            2             3               4\n",
        "g_node_synsets = ['person.n.01', 'hold.v.02', 'plate.n.04', 'contain.v.01', 'food.v.01']\n",
        "g_node_features_words = ['person', 'holds', 'plate', 'contains', 'food']\n",
        "g_node_labels_words = ['waiter', 'none', 'none', 'none', 'none']\n",
        "g_edge_index = torch.tensor([\n",
        "    [0, 1, 2, 3],\n",
        "    [1, 2, 3, 4],\n",
        "], dtype=torch.long)\n",
        "append_graph(g_node_synsets, g_node_features_words, g_node_labels_words, g_edge_index)\n",
        "\n",
        "# Graph 4=1      # 0              1            2            3          4\n",
        "g_node_synsets = ['person.n.01', 'wear.v.01', 'coat.n.01', 'be.v.01', 'white.a.01']\n",
        "g_node_features_words = ['person', 'wears', 'coat', 'is', 'white']\n",
        "g_node_labels_words = ['doctor', 'none', 'none', 'none', 'none']\n",
        "g_edge_index = torch.tensor([\n",
        "    [0, 1, 2, 3],\n",
        "    [1, 2, 3, 4],\n",
        "], dtype=torch.long)\n",
        "append_graph(g_node_synsets, g_node_features_words, g_node_labels_words, g_edge_index)\n",
        "\n",
        "print(node_features_list[0].shape, node_features_list[0].dtype)\n",
        "print(node_labels_list[0].shape, node_labels_list[0].dtype)\n",
        "print(edge_index_list[0].shape, edge_index_list[0].dtype)\n",
        "\n",
        "PPI_NUM_INPUT_FEATURES = 50\n",
        "PPI_NUM_CLASSES = len(synsets_to_classes)"
      ]
    },
    {
      "cell_type": "code",
      "execution_count": null,
      "id": "UdQLhS0WC968",
      "metadata": {
        "colab": {
          "base_uri": "https://localhost:8080/"
        },
        "id": "UdQLhS0WC968",
        "outputId": "6ca6967d-b71c-4fd7-e501-a7721d36838b"
      },
      "outputs": [
        {
          "data": {
            "text/plain": [
              "({'be.v.01': 5,\n",
              "  'coat.n.01': 4,\n",
              "  'contain.v.01': 9,\n",
              "  'food.v.01': 10,\n",
              "  'hold.v.02': 1,\n",
              "  'notebook.n.01': 2,\n",
              "  'person.n.01': 0,\n",
              "  'plant.n.02': 7,\n",
              "  'plate.n.04': 8,\n",
              "  'wear.v.01': 3,\n",
              "  'white.a.01': 6},\n",
              " ['person.n.01',\n",
              "  'hold.v.02',\n",
              "  'notebook.n.01',\n",
              "  'wear.v.01',\n",
              "  'coat.n.01',\n",
              "  'be.v.01',\n",
              "  'white.a.01',\n",
              "  'plant.n.02',\n",
              "  'plate.n.04',\n",
              "  'contain.v.01',\n",
              "  'food.v.01'])"
            ]
          },
          "execution_count": 14,
          "metadata": {},
          "output_type": "execute_result"
        }
      ],
      "source": [
        "synsets_to_classes, classes_to_synsets"
      ]
    },
    {
      "cell_type": "code",
      "execution_count": null,
      "id": "93AV8ezFwvoW",
      "metadata": {
        "id": "93AV8ezFwvoW"
      },
      "outputs": [],
      "source": [
        "def hide_node(g_node_features, g_edge_index, g_node_labels, hide_node_idx=None):\n",
        "    # TODO: hide percentage of nodes\n",
        "    node_count = g_node_features.shape[0]\n",
        "    if hide_node_idx is None:\n",
        "        hide_node_idx = torch.randint(node_count, 1).item()\n",
        "    # replace features with random normal\n",
        "    g_node_features[hide_node_idx] = torch.normal(\n",
        "        mean=torch.full_like(g_node_features[hide_node_idx], 0.0),\n",
        "        std=torch.full_like(g_node_features[hide_node_idx], 1.0)\n",
        "    )\n",
        "    node_label = g_node_labels[hide_node_idx]\n",
        "    return g_node_features, g_edge_index, node_label"
      ]
    },
    {
      "cell_type": "code",
      "execution_count": null,
      "id": "CizvTqk420vN",
      "metadata": {
        "id": "CizvTqk420vN"
      },
      "outputs": [],
      "source": [
        "# edge_index_list = []\n",
        "# node_features_list = []\n",
        "# node_labels_list = []\n",
        "\n",
        "# node_synsets_list = []\n",
        "# synsets_to_classes = {}\n",
        "# classes_to_synsets = []\n",
        "hide_node_idx_list = [6, 0, 2, 2]\n",
        "hidden_node_labels_list = []\n",
        "\n",
        "for gi in range(len(node_labels_list)):\n",
        "    g_node_features = node_features_list[gi]\n",
        "    g_edge_index = edge_index_list[gi]\n",
        "    g_node_labels = node_labels_list[gi]\n",
        "    hide_node_idx = hide_node_idx_list[gi]\n",
        "\n",
        "    g_node_features, g_edge_index, node_label = hide_node(\n",
        "        g_node_features, g_edge_index, g_node_labels,\n",
        "        hide_node_idx=hide_node_idx\n",
        "    )\n",
        "\n",
        "    node_features_list[gi] = g_node_features\n",
        "    edge_index_list[gi] = g_edge_index\n",
        "    hidden_node_labels_list.append(node_label)"
      ]
    },
    {
      "cell_type": "code",
      "execution_count": null,
      "id": "Sh9RCSCqCmC8",
      "metadata": {
        "colab": {
          "base_uri": "https://localhost:8080/"
        },
        "id": "Sh9RCSCqCmC8",
        "outputId": "88bb4612-a03a-4bca-d9d4-4f7e4ac90443"
      },
      "outputs": [
        {
          "data": {
            "text/plain": [
              "[tensor(6), tensor(0), tensor(8), tensor(4)]"
            ]
          },
          "execution_count": 17,
          "metadata": {},
          "output_type": "execute_result"
        }
      ],
      "source": [
        "hidden_node_labels_list"
      ]
    },
    {
      "cell_type": "code",
      "execution_count": null,
      "id": "P78P6I_uip25",
      "metadata": {
        "id": "P78P6I_uip25"
      },
      "outputs": [],
      "source": [
        "# torch.Size([3021, 50]) torch.float32\n",
        "# torch.Size([3021, 121]) torch.float32\n",
        "# torch.Size([2, 94359]) torch.int64\n",
        "#print(node_labels[0])\n",
        "#print()\n",
        "#print(g_node_labels)"
      ]
    },
    {
      "cell_type": "code",
      "execution_count": null,
      "id": "Dknyvq00W99I",
      "metadata": {
        "id": "Dknyvq00W99I"
      },
      "outputs": [],
      "source": [
        "# load my dataset\n",
        "def load_graph_data(training_config, device):\n",
        "    dataset_name = training_config['dataset_name'].lower()\n",
        "    should_visualize = training_config['should_visualize']\n",
        "\n",
        "    # Collect train/val/test graphs here\n",
        "    #edge_index_list = []\n",
        "    #node_features_list = []\n",
        "    #node_labels_list = []\n",
        "    num_graphs_per_split_cumulative = [0, 1, 2, 3]\n",
        "\n",
        "    #\n",
        "    # Prepare graph data loaders\n",
        "    #\n",
        "\n",
        "    # Optimization, do a shortcut in case we only need the test data loader\n",
        "    if training_config['ppi_load_test_only']:\n",
        "        data_loader_test = GraphDataLoader(\n",
        "            node_features_list[num_graphs_per_split_cumulative[0]:num_graphs_per_split_cumulative[1]],\n",
        "            node_labels_list[num_graphs_per_split_cumulative[0]:num_graphs_per_split_cumulative[1]],\n",
        "            edge_index_list[num_graphs_per_split_cumulative[0]:num_graphs_per_split_cumulative[1]],\n",
        "            hidden_node_labels_list[num_graphs_per_split_cumulative[0]:num_graphs_per_split_cumulative[1]],\n",
        "            batch_size=training_config['batch_size'],\n",
        "            shuffle=False\n",
        "        )\n",
        "        return data_loader_test\n",
        "    else:\n",
        "\n",
        "        num_graphs_per_split_cumulative = [0, -1, -1, -1]  # all\n",
        "        data_loader_train = GraphDataLoader(\n",
        "            node_features_list[num_graphs_per_split_cumulative[0]:num_graphs_per_split_cumulative[1]],\n",
        "            node_labels_list[num_graphs_per_split_cumulative[0]:num_graphs_per_split_cumulative[1]],\n",
        "            edge_index_list[num_graphs_per_split_cumulative[0]:num_graphs_per_split_cumulative[1]],\n",
        "            hidden_node_labels_list[num_graphs_per_split_cumulative[0]:num_graphs_per_split_cumulative[1]],\n",
        "            batch_size=training_config['batch_size'],\n",
        "            shuffle=True\n",
        "        )\n",
        "\n",
        "        num_graphs_per_split_cumulative = [0, 0, -1, -1]  # all\n",
        "        data_loader_val = GraphDataLoader(\n",
        "            node_features_list[num_graphs_per_split_cumulative[1]:num_graphs_per_split_cumulative[2]],\n",
        "            node_labels_list[num_graphs_per_split_cumulative[1]:num_graphs_per_split_cumulative[2]],\n",
        "            edge_index_list[num_graphs_per_split_cumulative[1]:num_graphs_per_split_cumulative[2]],\n",
        "            hidden_node_labels_list[num_graphs_per_split_cumulative[1]:num_graphs_per_split_cumulative[2]],\n",
        "            batch_size=training_config['batch_size'],\n",
        "            shuffle=False  # no need to shuffle the validation and test graphs\n",
        "        )\n",
        "\n",
        "        num_graphs_per_split_cumulative = [0, 0, 0, -1]  # all\n",
        "        data_loader_test = GraphDataLoader(\n",
        "            node_features_list[num_graphs_per_split_cumulative[2]:num_graphs_per_split_cumulative[3]],\n",
        "            node_labels_list[num_graphs_per_split_cumulative[2]:num_graphs_per_split_cumulative[3]],\n",
        "            edge_index_list[num_graphs_per_split_cumulative[2]:num_graphs_per_split_cumulative[3]],\n",
        "            hidden_node_labels_list[num_graphs_per_split_cumulative[2]:num_graphs_per_split_cumulative[3]],\n",
        "            batch_size=training_config['batch_size'],\n",
        "            shuffle=False\n",
        "        )\n",
        "\n",
        "        return data_loader_train, data_loader_val, data_loader_test"
      ]
    },
    {
      "cell_type": "markdown",
      "id": "tropical-watts",
      "metadata": {
        "id": "tropical-watts"
      },
      "source": [
        "Nice, there are is this `GraphDataLoader` object that we still haven't defined. We need it in order to load batches of PPI graphs into GAT.\n",
        "\n",
        "Here we go:"
      ]
    },
    {
      "cell_type": "code",
      "execution_count": null,
      "id": "dental-frank",
      "metadata": {
        "id": "dental-frank"
      },
      "outputs": [],
      "source": [
        "class GraphDataLoader(DataLoader):\n",
        "    \"\"\"\n",
        "    When dealing with batches it's always a good idea to inherit from PyTorch's provided classes (Dataset/DataLoader).\n",
        "\n",
        "    \"\"\"\n",
        "    def __init__(self, node_features_list, node_labels_list, edge_index_list, hidden_node_idx_list, batch_size=1, shuffle=False):\n",
        "        graph_dataset = GraphDataset(node_features_list, node_labels_list, edge_index_list, hidden_node_idx_list)\n",
        "        # We need to specify a custom collate function, it doesn't work with the default one\n",
        "        super().__init__(graph_dataset, batch_size, shuffle, collate_fn=graph_collate_fn)\n",
        "\n",
        "\n",
        "class GraphDataset(Dataset):\n",
        "    \"\"\"\n",
        "    This one just fetches a single graph from the split when GraphDataLoader \"asks\" it\n",
        "\n",
        "    \"\"\"\n",
        "    def __init__(self, node_features_list, node_labels_list, edge_index_list, hidden_node_idx_list):\n",
        "        self.node_features_list = node_features_list\n",
        "        self.node_labels_list = node_labels_list\n",
        "        self.edge_index_list = edge_index_list\n",
        "        self.hidden_node_idx_list = hidden_node_idx_list\n",
        "\n",
        "    # 2 interface functions that need to be defined are len and getitem so that DataLoader can do it's magic\n",
        "    def __len__(self):\n",
        "        return len(self.edge_index_list)\n",
        "\n",
        "    def __getitem__(self, idx):  # we just fetch a single graph\n",
        "        return self.node_features_list[idx], self.node_labels_list[idx], self.edge_index_list[idx], self.hidden_node_idx_list[idx]\n",
        "\n",
        "\n",
        "def graph_collate_fn(batch):\n",
        "    \"\"\"\n",
        "    The main idea here is to take multiple graphs from PPI as defined by the batch size\n",
        "    and merge them into a single graph with multiple connected components.\n",
        "\n",
        "    It's important to adjust the node ids in edge indices such that they form a consecutive range. Otherwise\n",
        "    the scatter functions in the implementation 3 will fail.\n",
        "\n",
        "    :param batch: contains a list of edge_index, node_features, node_labels tuples (as provided by the GraphDataset)\n",
        "    \"\"\"\n",
        "\n",
        "    edge_index_list = []\n",
        "    node_features_list = []\n",
        "    node_labels_list = []\n",
        "    hidden_node_idx_list = []\n",
        "    num_nodes_seen = 0\n",
        "\n",
        "    for features_labels_edge_index_tuple in batch:\n",
        "        # Just collect these into separate lists\n",
        "        node_features_list.append(features_labels_edge_index_tuple[0])\n",
        "        node_labels_list.append(features_labels_edge_index_tuple[1])\n",
        "\n",
        "        edge_index = features_labels_edge_index_tuple[2]  # all of the components are in the [0, N] range\n",
        "        hidden_node_idx_list.append(torch.tensor(features_labels_edge_index_tuple[3]))\n",
        "        edge_index_list.append(edge_index + num_nodes_seen)  # very important! translate the range of this component\n",
        "        num_nodes_seen += len(features_labels_edge_index_tuple[1])  # update the number of nodes we've seen so far\n",
        "\n",
        "    # Merge the PPI graphs into a single graph with multiple connected components\n",
        "    node_features = torch.cat(node_features_list, 0)\n",
        "    node_labels = torch.cat(node_labels_list, 0)\n",
        "    edge_index = torch.cat(edge_index_list, 1)\n",
        "    hidden_node_idx = torch.stack(hidden_node_idx_list)\n",
        "\n",
        "    return node_features, node_labels, edge_index, hidden_node_idx"
      ]
    },
    {
      "cell_type": "code",
      "execution_count": null,
      "id": "V8ofeRl7-6ou",
      "metadata": {
        "colab": {
          "base_uri": "https://localhost:8080/"
        },
        "id": "V8ofeRl7-6ou",
        "outputId": "ae644f59-f234-4c68-9d46-c9f607e8d335"
      },
      "outputs": [
        {
          "data": {
            "text/plain": [
              "tensor([1, 1])"
            ]
          },
          "execution_count": 21,
          "metadata": {},
          "output_type": "execute_result"
        }
      ],
      "source": [
        "torch.stack([torch.tensor(1), torch.tensor(1)])"
      ]
    },
    {
      "cell_type": "markdown",
      "id": "marine-mechanics",
      "metadata": {
        "id": "marine-mechanics"
      },
      "source": [
        "The idea is simple 💡 (as all things should be 😜). In order to pass a batch of graphs into GAT we do the following:\n",
        "\n",
        "1. During the preprocessing step, we map the edge index from the original range into the [0, N] range, where N is the number of nodes in a given graph. Example: the third graph in the training split may contain nodes [3500, ..., 5000] and thus originally its edge index would be in that very same range, e.g.: [3500, 4232], [3808, 4232], ...]. By subtracting the min element, 3500 in this case, we bring the edge index into [0, 1500] range.\n",
        "\n",
        "---\n",
        "\n",
        "2. In the `graph_collate_fn` function, edge indices are in the normalized range i.e. [0, N]. What we do is we shift them such that we end up with a single graph that actually consists out of multiple smaller PPI graphs which are not connected with each other i.e. they represent separate [connected components](https://www.geeksforgeeks.org/connected-components-in-an-undirected-graph/). \n",
        "\n",
        "---\n",
        "\n",
        "**Example:** let's say we have 3 graphs in a batch and all 3 edge indices are in the [0, 1000] range. What we'll do is the following: we'll leave the first graph without any modification, we'll shift second graph's range to [1000, 2000], because we had 1000 nodes in the graph that came before, and we'll shift the third graph's range into [2000, 3000], again because we had 2000 nodes that came before this graph. So the final edge index will have nodes in the [0, 3000] range and we treat that as a single graph with multiple connected components. 🤓\n",
        "\n",
        "Nice, finally let's try and load it. We should also analyze the shapes - that's always a good idea."
      ]
    },
    {
      "cell_type": "code",
      "execution_count": null,
      "id": "unexpected-mercury",
      "metadata": {
        "colab": {
          "base_uri": "https://localhost:8080/"
        },
        "id": "unexpected-mercury",
        "outputId": "d815d981-b815-4f75-935a-a8b46552a74f"
      },
      "outputs": [
        {
          "name": "stdout",
          "output_type": "stream",
          "text": [
            "********************\n",
            "torch.Size([3, 50]) torch.float32\n",
            "torch.Size([3]) torch.int64\n",
            "torch.Size([2, 2]) torch.int64\n",
            "torch.Size([1]) torch.int64\n"
          ]
        },
        {
          "name": "stderr",
          "output_type": "stream",
          "text": [
            "/usr/local/lib/python3.7/dist-packages/ipykernel_launcher.py:54: UserWarning: To copy construct from a tensor, it is recommended to use sourceTensor.clone().detach() or sourceTensor.clone().detach().requires_grad_(True), rather than torch.tensor(sourceTensor).\n"
          ]
        }
      ],
      "source": [
        "# Let's just define dummy visualization functions for now - just to stop Python interpreter from complaining!\n",
        "# We'll define them in a moment, properly, I swear.\n",
        "\n",
        "def plot_in_out_degree_distributions():\n",
        "    pass\n",
        "\n",
        "def visualize_graph():\n",
        "    pass\n",
        "\n",
        "device = torch.device(\"cuda\" if torch.cuda.is_available() else \"cpu\")  # checking whether you have a GPU\n",
        "\n",
        "config = {\n",
        "    'dataset_name': DatasetType.PPI.name,\n",
        "    'should_visualize': False,\n",
        "    'batch_size': 1,\n",
        "    'ppi_load_test_only': False  # small optimization for loading test graphs only, we won't use it here\n",
        "}\n",
        "\n",
        "data_loader_train, data_loader_val, data_loader_test = load_graph_data(config, device)\n",
        "# Let's fetch a single batch from the train graph data loader\n",
        "node_features, node_labels, edge_index, hidden_node_idx = next(iter(data_loader_train))\n",
        "\n",
        "print('*' * 20)\n",
        "print(node_features.shape, node_features.dtype)\n",
        "print(node_labels.shape, node_labels.dtype)\n",
        "print(edge_index.shape, edge_index.dtype)\n",
        "print(hidden_node_idx.shape, hidden_node_idx.dtype)"
      ]
    },
    {
      "cell_type": "markdown",
      "id": "expanded-friday",
      "metadata": {
        "id": "expanded-friday"
      },
      "source": [
        "Nice! Analyzing the shapes we see the following:\n",
        "1. This specific PPI train graph (batch size = 1) has 3021 nodes \n",
        "2. Each node has **50 features** (check out [data_loading.py](https://github.com/gordicaleksa/pytorch-GAT/blob/main/utils/data_loading.py) for much more detail)\n",
        "3. PPI has **121 classes** and each node can have multiple classes associated with it (multi-label classification dataset)\n",
        "4. This graph has 94359 edges (including the self edges)! (Compare this to 13k edges in Cora)\n",
        "5. PPI has **20 train** graphs, **2 validation** graphs and **2 test** graphs\n",
        "\n",
        "Additionally the edge index is of `int 64` type. Why? Well it's a constraint that PyTorch is imposing upon us. `index_select` functions require torch.long (i.e. 64 bit integer) and we use those in GAT implementation 3 - that's it.\n",
        "\n",
        "node_labels can be `float32` because `nn.BCEWithLogitsLoss` doesn't require long/int64 type (compare that to `nn.CrossEntropyLoss`, that we used in the Cora notebook, which does require int64s). So we can save up 2x memory! Not bad.\n",
        "\n",
        "---\n",
        "\n",
        "On the \"side note\", it's always a **good idea to test your code as you're progressing with your project.** \n",
        "\n",
        "Data loading is completely orthogonal to the rest of this notebook so we can test it, standalone, and make sure the shapes and datatypes make sense. I use this strategy while developing projects like this one (and in general).\n",
        "\n",
        "I start with data, I add the loading functionality, I add some visualizations and only then do I usually start developing the deep learning model itself.\n",
        "\n",
        "Visualizations are a huge bonus, so let's develop them."
      ]
    },
    {
      "cell_type": "markdown",
      "id": "mediterranean-advancement",
      "metadata": {
        "id": "mediterranean-advancement"
      },
      "source": [
        "# Visualizing your data 🔮👓\n",
        "\n",
        "Let's start by understanding the degree distribution of nodes in PPI - i.e. how many input/output edges do nodes have, a certain measure of connectedness of the graph.\n",
        "\n",
        "Run the following cell:"
      ]
    },
    {
      "cell_type": "code",
      "execution_count": null,
      "id": "welcome-construction",
      "metadata": {
        "id": "welcome-construction"
      },
      "outputs": [],
      "source": [
        "def plot_in_out_degree_distributions(edge_index, num_of_nodes, dataset_name):\n",
        "    \"\"\"\n",
        "        Note: It would be easy to do various kinds of powerful network analysis using igraph/networkx, etc.\n",
        "        I chose to explicitly calculate only the node degree statistics here, but you can go much further if needed and\n",
        "        calculate the graph diameter, number of triangles and many other concepts from the network analysis field.\n",
        "\n",
        "    \"\"\"\n",
        "    if isinstance(edge_index, torch.Tensor):\n",
        "        edge_index = edge_index.cpu().numpy()\n",
        "        \n",
        "    assert isinstance(edge_index, np.ndarray), f'Expected NumPy array got {type(edge_index)}.'\n",
        "\n",
        "    # Store each node's input and output degree (they're the same for undirected graphs such as Cora/PPI)\n",
        "    in_degrees = np.zeros(num_of_nodes, dtype=np.int)\n",
        "    out_degrees = np.zeros(num_of_nodes, dtype=np.int)\n",
        "\n",
        "    # Edge index shape = (2, E), the first row contains the source nodes, the second one target/sink nodes\n",
        "    # Note on terminology: source nodes point to target/sink nodes\n",
        "    num_of_edges = edge_index.shape[1]\n",
        "    for cnt in range(num_of_edges):\n",
        "        source_node_id = edge_index[0, cnt]\n",
        "        target_node_id = edge_index[1, cnt]\n",
        "\n",
        "        out_degrees[source_node_id] += 1  # source node points towards some other node -> increment it's out degree\n",
        "        in_degrees[target_node_id] += 1  # similarly here\n",
        "\n",
        "    hist = np.zeros(np.max(out_degrees) + 1)\n",
        "    for out_degree in out_degrees:\n",
        "        hist[out_degree] += 1\n",
        "\n",
        "    fig = plt.figure(figsize=(12,8), dpi=100)  # otherwise plots are really small in Jupyter Notebook\n",
        "    fig.subplots_adjust(hspace=0.6)\n",
        "\n",
        "    plt.subplot(311)\n",
        "    plt.plot(in_degrees, color='red')\n",
        "    plt.xlabel('node id'); plt.ylabel('in-degree count'); plt.title('Input degree for different node ids')\n",
        "\n",
        "    plt.subplot(312)\n",
        "    plt.plot(out_degrees, color='green')\n",
        "    plt.xlabel('node id'); plt.ylabel('out-degree count'); plt.title('Out degree for different node ids')\n",
        "\n",
        "    plt.subplot(313)\n",
        "    plt.plot(hist, color='blue')\n",
        "    plt.xlabel('node degree'); plt.ylabel('# nodes for a given out-degree'); plt.title(f'Node out-degree distribution for {dataset_name} dataset')\n",
        "    plt.xticks(np.arange(0, len(hist), 20.0))\n",
        "\n",
        "    plt.grid(True)\n",
        "    plt.show()"
      ]
    },
    {
      "cell_type": "markdown",
      "id": "sublime-franklin",
      "metadata": {
        "id": "sublime-franklin"
      },
      "source": [
        "Brilliant, let's now visualize PPI's degree distributions!"
      ]
    },
    {
      "cell_type": "code",
      "execution_count": null,
      "id": "optimum-clearance",
      "metadata": {
        "colab": {
          "base_uri": "https://localhost:8080/",
          "height": 706
        },
        "id": "optimum-clearance",
        "outputId": "c6acc8a9-f0aa-4196-afd1-9eac6e5db1e6"
      },
      "outputs": [
        {
          "data": {
            "image/png": "[encoded data removed]",
            "text/plain": [
              "<Figure size 1200x800 with 3 Axes>"
            ]
          },
          "metadata": {
            "needs_background": "light"
          },
          "output_type": "display_data"
        }
      ],
      "source": [
        "num_of_nodes = len(node_labels)\n",
        "plot_in_out_degree_distributions(edge_index, num_of_nodes, config['dataset_name'])"
      ]
    },
    {
      "cell_type": "markdown",
      "id": "ordinary-quantity",
      "metadata": {
        "id": "ordinary-quantity"
      },
      "source": [
        "You can immediately notice a couple of things:\n",
        "* The top 2 plots are the same, because we treat PPI as an undirected graph\n",
        "* Many more nodes have a large number of edges (compared to Cora), but still, most nodes have far less edges\n",
        "* The third plot nicely visualizes this in the form of a histogram - most nodes have only `1-20` edges (hence the peak on the leftmost side). But it's **more spread out compared to Cora.**\n",
        "\n",
        "Ok, we're starting to get some valuable insight into PPI, let's continue further and literally visualize/see PPI's graphs.\n",
        "\n",
        "The following cell will plot the training graph we fetched in one of the previous cells, run it. (*whispers: run it*)"
      ]
    },
    {
      "cell_type": "code",
      "execution_count": null,
      "id": "lyric-coordinate",
      "metadata": {
        "colab": {
          "base_uri": "https://localhost:8080/",
          "height": 905
        },
        "id": "lyric-coordinate",
        "outputId": "ece84f97-87f8-438f-8c10-a7a1564b4105"
      },
      "outputs": [
        {
          "name": "stdout",
          "output_type": "stream",
          "text": [
            "Plotting results ... (it may take couple of seconds).\n"
          ]
        },
        {
          "data": {
            "image/svg+xml": "<?xml version=\"1.0\" encoding=\"UTF-8\"?>\n<svg xmlns=\"http://www.w3.org/2000/svg\" xmlns:xlink=\"http://www.w3.org/1999/xlink\" width=\"650pt\" height=\"650pt\" viewBox=\"0 0 650 650\" version=\"1.1\">\n<g id=\"surface2\">\n<rect x=\"0\" y=\"0\" width=\"650\" height=\"650\" style=\"fill:rgb(100%,100%,100%);fill-opacity:1;stroke:none;\"/>\n<path style=\"fill:none;stroke-width:1;stroke-linecap:butt;stroke-linejoin:miter;stroke:rgb(26.666667%,26.666667%,26.666667%);stroke-opacity:1;stroke-miterlimit:10;\" d=\"M 645 645 L 325 324.996094 \"/>\n<path style=\"fill:none;stroke-width:1;stroke-linecap:butt;stroke-linejoin:miter;stroke:rgb(26.666667%,26.666667%,26.666667%);stroke-opacity:1;stroke-miterlimit:10;\" d=\"M 325 324.996094 L 5 5 \"/>\n<path style=\"fill-rule:nonzero;fill:rgb(100%,0%,0%);fill-opacity:1;stroke-width:1;stroke-linecap:butt;stroke-linejoin:miter;stroke:rgb(0%,0%,0%);stroke-opacity:1;stroke-miterlimit:10;\" d=\"M 645.050781 645 C 645.050781 645.066406 644.949219 645.066406 644.949219 645 C 644.949219 644.933594 645.050781 644.933594 645.050781 645 \"/>\n<path style=\"fill-rule:nonzero;fill:rgb(100%,0%,0%);fill-opacity:1;stroke-width:1;stroke-linecap:butt;stroke-linejoin:miter;stroke:rgb(0%,0%,0%);stroke-opacity:1;stroke-miterlimit:10;\" d=\"M 325.101562 324.996094 C 325.101562 325.128906 324.902344 325.128906 324.902344 324.996094 C 324.902344 324.859375 325.101562 324.859375 325.101562 324.996094 \"/>\n<path style=\"fill-rule:nonzero;fill:rgb(100%,0%,0%);fill-opacity:1;stroke-width:1;stroke-linecap:butt;stroke-linejoin:miter;stroke:rgb(0%,0%,0%);stroke-opacity:1;stroke-miterlimit:10;\" d=\"M 5.050781 5 C 5.050781 5.066406 4.949219 5.066406 4.949219 5 C 4.949219 4.933594 5.050781 4.933594 5.050781 5 \"/>\n</g>\n</svg>\n",
            "text/plain": [
              "<igraph.drawing.Plot at 0x7f714a222490>"
            ]
          },
          "execution_count": 25,
          "metadata": {
            "image/svg+xml": {
              "isolated": true
            }
          },
          "output_type": "execute_result"
        }
      ],
      "source": [
        "\"\"\"\n",
        "Check out this blog for available graph visualization tools:\n",
        "    https://towardsdatascience.com/large-graph-visualization-tools-and-approaches-2b8758a1cd59\n",
        "\n",
        "Basically depending on how big your graph is there may be better drawing tools than igraph.\n",
        "\n",
        "Note: I unfortunatelly had to flatten this function since igraph is having some problems with Jupyter Notebook,\n",
        "we'll only call it here so it's fine!\n",
        "\n",
        "\"\"\"\n",
        "\n",
        "dataset_name = config['dataset_name']\n",
        "visualization_tool=GraphVisualizationTool.IGRAPH\n",
        "\n",
        "if isinstance(edge_index, torch.Tensor):\n",
        "    edge_index_np = edge_index.cpu().numpy()\n",
        "\n",
        "if isinstance(node_labels, torch.Tensor):\n",
        "    node_labels_np = node_labels.cpu().numpy()\n",
        "\n",
        "num_of_nodes = len(node_labels_np)\n",
        "edge_index_tuples = list(zip(edge_index_np[0, :], edge_index_np[1, :]))  # igraph requires this format\n",
        "\n",
        "# Construct the igraph graph\n",
        "ig_graph = ig.Graph()\n",
        "ig_graph.add_vertices(num_of_nodes)\n",
        "ig_graph.add_edges(edge_index_tuples)\n",
        "\n",
        "# Prepare the visualization settings dictionary\n",
        "visual_style = {}\n",
        "\n",
        "# Defines the size of the plot and margins\n",
        "visual_style[\"bbox\"] = (650, 650)\n",
        "visual_style[\"margin\"] = 5\n",
        "\n",
        "# I've chosen the edge thickness such that it's proportional to the number of shortest paths (geodesics)\n",
        "# that go through a certain edge in our graph (edge_betweenness function, a simple ad hoc heuristic)\n",
        "\n",
        "# line1: I use log otherwise some edges will be too thick and others not visible at all\n",
        "# edge_betweeness returns < 1 for certain edges that's why I use clip as log would be negative for those edges\n",
        "# line2: Normalize so that the thickest edge is 1 otherwise edges appear too thick on the chart\n",
        "# line3: The idea here is to make the strongest edge stay stronger than others, 6 just worked, don't dwell on it\n",
        "\n",
        "edge_weights_raw = np.clip(np.log(np.asarray(ig_graph.edge_betweenness())+1e-16), a_min=0, a_max=None)\n",
        "edge_weights_raw_normalized = edge_weights_raw / np.max(edge_weights_raw)\n",
        "edge_weights = [w**6 for w in edge_weights_raw_normalized]\n",
        "visual_style[\"edge_width\"] = edge_weights\n",
        "\n",
        "# A simple heuristic for vertex size.\n",
        "visual_style[\"vertex_size\"] = [deg / 10 for deg in ig_graph.degree()]\n",
        "\n",
        "# Set the layout - the way the graph is presented on a 2D chart. Graph drawing is a subfield for itself!\n",
        "# I used \"Kamada Kawai\" a force-directed method, this family of methods are based on physical system simulation.\n",
        "visual_style[\"layout\"] = ig_graph.layout_kamada_kawai()\n",
        "\n",
        "print('Plotting results ... (it may take couple of seconds).')\n",
        "ig.plot(ig_graph, **visual_style)\n",
        "\n",
        "# This website has got some awesome visualizations check it out:\n",
        "# http://networkrepository.com/graphvis.php?d=./data/gsm50/labeled/cora.edges"
      ]
    },
    {
      "cell_type": "markdown",
      "id": "artistic-alpha",
      "metadata": {
        "id": "artistic-alpha"
      },
      "source": [
        "<img src=\"data/readme_pics/ppi_graph_jupyter.PNG\" alt=\"PPI visualized\" align=\"center\"/> <br/>\n",
        "\n",
        "**Note: I had to clear the original output of this cell when checking this notebook in, otherwise the file is huuge!** <br/>\n",
        "**I'm just showing you one arbitrary PPI training graph example here, yours may be different (there are 20 training graphs).**\n",
        "\n",
        "And I don't know about you, but I think this one is also beautiful! And it's **very different from Cora.** We can see much more edges.\n",
        "\n",
        "There are also multiple big nodes of similar size whereas in Cora a single node dominates the plot.\n",
        "\n",
        "Ok, we're done with visualizations and understanding our data. This is a huge milestone, so tap yourself on the back. 🏆🎂🎵\n",
        "\n",
        "We have the level 2 unlocked (the GAT model 🦄). 😍\n",
        "\n",
        "And now, let's understand the model! (just **skip the Part 2** and run the cells blindly **if you already went through the 1st part** of this GNN notebook series)"
      ]
    },
    {
      "cell_type": "markdown",
      "id": "emotional-regulation",
      "metadata": {
        "id": "emotional-regulation"
      },
      "source": [
        "# Part 2: Understanding GAT's inner workings 💻🦄\n",
        "\n",
        "First let's create a high level class where we'll build up `GAT` from `GatLayer` objects. \n",
        "\n",
        "It basically just stacks the layers into a nn.Sequential object and additionally since nn.Sequential expects a single input (and it has a single output) I just pack the data (features, edge index) into a tuple - *pure syntactic sugar*. "
      ]
    },
    {
      "cell_type": "code",
      "execution_count": null,
      "id": "hourly-alert",
      "metadata": {
        "id": "hourly-alert"
      },
      "outputs": [],
      "source": [
        "import torch.nn as nn\n",
        "from torch.optim import Adam\n",
        "\n",
        "\n",
        "class GAT(torch.nn.Module):\n",
        "    \"\"\"\n",
        "    The most interesting and hardest implementation is implementation #3.\n",
        "    Imp1 and imp2 differ in subtle details but are basically the same thing.\n",
        "\n",
        "    So I'll focus on imp #3 in this notebook.\n",
        "\n",
        "    \"\"\"\n",
        "\n",
        "    def __init__(self, num_of_layers, num_heads_per_layer, num_features_per_layer, add_skip_connection=True, bias=True,\n",
        "                 dropout=0.6, log_attention_weights=False):\n",
        "        super().__init__()\n",
        "        assert num_of_layers == len(num_heads_per_layer) == len(num_features_per_layer) - 1, f'Enter valid arch params.'\n",
        "\n",
        "        num_heads_per_layer = [1] + num_heads_per_layer  # trick - so that I can nicely create GAT layers below\n",
        "\n",
        "        gat_layers = []  # collect GAT layers\n",
        "        for i in range(num_of_layers):\n",
        "            layer = GATLayer(\n",
        "                num_in_features=num_features_per_layer[i] * num_heads_per_layer[i],  # consequence of concatenation\n",
        "                num_out_features=num_features_per_layer[i+1],\n",
        "                num_of_heads=num_heads_per_layer[i+1],\n",
        "                concat=True if i < num_of_layers - 1 else False,  # last GAT layer does mean avg, the others do concat\n",
        "                activation=nn.ELU() if i < num_of_layers - 1 else None,  # last layer just outputs raw scores\n",
        "                dropout_prob=dropout,\n",
        "                add_skip_connection=add_skip_connection,\n",
        "                bias=bias,\n",
        "                log_attention_weights=log_attention_weights\n",
        "            )\n",
        "            gat_layers.append(layer)\n",
        "\n",
        "        self.gat_net = nn.Sequential(\n",
        "            *gat_layers,\n",
        "        )\n",
        "\n",
        "    # data is just a (in_nodes_features, edge_index) tuple, I had to do it like this because of the nn.Sequential:\n",
        "    # https://discuss.pytorch.org/t/forward-takes-2-positional-arguments-but-3-were-given-for-nn-sqeuential-with-linear-layers/65698\n",
        "    def forward(self, data):\n",
        "        return self.gat_net(data)"
      ]
    },
    {
      "cell_type": "markdown",
      "id": "turkish-formula",
      "metadata": {
        "id": "turkish-formula"
      },
      "source": [
        "Now for the fun part let's define the layer. \n",
        "\n",
        "I really don't think that I can explain it any better, using words, than you taking your time to digest the code and the comments.\n",
        "\n",
        "Also make sure to check out [my video on GAT](https://www.youtube.com/watch?v=uFLeKkXWq2c) before you start losing time trying to figure it out \"from scratch\". It's always good to have some theoretical background at your hand."
      ]
    },
    {
      "cell_type": "code",
      "execution_count": null,
      "id": "outer-monitoring",
      "metadata": {
        "id": "outer-monitoring"
      },
      "outputs": [],
      "source": [
        "class GATLayer(torch.nn.Module):\n",
        "    \"\"\"\n",
        "    Implementation #3 was inspired by PyTorch Geometric: https://github.com/rusty1s/pytorch_geometric\n",
        "\n",
        "    But, it's hopefully much more readable! (and of similar performance)\n",
        "\n",
        "    \"\"\"\n",
        "    \n",
        "    # We'll use these constants in many functions so just extracting them here as member fields\n",
        "    src_nodes_dim = 0  # position of source nodes in edge index\n",
        "    trg_nodes_dim = 1  # position of target nodes in edge index\n",
        "\n",
        "    # These may change in the inductive setting - leaving it like this for now (not future proof)\n",
        "    nodes_dim = 0      # node dimension (axis is maybe a more familiar term nodes_dim is the position of \"N\" in tensor)\n",
        "    head_dim = 1       # attention head dim\n",
        "\n",
        "    def __init__(self, num_in_features, num_out_features, num_of_heads, concat=True, activation=nn.ELU(),\n",
        "                 dropout_prob=0.6, add_skip_connection=True, bias=True, log_attention_weights=False):\n",
        "\n",
        "        super().__init__()\n",
        "\n",
        "        self.num_of_heads = num_of_heads\n",
        "        self.num_out_features = num_out_features\n",
        "        self.concat = concat  # whether we should concatenate or average the attention heads\n",
        "        self.add_skip_connection = add_skip_connection\n",
        "\n",
        "        #\n",
        "        # Trainable weights: linear projection matrix (denoted as \"W\" in the paper), attention target/source\n",
        "        # (denoted as \"a\" in the paper) and bias (not mentioned in the paper but present in the official GAT repo)\n",
        "        #\n",
        "\n",
        "        # You can treat this one matrix as num_of_heads independent W matrices\n",
        "        self.linear_proj = nn.Linear(num_in_features, num_of_heads * num_out_features, bias=False)\n",
        "\n",
        "        # After we concatenate target node (node i) and source node (node j) we apply the \"additive\" scoring function\n",
        "        # which gives us un-normalized score \"e\". Here we split the \"a\" vector - but the semantics remain the same.\n",
        "        # Basically instead of doing [x, y] (concatenation, x/y are node feature vectors) and dot product with \"a\"\n",
        "        # we instead do a dot product between x and \"a_left\" and y and \"a_right\" and we sum them up\n",
        "        self.scoring_fn_target = nn.Parameter(torch.Tensor(1, num_of_heads, num_out_features))\n",
        "        self.scoring_fn_source = nn.Parameter(torch.Tensor(1, num_of_heads, num_out_features))\n",
        "\n",
        "        # Bias is definitely not crucial to GAT - feel free to experiment (I pinged the main author, Petar, on this one)\n",
        "        if bias and concat:\n",
        "            self.bias = nn.Parameter(torch.Tensor(num_of_heads * num_out_features))\n",
        "        elif bias and not concat:\n",
        "            self.bias = nn.Parameter(torch.Tensor(num_out_features))\n",
        "        else:\n",
        "            self.register_parameter('bias', None)\n",
        "\n",
        "        if add_skip_connection:\n",
        "            self.skip_proj = nn.Linear(num_in_features, num_of_heads * num_out_features, bias=False)\n",
        "        else:\n",
        "            self.register_parameter('skip_proj', None)\n",
        "\n",
        "        #\n",
        "        # End of trainable weights\n",
        "        #\n",
        "\n",
        "        self.leakyReLU = nn.LeakyReLU(0.2)  # using 0.2 as in the paper, no need to expose every setting\n",
        "        self.activation = activation\n",
        "        # Probably not the nicest design but I use the same module in 3 locations, before/after features projection\n",
        "        # and for attention coefficients. Functionality-wise it's the same as using independent modules.\n",
        "        self.dropout = nn.Dropout(p=dropout_prob)\n",
        "\n",
        "        self.log_attention_weights = log_attention_weights  # whether we should log the attention weights\n",
        "        self.attention_weights = None  # for later visualization purposes, I cache the weights here\n",
        "\n",
        "        self.init_params()\n",
        "        \n",
        "    def forward(self, data):\n",
        "        #\n",
        "        # Step 1: Linear Projection + regularization\n",
        "        #\n",
        "\n",
        "        in_nodes_features, edge_index = data  # unpack data\n",
        "        num_of_nodes = in_nodes_features.shape[self.nodes_dim]\n",
        "        assert edge_index.shape[0] == 2, f'Expected edge index with shape=(2,E) got {edge_index.shape}'\n",
        "\n",
        "        # shape = (N, FIN) where N - number of nodes in the graph, FIN - number of input features per node\n",
        "        # We apply the dropout to all of the input node features (as mentioned in the paper)\n",
        "        in_nodes_features = self.dropout(in_nodes_features)\n",
        "\n",
        "        # shape = (N, FIN) * (FIN, NH*FOUT) -> (N, NH, FOUT) where NH - number of heads, FOUT - num of output features\n",
        "        # We project the input node features into NH independent output features (one for each attention head)\n",
        "        nodes_features_proj = self.linear_proj(in_nodes_features).view(-1, self.num_of_heads, self.num_out_features)\n",
        "\n",
        "        nodes_features_proj = self.dropout(nodes_features_proj)  # in the official GAT imp they did dropout here as well\n",
        "\n",
        "        #\n",
        "        # Step 2: Edge attention calculation\n",
        "        #\n",
        "\n",
        "        # Apply the scoring function (* represents element-wise (a.k.a. Hadamard) product)\n",
        "        # shape = (N, NH, FOUT) * (1, NH, FOUT) -> (N, NH, 1) -> (N, NH) because sum squeezes the last dimension\n",
        "        # Optimization note: torch.sum() is as performant as .sum() in my experiments\n",
        "        scores_source = (nodes_features_proj * self.scoring_fn_source).sum(dim=-1)\n",
        "        scores_target = (nodes_features_proj * self.scoring_fn_target).sum(dim=-1)\n",
        "\n",
        "        # We simply copy (lift) the scores for source/target nodes based on the edge index. Instead of preparing all\n",
        "        # the possible combinations of scores we just prepare those that will actually be used and those are defined\n",
        "        # by the edge index.\n",
        "        # scores shape = (E, NH), nodes_features_proj_lifted shape = (E, NH, FOUT), E - number of edges in the graph\n",
        "        scores_source_lifted, scores_target_lifted, nodes_features_proj_lifted = self.lift(scores_source, scores_target, nodes_features_proj, edge_index)\n",
        "        scores_per_edge = self.leakyReLU(scores_source_lifted + scores_target_lifted)\n",
        "\n",
        "        # shape = (E, NH, 1)\n",
        "        attentions_per_edge = self.neighborhood_aware_softmax(scores_per_edge, edge_index[self.trg_nodes_dim], num_of_nodes)\n",
        "        # Add stochasticity to neighborhood aggregation\n",
        "        attentions_per_edge = self.dropout(attentions_per_edge)\n",
        "\n",
        "        #\n",
        "        # Step 3: Neighborhood aggregation\n",
        "        #\n",
        "\n",
        "        # Element-wise (aka Hadamard) product. Operator * does the same thing as torch.mul\n",
        "        # shape = (E, NH, FOUT) * (E, NH, 1) -> (E, NH, FOUT), 1 gets broadcast into FOUT\n",
        "        nodes_features_proj_lifted_weighted = nodes_features_proj_lifted * attentions_per_edge\n",
        "\n",
        "        # This part sums up weighted and projected neighborhood feature vectors for every target node\n",
        "        # shape = (N, NH, FOUT)\n",
        "        out_nodes_features = self.aggregate_neighbors(nodes_features_proj_lifted_weighted, edge_index, in_nodes_features, num_of_nodes)\n",
        "\n",
        "        #\n",
        "        # Step 4: Residual/skip connections, concat and bias\n",
        "        #\n",
        "\n",
        "        out_nodes_features = self.skip_concat_bias(attentions_per_edge, in_nodes_features, out_nodes_features)\n",
        "        return (out_nodes_features, edge_index)\n",
        "\n",
        "    #\n",
        "    # Helper functions (without comments there is very little code so don't be scared!)\n",
        "    #\n",
        "\n",
        "    def neighborhood_aware_softmax(self, scores_per_edge, trg_index, num_of_nodes):\n",
        "        \"\"\"\n",
        "        As the fn name suggest it does softmax over the neighborhoods. Example: say we have 5 nodes in a graph.\n",
        "        Two of them 1, 2 are connected to node 3. If we want to calculate the representation for node 3 we should take\n",
        "        into account feature vectors of 1, 2 and 3 itself. Since we have scores for edges 1-3, 2-3 and 3-3\n",
        "        in scores_per_edge variable, this function will calculate attention scores like this: 1-3/(1-3+2-3+3-3)\n",
        "        (where 1-3 is overloaded notation it represents the edge 1-3 and its (exp) score) and similarly for 2-3 and 3-3\n",
        "         i.e. for this neighborhood we don't care about other edge scores that include nodes 4 and 5.\n",
        "\n",
        "        Note:\n",
        "        Subtracting the max value from logits doesn't change the end result but it improves the numerical stability\n",
        "        and it's a fairly common \"trick\" used in pretty much every deep learning framework.\n",
        "        Check out this link for more details:\n",
        "\n",
        "        https://stats.stackexchange.com/questions/338285/how-does-the-subtraction-of-the-logit-maximum-improve-learning\n",
        "\n",
        "        \"\"\"\n",
        "        # Calculate the numerator. Make logits <= 0 so that e^logit <= 1 (this will improve the numerical stability)\n",
        "        scores_per_edge = scores_per_edge - scores_per_edge.max()\n",
        "        exp_scores_per_edge = scores_per_edge.exp()  # softmax\n",
        "\n",
        "        # Calculate the denominator. shape = (E, NH)\n",
        "        neigborhood_aware_denominator = self.sum_edge_scores_neighborhood_aware(exp_scores_per_edge, trg_index, num_of_nodes)\n",
        "\n",
        "        # 1e-16 is theoretically not needed but is only there for numerical stability (avoid div by 0) - due to the\n",
        "        # possibility of the computer rounding a very small number all the way to 0.\n",
        "        attentions_per_edge = exp_scores_per_edge / (neigborhood_aware_denominator + 1e-16)\n",
        "\n",
        "        # shape = (E, NH) -> (E, NH, 1) so that we can do element-wise multiplication with projected node features\n",
        "        return attentions_per_edge.unsqueeze(-1)\n",
        "\n",
        "    def sum_edge_scores_neighborhood_aware(self, exp_scores_per_edge, trg_index, num_of_nodes):\n",
        "        # The shape must be the same as in exp_scores_per_edge (required by scatter_add_) i.e. from E -> (E, NH)\n",
        "        trg_index_broadcasted = self.explicit_broadcast(trg_index, exp_scores_per_edge)\n",
        "\n",
        "        # shape = (N, NH), where N is the number of nodes and NH the number of attention heads\n",
        "        size = list(exp_scores_per_edge.shape)  # convert to list otherwise assignment is not possible\n",
        "        size[self.nodes_dim] = num_of_nodes\n",
        "        neighborhood_sums = torch.zeros(size, dtype=exp_scores_per_edge.dtype, device=exp_scores_per_edge.device)\n",
        "\n",
        "        # position i will contain a sum of exp scores of all the nodes that point to the node i (as dictated by the\n",
        "        # target index)\n",
        "        neighborhood_sums.scatter_add_(self.nodes_dim, trg_index_broadcasted, exp_scores_per_edge)\n",
        "\n",
        "        # Expand again so that we can use it as a softmax denominator. e.g. node i's sum will be copied to\n",
        "        # all the locations where the source nodes pointed to i (as dictated by the target index)\n",
        "        # shape = (N, NH) -> (E, NH)\n",
        "        return neighborhood_sums.index_select(self.nodes_dim, trg_index)\n",
        "\n",
        "    def aggregate_neighbors(self, nodes_features_proj_lifted_weighted, edge_index, in_nodes_features, num_of_nodes):\n",
        "        size = list(nodes_features_proj_lifted_weighted.shape)  # convert to list otherwise assignment is not possible\n",
        "        size[self.nodes_dim] = num_of_nodes  # shape = (N, NH, FOUT)\n",
        "        out_nodes_features = torch.zeros(size, dtype=in_nodes_features.dtype, device=in_nodes_features.device)\n",
        "\n",
        "        # shape = (E) -> (E, NH, FOUT)\n",
        "        trg_index_broadcasted = self.explicit_broadcast(edge_index[self.trg_nodes_dim], nodes_features_proj_lifted_weighted)\n",
        "        # aggregation step - we accumulate projected, weighted node features for all the attention heads\n",
        "        # shape = (E, NH, FOUT) -> (N, NH, FOUT)\n",
        "        out_nodes_features.scatter_add_(self.nodes_dim, trg_index_broadcasted, nodes_features_proj_lifted_weighted)\n",
        "\n",
        "        return out_nodes_features\n",
        "\n",
        "    def lift(self, scores_source, scores_target, nodes_features_matrix_proj, edge_index):\n",
        "        \"\"\"\n",
        "        Lifts i.e. duplicates certain vectors depending on the edge index.\n",
        "        One of the tensor dims goes from N -> E (that's where the \"lift\" comes from).\n",
        "\n",
        "        \"\"\"\n",
        "        src_nodes_index = edge_index[self.src_nodes_dim]\n",
        "        trg_nodes_index = edge_index[self.trg_nodes_dim]\n",
        "\n",
        "        # Using index_select is faster than \"normal\" indexing (scores_source[src_nodes_index]) in PyTorch!\n",
        "        scores_source = scores_source.index_select(self.nodes_dim, src_nodes_index)\n",
        "        scores_target = scores_target.index_select(self.nodes_dim, trg_nodes_index)\n",
        "        nodes_features_matrix_proj_lifted = nodes_features_matrix_proj.index_select(self.nodes_dim, src_nodes_index)\n",
        "\n",
        "        return scores_source, scores_target, nodes_features_matrix_proj_lifted\n",
        "\n",
        "    def explicit_broadcast(self, this, other):\n",
        "        # Append singleton dimensions until this.dim() == other.dim()\n",
        "        for _ in range(this.dim(), other.dim()):\n",
        "            this = this.unsqueeze(-1)\n",
        "\n",
        "        # Explicitly expand so that shapes are the same\n",
        "        return this.expand_as(other)\n",
        "\n",
        "    def init_params(self):\n",
        "        \"\"\"\n",
        "        The reason we're using Glorot (aka Xavier uniform) initialization is because it's a default TF initialization:\n",
        "            https://stackoverflow.com/questions/37350131/what-is-the-default-variable-initializer-in-tensorflow\n",
        "\n",
        "        The original repo was developed in TensorFlow (TF) and they used the default initialization.\n",
        "        Feel free to experiment - there may be better initializations depending on your problem.\n",
        "\n",
        "        \"\"\"\n",
        "        nn.init.xavier_uniform_(self.linear_proj.weight)\n",
        "        nn.init.xavier_uniform_(self.scoring_fn_target)\n",
        "        nn.init.xavier_uniform_(self.scoring_fn_source)\n",
        "\n",
        "        if self.bias is not None:\n",
        "            torch.nn.init.zeros_(self.bias)\n",
        "\n",
        "    def skip_concat_bias(self, attention_coefficients, in_nodes_features, out_nodes_features):\n",
        "        if self.log_attention_weights:  # potentially log for later visualization in playground.py\n",
        "            self.attention_weights = attention_coefficients\n",
        "\n",
        "        if self.add_skip_connection:  # add skip or residual connection\n",
        "            if out_nodes_features.shape[-1] == in_nodes_features.shape[-1]:  # if FIN == FOUT\n",
        "                # unsqueeze does this: (N, FIN) -> (N, 1, FIN), out features are (N, NH, FOUT) so 1 gets broadcast to NH\n",
        "                # thus we're basically copying input vectors NH times and adding to processed vectors\n",
        "                out_nodes_features += in_nodes_features.unsqueeze(1)\n",
        "            else:\n",
        "                # FIN != FOUT so we need to project input feature vectors into dimension that can be added to output\n",
        "                # feature vectors. skip_proj adds lots of additional capacity which may cause overfitting.\n",
        "                out_nodes_features += self.skip_proj(in_nodes_features).view(-1, self.num_of_heads, self.num_out_features)\n",
        "\n",
        "        if self.concat:\n",
        "            # shape = (N, NH, FOUT) -> (N, NH*FOUT)\n",
        "            out_nodes_features = out_nodes_features.view(-1, self.num_of_heads * self.num_out_features)\n",
        "        else:\n",
        "            # shape = (N, NH, FOUT) -> (N, FOUT)\n",
        "            out_nodes_features = out_nodes_features.mean(dim=self.head_dim)\n",
        "\n",
        "        if self.bias is not None:\n",
        "            out_nodes_features += self.bias\n",
        "\n",
        "        return out_nodes_features if self.activation is None else self.activation(out_nodes_features)"
      ]
    },
    {
      "cell_type": "markdown",
      "id": "private-cemetery",
      "metadata": {
        "id": "private-cemetery"
      },
      "source": [
        "The main idea that leads to huge savings is that we calculate the scores only for the nodes that will actually be used and not for every imaginable combination (that would be valid only in a fully-connected graph).\n",
        "\n",
        "Once we compute the `\"left\"` scores and the `\"right\"` scores, we \"lift\" them up using the edge index. That way\n",
        "if the edge `1->2` is not present in the graph we won't have those score pairs in our data structure.\n",
        "\n",
        "After adding lifted \"left\" and \"right\" (or maybe a better naming would be source and target) scores we do smart `neighborhood-aware softmax` - so that the semantics of GAT is respected. After doing the `scatter add` (which you should take your time to understand and go through the docs) we can combine the projected feature vectors, and voilà, we got ourselves a fully-blown GAT layer.\n",
        "\n",
        "---\n",
        "\n",
        "Take your time and **be patient**! Especially if you're new to GNNs. \n",
        "\n",
        "I didn't learn all of this in 1 day, it takes time for the knowledge to sink in. You'll get there as well! ❤️ (if you're not already there 😜)\n",
        "\n",
        "Having said that, we've got the level 3 unlocked (model training 💪). 😍\n",
        "\n",
        "We have the data 📜 ready, we have the GAT model 🦄 ready, let's start training this beast! 💪"
      ]
    },
    {
      "cell_type": "markdown",
      "id": "urban-involvement",
      "metadata": {
        "id": "urban-involvement"
      },
      "source": [
        "# Part 3: Training GAT 💪 (Multi-label classification on PPI!)\n",
        "\n",
        "Phew, well the hardest part is behind us. Let's know create a simple training loop where the goal is to learn to assign multiple labels to PPI nodes.\n",
        "\n",
        "But first let's define some relevant constants. "
      ]
    },
    {
      "cell_type": "code",
      "execution_count": null,
      "id": "dense-criticism",
      "metadata": {
        "id": "dense-criticism"
      },
      "outputs": [],
      "source": [
        "from torch.utils.tensorboard import SummaryWriter\n",
        "\n",
        "\n",
        "# 3 different model training/eval phases used in train.py\n",
        "class LoopPhase(enum.Enum):\n",
        "    TRAIN = 0,\n",
        "    VAL = 1,\n",
        "    TEST = 2\n",
        "\n",
        "    \n",
        "writer = SummaryWriter()  # (tensorboard) writer will output to ./runs/ directory by default\n",
        "\n",
        "\n",
        "# Global vars used for early stopping. After some number of epochs (as defined by the patience_period var) without any\n",
        "# improvement on the validation dataset (measured via micro-F1 metric), we'll break out from the training loop.\n",
        "BEST_VAL_MICRO_F1 = 0\n",
        "BEST_VAL_LOSS = 0\n",
        "PATIENCE_CNT = 0\n",
        "\n",
        "BINARIES_PATH = os.path.join(os.getcwd(), 'models', 'binaries')\n",
        "CHECKPOINTS_PATH = os.path.join(os.getcwd(), 'models', 'checkpoints')\n",
        "\n",
        "# Make sure these exist as the rest of the code assumes it\n",
        "os.makedirs(BINARIES_PATH, exist_ok=True)\n",
        "os.makedirs(CHECKPOINTS_PATH, exist_ok=True)"
      ]
    },
    {
      "cell_type": "markdown",
      "id": "hungry-ebony",
      "metadata": {
        "id": "hungry-ebony"
      },
      "source": [
        "Also, let's define a couple of functions that will be useful while training the model.\n",
        "\n",
        "The training state contains a lot of useful `metadata` which we can later use. You can imagine that saving the test accuracy of your model is important, especially when you're training your models on a cloud - it makes the organization so much better."
      ]
    },
    {
      "cell_type": "code",
      "execution_count": null,
      "id": "cardiac-federal",
      "metadata": {
        "id": "cardiac-federal"
      },
      "outputs": [],
      "source": [
        "import git\n",
        "import re  # regex\n",
        "\n",
        "\n",
        "def get_training_state(training_config, model):\n",
        "    training_state = {\n",
        "        \"commit_hash\": git.Repo(search_parent_directories=True).head.object.hexsha,\n",
        "\n",
        "        # Training details\n",
        "        \"dataset_name\": training_config['dataset_name'],\n",
        "        \"num_of_epochs\": training_config['num_of_epochs'],\n",
        "        \"test_perf\": training_config['test_perf'],\n",
        "\n",
        "        # Model structure\n",
        "        \"num_of_layers\": training_config['num_of_layers'],\n",
        "        \"num_heads_per_layer\": training_config['num_heads_per_layer'],\n",
        "        \"num_features_per_layer\": training_config['num_features_per_layer'],\n",
        "        \"add_skip_connection\": training_config['add_skip_connection'],\n",
        "        \"bias\": training_config['bias'],\n",
        "        \"dropout\": training_config['dropout'],\n",
        "\n",
        "        # Model state\n",
        "        \"state_dict\": model.state_dict()\n",
        "    }\n",
        "\n",
        "    return training_state\n",
        "\n",
        "\n",
        "def print_model_metadata(training_state):\n",
        "    header = f'\\n{\"*\"*5} Model training metadata: {\"*\"*5}'\n",
        "    print(header)\n",
        "\n",
        "    for key, value in training_state.items():\n",
        "        if key != 'state_dict':  # don't print state_dict it's a bunch of numbers...\n",
        "            print(f'{key}: {value}')\n",
        "    print(f'{\"*\" * len(header)}\\n')\n",
        "    \n",
        "\n",
        "# This one makes sure we don't overwrite the valuable model binaries (feel free to ignore - not crucial to GAT method)\n",
        "def get_available_binary_name(dataset_name='unknown'):\n",
        "    prefix = f'gat_{dataset_name}'\n",
        "\n",
        "    def valid_binary_name(binary_name):\n",
        "        # First time you see raw f-string? Don't worry the only trick is to double the brackets.\n",
        "        pattern = re.compile(rf'{prefix}_[0-9]{{6}}\\.pth')\n",
        "        return re.fullmatch(pattern, binary_name) is not None\n",
        "\n",
        "    # Just list the existing binaries so that we don't overwrite them but write to a new one\n",
        "    valid_binary_names = list(filter(valid_binary_name, os.listdir(BINARIES_PATH)))\n",
        "    if len(valid_binary_names) > 0:\n",
        "        last_binary_name = sorted(valid_binary_names)[-1]\n",
        "        new_suffix = int(last_binary_name.split('.')[0][-6:]) + 1  # increment by 1\n",
        "        return f'{prefix}_{str(new_suffix).zfill(6)}.pth'\n",
        "    else:\n",
        "        return f'{prefix}_000000.pth'"
      ]
    },
    {
      "cell_type": "markdown",
      "id": "binary-brother",
      "metadata": {
        "id": "binary-brother"
      },
      "source": [
        "Nice, now `argparse` is just a nice way to **organize** your program settings:"
      ]
    },
    {
      "cell_type": "code",
      "execution_count": null,
      "id": "MJt6lDgprSM1",
      "metadata": {
        "colab": {
          "base_uri": "https://localhost:8080/"
        },
        "id": "MJt6lDgprSM1",
        "outputId": "e8d527b9-6b6a-4999-d66c-b4f9253abe19"
      },
      "outputs": [
        {
          "data": {
            "text/plain": [
              "(50, 11)"
            ]
          },
          "execution_count": 30,
          "metadata": {},
          "output_type": "execute_result"
        }
      ],
      "source": [
        "PPI_NUM_INPUT_FEATURES, PPI_NUM_CLASSES"
      ]
    },
    {
      "cell_type": "code",
      "execution_count": null,
      "id": "numerous-planet",
      "metadata": {
        "id": "numerous-planet"
      },
      "outputs": [],
      "source": [
        "import argparse\n",
        "\n",
        "\n",
        "def get_training_args():\n",
        "    parser = argparse.ArgumentParser()\n",
        "\n",
        "    # Training related\n",
        "    parser.add_argument(\"--num_of_epochs\", type=int, help=\"number of training epochs\", default=200)\n",
        "    parser.add_argument(\"--patience_period\", type=int, help=\"number of epochs with no improvement on val before terminating\", default=100)\n",
        "    parser.add_argument(\"--lr\", type=float, help=\"model learning rate\", default=5e-3)\n",
        "    parser.add_argument(\"--weight_decay\", type=float, help=\"L2 regularization on model weights\", default=0)\n",
        "    parser.add_argument(\"--should_test\", type=bool, help='should test the model on the test dataset?', default=True)\n",
        "    parser.add_argument(\"--force_cpu\", type=bool, help='use CPU if your GPU is too small', default=False)\n",
        "\n",
        "    # Dataset related (note: we need the dataset name for metadata and related stuff, and not for picking the dataset)\n",
        "    parser.add_argument(\"--dataset_name\", choices=[el.name for el in DatasetType], help='dataset to use for training', default=DatasetType.PPI.name)\n",
        "    parser.add_argument(\"--batch_size\", type=int, help='number of graphs in a batch', default=2)\n",
        "    parser.add_argument(\"--should_visualize\", type=bool, help='should visualize the dataset?', default=False)\n",
        "\n",
        "    # Logging/debugging/checkpoint related (helps a lot with experimentation)\n",
        "    parser.add_argument(\"--enable_tensorboard\", type=bool, help=\"enable tensorboard logging\", default=False)\n",
        "    parser.add_argument(\"--console_log_freq\", type=int, help=\"log to output console (epoch) freq (None for no logging)\", default=10)\n",
        "    parser.add_argument(\"--checkpoint_freq\", type=int, help=\"checkpoint model saving (epoch) freq (None for no logging)\", default=5)\n",
        "    args = parser.parse_args('')\n",
        "\n",
        "    # I'm leaving the hyperparam values as reported in the paper, but I experimented a bit and the comments suggest\n",
        "    # how you can make GAT achieve an even higher micro-F1 or make it smaller\n",
        "    gat_config = {\n",
        "        # GNNs, contrary to CNNs, are often shallow (it ultimately depends on the graph properties)\n",
        "        \"num_of_layers\": 3,  # PPI has got 42% of nodes with all 0 features - that's why 3 layers are useful\n",
        "        \"num_heads_per_layer\": [4, 4, 6],  # other values may give even better results from the reported ones\n",
        "        \"num_features_per_layer\": [PPI_NUM_INPUT_FEATURES, 64, 64, PPI_NUM_CLASSES],  # 64 would also give ~0.975 uF1!\n",
        "        \"add_skip_connection\": True,  # skip connection is very important! (keep it otherwise micro-F1 is almost 0)\n",
        "        \"bias\": True,  # bias doesn't matter that much\n",
        "        \"dropout\": 0.0,  # dropout hurts the performance (best to keep it at 0)\n",
        "    }\n",
        "\n",
        "    # Wrapping training configuration into a dictionary\n",
        "    training_config = dict()\n",
        "    for arg in vars(args):\n",
        "        training_config[arg] = getattr(args, arg)\n",
        "    training_config['ppi_load_test_only'] = False  # load both train/val/test data loaders (don't change it)\n",
        "\n",
        "    # Add additional config information\n",
        "    training_config.update(gat_config)\n",
        "\n",
        "    return training_config"
      ]
    },
    {
      "cell_type": "markdown",
      "id": "waiting-stanford",
      "metadata": {
        "id": "waiting-stanford"
      },
      "source": [
        "Now for the juicy part. 🍪🎅\n",
        "\n",
        "Here, we organize, high-level, everything we need for training GAT. Just combining the components we already learned."
      ]
    },
    {
      "cell_type": "code",
      "execution_count": null,
      "id": "apparent-precipitation",
      "metadata": {
        "id": "apparent-precipitation"
      },
      "outputs": [],
      "source": [
        "import time\n",
        "\n",
        "\n",
        "def train_gat_ppi(config):\n",
        "    \"\"\"\n",
        "    Very similar to Cora's training script. The main differences are:\n",
        "    1. Using dataloaders since we're dealing with an inductive setting - multiple graphs per batch\n",
        "    2. Doing multi-class classification (BCEWithLogitsLoss) and reporting micro-F1 instead of accuracy\n",
        "    3. Model architecture and hyperparams are a bit different (as reported in the GAT paper)\n",
        "\n",
        "    \"\"\"\n",
        "    global BEST_VAL_MICRO_F1, BEST_VAL_LOSS\n",
        "\n",
        "    # Checking whether you have a strong GPU. Since PPI training requires almost 8 GBs of VRAM\n",
        "    # I've added the option to force the use of CPU even though you have a GPU on your system (but it's too weak).\n",
        "    device = torch.device(\"cuda\" if torch.cuda.is_available() and not config['force_cpu'] else \"cpu\")\n",
        "\n",
        "    # Step 1: prepare the data loaders\n",
        "    data_loader_train, data_loader_val, data_loader_test = load_graph_data(config, device)\n",
        "\n",
        "    # Step 2: prepare the model\n",
        "    gat = GAT(\n",
        "        num_of_layers=config['num_of_layers'],\n",
        "        num_heads_per_layer=config['num_heads_per_layer'],\n",
        "        num_features_per_layer=config['num_features_per_layer'],\n",
        "        add_skip_connection=config['add_skip_connection'],\n",
        "        bias=config['bias'],\n",
        "        dropout=config['dropout'],\n",
        "        log_attention_weights=False  # no need to store attentions, used only in playground.py for visualizations\n",
        "    ).to(device)\n",
        "\n",
        "    # Step 3: Prepare other training related utilities (loss & optimizer and decorator function)\n",
        "    #loss_fn = nn.BCEWithLogitsLoss(reduction='mean')\n",
        "    #weight = torch.tensor([0.25] + ([1] * (PPI_NUM_CLASSES - 1)), dtype=torch.float32).to(device)\n",
        "    #print('weight =', weight)\n",
        "    #loss_fn = nn.CrossEntropyLoss(weight=weight, reduction='sum')\n",
        "    loss_fn = nn.CrossEntropyLoss()\n",
        "    optimizer = Adam(gat.parameters(), lr=config['lr'], weight_decay=config['weight_decay'])\n",
        "\n",
        "    # The decorator function makes things cleaner since there is a lot of redundancy between the train and val loops\n",
        "    main_loop = get_main_loop(\n",
        "        config,\n",
        "        gat,\n",
        "        loss_fn,\n",
        "        optimizer,\n",
        "        config['patience_period'],\n",
        "        time.time())\n",
        "\n",
        "    BEST_VAL_MICRO_F1, BEST_VAL_LOSS, PATIENCE_CNT = [0, 0, 0]  # reset vars used for early stopping\n",
        "\n",
        "    # Step 4: Start the training procedure\n",
        "    for epoch in range(config['num_of_epochs']):\n",
        "        # Training loop\n",
        "        main_loop(phase=LoopPhase.TRAIN, data_loader=data_loader_train, epoch=epoch)\n",
        "\n",
        "        # Validation loop\n",
        "        with torch.no_grad():\n",
        "            try:\n",
        "                main_loop(phase=LoopPhase.VAL, data_loader=data_loader_val, epoch=epoch)\n",
        "            except Exception as e:  # \"patience has run out\" exception :O\n",
        "                print(str(e))\n",
        "                break  # break out from the training loop\n",
        "\n",
        "    # Step 5: Potentially test your model\n",
        "    # Don't overfit to the test dataset - only when you've fine-tuned your model on the validation dataset should you\n",
        "    # report your final loss and micro-F1 on the test dataset. Friends don't let friends overfit to the test data. <3\n",
        "    if config['should_test']:\n",
        "        micro_f1 = main_loop(phase=LoopPhase.TEST, data_loader=data_loader_test)\n",
        "        config['test_perf'] = micro_f1\n",
        "\n",
        "        print('*' * 50)\n",
        "        print(f'Test accuracy = {micro_f1}')\n",
        "    else:\n",
        "        config['test_perf'] = -1\n",
        "\n",
        "    # Save the latest GAT in the binaries directory\n",
        "    torch.save(\n",
        "        get_training_state(config, gat),\n",
        "        os.path.join(BINARIES_PATH, get_available_binary_name(config['dataset_name']))\n",
        "    )"
      ]
    },
    {
      "cell_type": "markdown",
      "id": "western-grenada",
      "metadata": {
        "id": "western-grenada"
      },
      "source": [
        "🎉🎉🎉 \n",
        "\n",
        "Now for the core part of the training - the main loop, as I've dubbed it. \n",
        "\n",
        "I've organized it like this so that I don't have to copy/paste bunch of the same code for train/val/test loops.\n",
        "\n",
        "**Friends don't let friends copy/paste (unless it's from the Stack Overflow)**"
      ]
    },
    {
      "cell_type": "code",
      "execution_count": null,
      "id": "comparative-heart",
      "metadata": {
        "id": "comparative-heart"
      },
      "outputs": [],
      "source": [
        "#from sklearn.metrics import f1_score\n",
        "\n",
        "\n",
        "# Simple decorator function so that I don't have to pass arguments that don't change from epoch to epoch\n",
        "def get_main_loop(config, gat, sigmoid_cross_entropy_loss, optimizer, patience_period, time_start):\n",
        "\n",
        "    device = next(gat.parameters()).device  # fetch the device info from the model instead of passing it as a param\n",
        "\n",
        "    def main_loop(phase, data_loader, epoch=0):\n",
        "        global BEST_VAL_MICRO_F1, BEST_VAL_LOSS, PATIENCE_CNT, writer\n",
        "\n",
        "        # Certain modules behave differently depending on whether we're training the model or not.\n",
        "        # e.g. nn.Dropout - we only want to drop model weights during the training.\n",
        "        if phase == LoopPhase.TRAIN:\n",
        "            gat.train()\n",
        "        else:\n",
        "            gat.eval()\n",
        "\n",
        "        # Iterate over batches of graph data (2 graphs per batch was used in the original paper for the PPI dataset)\n",
        "        # We merge them into a single graph with 2 connected components, that's the main idea. After that\n",
        "        # the implementation #3 is agnostic to the fact that those are multiple and not a single graph!\n",
        "        for batch_idx, (node_features, gt_node_labels, edge_index, hidden_node_idx) in enumerate(data_loader):\n",
        "            # Push the batch onto GPU - note PPI is to big to load the whole dataset into a normal GPU\n",
        "            # it takes almost 8 GBs of VRAM to train it on a GPU\n",
        "            edge_index = edge_index.to(device)\n",
        "            node_features = node_features.to(device)\n",
        "            gt_node_labels = gt_node_labels.to(device)\n",
        "            hidden_node_idx = hidden_node_idx.to(device)\n",
        "\n",
        "            # I pack data into tuples because GAT uses nn.Sequential which expects this format\n",
        "            graph_data = (node_features, edge_index)\n",
        "\n",
        "            # Note: [0] just extracts the node_features part of the data (index 1 contains the edge_index)\n",
        "            # shape = (N, C) where N is the number of nodes in the batch and C is the number of classes (121 for PPI)\n",
        "            # GAT imp #3 is agnostic to the fact that we actually have multiple graphs\n",
        "            # (it sees a single graph with multiple connected components)\n",
        "            nodes_unnormalized_scores = gat(graph_data)[0]\n",
        "\n",
        "            # Example: because PPI has 121 labels let's make a simple toy example that will show how the loss works.\n",
        "            # Let's say we have 3 labels instead and a single node's unnormalized (raw GAT output) scores are [-3, 0, 3]\n",
        "            # What this loss will do is first it will apply a sigmoid and so we'll end up with: [0.048, 0.5, 0.95]\n",
        "            # next it will apply a binary cross entropy across all of these and find the average, and that's it!\n",
        "            # So if the true classes were [0, 0, 1] the loss would be (-log(1-0.048) + -log(1-0.5) + -log(0.95))/3.\n",
        "            # You can see that the logarithm takes 2 forms depending on whether the true label is 0 or 1,\n",
        "            # either -log(1-x) or -log(x) respectively. Easy-peasy. <3\n",
        "            #loss = sigmoid_cross_entropy_loss(nodes_unnormalized_scores, gt_node_labels)\n",
        "            \n",
        "            # Get label for the hidden node\n",
        "            #print(hidden_node_idx.shape, hidden_node_idx.dtype)\n",
        "            loss = sigmoid_cross_entropy_loss(\n",
        "                nodes_unnormalized_scores,\n",
        "                gt_node_labels\n",
        "            )\n",
        "\n",
        "            if phase == LoopPhase.TRAIN:\n",
        "                optimizer.zero_grad()  # clean the trainable weights gradients in the computational graph (.grad fields)\n",
        "                loss.backward()  # compute the gradients for every trainable weight in the computational graph\n",
        "                optimizer.step()  # apply the gradients to weights\n",
        "\n",
        "            # Calculate the main metric - micro F1, check out this link for what micro-F1 exactly is:\n",
        "            # https://www.kaggle.com/enforcer007/what-is-micro-averaged-f1-score\n",
        "\n",
        "            # Convert unnormalized scores into predictions. Explanation:\n",
        "            # If the unnormalized score is bigger than 0 that means that sigmoid would have a value higher than 0.5\n",
        "            # (by sigmoid's definition) and thus we have predicted 1 for that label otherwise we have predicted 0.\n",
        "            #pred = (nodes_unnormalized_scores > 0).float().cpu().numpy()\n",
        "            #print(nodes_unnormalized_scores, hidden_node_idx)\n",
        "            pred = nodes_unnormalized_scores[hidden_node_idx]\n",
        "            #print(gt_node_labels, hidden_node_idx)\n",
        "            gt = gt_node_labels[hidden_node_idx]\n",
        "            #micro_f1 = f1_score(gt, pred, average='micro')\n",
        "            print(gt.shape)\n",
        "            accuracy = torch.sum(torch.argmax(pred, dim=-1) == gt) / gt.shape[0]\n",
        "\n",
        "            #\n",
        "            # Logging\n",
        "            #\n",
        "\n",
        "            global_step = len(data_loader) * epoch + batch_idx\n",
        "            if phase == LoopPhase.TRAIN:\n",
        "                # Log metrics\n",
        "                if config['enable_tensorboard']:\n",
        "                    writer.add_scalar('training_loss', loss.item(), global_step)\n",
        "                    #writer.add_scalar('training_micro_f1', micro_f1, global_step)\n",
        "                    writer.add_scalar('training_accuracy', accuracy, global_step)\n",
        "\n",
        "                # Log to console\n",
        "                if config['console_log_freq'] is not None and epoch % config['console_log_freq'] == 0 and batch_idx == 0:\n",
        "                    print(f'GAT training: time elapsed= {(time.time() - time_start):.2f} [s] |'\n",
        "                          f' epoch={epoch + 1} | batch={batch_idx + 1} | train accuracy={accuracy}.')\n",
        "\n",
        "                # Save model checkpoint\n",
        "                if config['checkpoint_freq'] is not None and (epoch + 1) % config['checkpoint_freq'] == 0 and batch_idx == 0:\n",
        "                    ckpt_model_name = f'gat_{config[\"dataset_name\"]}_ckpt_epoch_{epoch + 1}.pth'\n",
        "                    config['test_perf'] = -1  # test perf not calculated yet, note: perf means main metric micro-F1 here\n",
        "                    torch.save(get_training_state(config, gat), os.path.join(CHECKPOINTS_PATH, ckpt_model_name))\n",
        "\n",
        "            elif phase == LoopPhase.VAL:\n",
        "                # Log metrics\n",
        "                if config['enable_tensorboard']:\n",
        "                    writer.add_scalar('val_loss', loss.item(), global_step)\n",
        "                    #writer.add_scalar('val_micro_f1', micro_f1, global_step)\n",
        "                    writer.add_scalar('val_accuracy', accuracy, global_step)\n",
        "\n",
        "                # Log to console\n",
        "                if config['console_log_freq'] is not None and epoch % config['console_log_freq'] == 0 and batch_idx == 0:\n",
        "                    print(f'GAT validation: time elapsed= {(time.time() - time_start):.2f} [s] |'\n",
        "                          f' epoch={epoch + 1} | batch={batch_idx + 1} | val accuracy={accuracy}')\n",
        "\n",
        "                # The \"patience\" logic - should we break out from the training loop? If either validation micro-F1\n",
        "                # keeps going up or the val loss keeps going down we won't stop\n",
        "                if accuracy > BEST_VAL_MICRO_F1 or loss.item() < BEST_VAL_LOSS:\n",
        "                    BEST_VAL_MICRO_F1 = max(accuracy, BEST_VAL_MICRO_F1)  # keep track of the best validation micro_f1 so far\n",
        "                    BEST_VAL_LOSS = min(loss.item(), BEST_VAL_LOSS)  # and the minimal loss\n",
        "                    PATIENCE_CNT = 0  # reset the counter every time we encounter new best micro_f1\n",
        "                else:\n",
        "                    PATIENCE_CNT += 1  # otherwise keep counting\n",
        "\n",
        "                if PATIENCE_CNT >= patience_period:\n",
        "                    raise Exception('Stopping the training, the universe has no more patience for this training.')\n",
        "\n",
        "            else:\n",
        "                return accuracy  # in the case of test phase we just report back the test accuracy\n",
        "\n",
        "    return main_loop  # return the decorated function"
      ]
    },
    {
      "cell_type": "markdown",
      "id": "numerical-stupid",
      "metadata": {
        "id": "numerical-stupid"
      },
      "source": [
        "That was all we needed! Let's train it! 💪💪💪\n",
        "\n",
        "Keep in mind that PPI training takes much more time than training on Cora.\n",
        "\n",
        "Additionally you'll need 8+ GBs GPU if you want to train it on your GPU. Alternatively you can set the `--force_cpu` flag in the `get_training_args` function to train it on your CPU or simply use the pre-checked-in model I provided. The following section, part 4, doesn't depend on this so you can skip it if you want."
      ]
    },
    {
      "cell_type": "code",
      "execution_count": null,
      "id": "74UovIcqPefE",
      "metadata": {
        "colab": {
          "base_uri": "https://localhost:8080/"
        },
        "id": "74UovIcqPefE",
        "outputId": "2feed4fc-bd87-4d92-9b7a-379bb95eca79"
      },
      "outputs": [
        {
          "data": {
            "text/plain": [
              "(tensor([0]), 0, array([0]), 0)"
            ]
          },
          "execution_count": 34,
          "metadata": {},
          "output_type": "execute_result"
        }
      ],
      "source": [
        "(\n",
        "torch.tensor([0, 1, 7]).cpu()[torch.tensor([0])],\n",
        "torch.tensor([0, 1, 7]).cpu().numpy()[torch.tensor([0])],\n",
        "torch.tensor([0, 1, 7]).cpu()[torch.tensor([0])].numpy(),\n",
        "torch.tensor([0, 1, 7]).cpu()[torch.tensor([0])].item(),\n",
        ")"
      ]
    },
    {
      "cell_type": "code",
      "execution_count": null,
      "id": "U5SpR22qAT7m",
      "metadata": {
        "id": "U5SpR22qAT7m"
      },
      "outputs": [],
      "source": [
        "import os\n",
        "os.environ['CUDA_LAUNCH_BLOCKING'] = '1'"
      ]
    },
    {
      "cell_type": "code",
      "execution_count": null,
      "id": "local-details",
      "metadata": {
        "colab": {
          "base_uri": "https://localhost:8080/",
          "height": 335
        },
        "id": "local-details",
        "outputId": "536a4087-ff8f-4f23-c5fc-dd32da9d6a46"
      },
      "outputs": [
        {
          "ename": "RuntimeError",
          "evalue": "ignored",
          "output_type": "error",
          "traceback": [
            "\u001b[0;31m---------------------------------------------------------------------------\u001b[0m",
            "\u001b[0;31mRuntimeError\u001b[0m                              Traceback (most recent call last)",
            "\u001b[0;32m<ipython-input-44-34f7cee92701>\u001b[0m in \u001b[0;36m<module>\u001b[0;34m()\u001b[0m\n\u001b[1;32m      1\u001b[0m \u001b[0;31m# Train the graph attention network (GAT)\u001b[0m\u001b[0;34m\u001b[0m\u001b[0;34m\u001b[0m\u001b[0;34m\u001b[0m\u001b[0m\n\u001b[0;32m----> 2\u001b[0;31m \u001b[0mtrain_gat_ppi\u001b[0m\u001b[0;34m(\u001b[0m\u001b[0mget_training_args\u001b[0m\u001b[0;34m(\u001b[0m\u001b[0;34m)\u001b[0m\u001b[0;34m)\u001b[0m\u001b[0;34m\u001b[0m\u001b[0;34m\u001b[0m\u001b[0m\n\u001b[0m",
            "\u001b[0;32m<ipython-input-32-a4984b37b662>\u001b[0m in \u001b[0;36mtrain_gat_ppi\u001b[0;34m(config)\u001b[0m\n\u001b[1;32m     28\u001b[0m         \u001b[0mdropout\u001b[0m\u001b[0;34m=\u001b[0m\u001b[0mconfig\u001b[0m\u001b[0;34m[\u001b[0m\u001b[0;34m'dropout'\u001b[0m\u001b[0;34m]\u001b[0m\u001b[0;34m,\u001b[0m\u001b[0;34m\u001b[0m\u001b[0;34m\u001b[0m\u001b[0m\n\u001b[1;32m     29\u001b[0m         \u001b[0mlog_attention_weights\u001b[0m\u001b[0;34m=\u001b[0m\u001b[0;32mFalse\u001b[0m  \u001b[0;31m# no need to store attentions, used only in playground.py for visualizations\u001b[0m\u001b[0;34m\u001b[0m\u001b[0;34m\u001b[0m\u001b[0m\n\u001b[0;32m---> 30\u001b[0;31m     ).to(device)\n\u001b[0m\u001b[1;32m     31\u001b[0m \u001b[0;34m\u001b[0m\u001b[0m\n\u001b[1;32m     32\u001b[0m     \u001b[0;31m# Step 3: Prepare other training related utilities (loss & optimizer and decorator function)\u001b[0m\u001b[0;34m\u001b[0m\u001b[0;34m\u001b[0m\u001b[0;34m\u001b[0m\u001b[0m\n",
            "\u001b[0;32m/usr/local/lib/python3.7/dist-packages/torch/nn/modules/module.py\u001b[0m in \u001b[0;36mto\u001b[0;34m(self, *args, **kwargs)\u001b[0m\n\u001b[1;32m    897\u001b[0m             \u001b[0;32mreturn\u001b[0m \u001b[0mt\u001b[0m\u001b[0;34m.\u001b[0m\u001b[0mto\u001b[0m\u001b[0;34m(\u001b[0m\u001b[0mdevice\u001b[0m\u001b[0;34m,\u001b[0m \u001b[0mdtype\u001b[0m \u001b[0;32mif\u001b[0m \u001b[0mt\u001b[0m\u001b[0;34m.\u001b[0m\u001b[0mis_floating_point\u001b[0m\u001b[0;34m(\u001b[0m\u001b[0;34m)\u001b[0m \u001b[0;32mor\u001b[0m \u001b[0mt\u001b[0m\u001b[0;34m.\u001b[0m\u001b[0mis_complex\u001b[0m\u001b[0;34m(\u001b[0m\u001b[0;34m)\u001b[0m \u001b[0;32melse\u001b[0m \u001b[0;32mNone\u001b[0m\u001b[0;34m,\u001b[0m \u001b[0mnon_blocking\u001b[0m\u001b[0;34m)\u001b[0m\u001b[0;34m\u001b[0m\u001b[0;34m\u001b[0m\u001b[0m\n\u001b[1;32m    898\u001b[0m \u001b[0;34m\u001b[0m\u001b[0m\n\u001b[0;32m--> 899\u001b[0;31m         \u001b[0;32mreturn\u001b[0m \u001b[0mself\u001b[0m\u001b[0;34m.\u001b[0m\u001b[0m_apply\u001b[0m\u001b[0;34m(\u001b[0m\u001b[0mconvert\u001b[0m\u001b[0;34m)\u001b[0m\u001b[0;34m\u001b[0m\u001b[0;34m\u001b[0m\u001b[0m\n\u001b[0m\u001b[1;32m    900\u001b[0m \u001b[0;34m\u001b[0m\u001b[0m\n\u001b[1;32m    901\u001b[0m     def register_backward_hook(\n",
            "\u001b[0;32m/usr/local/lib/python3.7/dist-packages/torch/nn/modules/module.py\u001b[0m in \u001b[0;36m_apply\u001b[0;34m(self, fn)\u001b[0m\n\u001b[1;32m    568\u001b[0m     \u001b[0;32mdef\u001b[0m \u001b[0m_apply\u001b[0m\u001b[0;34m(\u001b[0m\u001b[0mself\u001b[0m\u001b[0;34m,\u001b[0m \u001b[0mfn\u001b[0m\u001b[0;34m)\u001b[0m\u001b[0;34m:\u001b[0m\u001b[0;34m\u001b[0m\u001b[0;34m\u001b[0m\u001b[0m\n\u001b[1;32m    569\u001b[0m         \u001b[0;32mfor\u001b[0m \u001b[0mmodule\u001b[0m \u001b[0;32min\u001b[0m \u001b[0mself\u001b[0m\u001b[0;34m.\u001b[0m\u001b[0mchildren\u001b[0m\u001b[0;34m(\u001b[0m\u001b[0;34m)\u001b[0m\u001b[0;34m:\u001b[0m\u001b[0;34m\u001b[0m\u001b[0;34m\u001b[0m\u001b[0m\n\u001b[0;32m--> 570\u001b[0;31m             \u001b[0mmodule\u001b[0m\u001b[0;34m.\u001b[0m\u001b[0m_apply\u001b[0m\u001b[0;34m(\u001b[0m\u001b[0mfn\u001b[0m\u001b[0;34m)\u001b[0m\u001b[0;34m\u001b[0m\u001b[0;34m\u001b[0m\u001b[0m\n\u001b[0m\u001b[1;32m    571\u001b[0m \u001b[0;34m\u001b[0m\u001b[0m\n\u001b[1;32m    572\u001b[0m         \u001b[0;32mdef\u001b[0m \u001b[0mcompute_should_use_set_data\u001b[0m\u001b[0;34m(\u001b[0m\u001b[0mtensor\u001b[0m\u001b[0;34m,\u001b[0m \u001b[0mtensor_applied\u001b[0m\u001b[0;34m)\u001b[0m\u001b[0;34m:\u001b[0m\u001b[0;34m\u001b[0m\u001b[0;34m\u001b[0m\u001b[0m\n",
            "\u001b[0;32m/usr/local/lib/python3.7/dist-packages/torch/nn/modules/module.py\u001b[0m in \u001b[0;36m_apply\u001b[0;34m(self, fn)\u001b[0m\n\u001b[1;32m    568\u001b[0m     \u001b[0;32mdef\u001b[0m \u001b[0m_apply\u001b[0m\u001b[0;34m(\u001b[0m\u001b[0mself\u001b[0m\u001b[0;34m,\u001b[0m \u001b[0mfn\u001b[0m\u001b[0;34m)\u001b[0m\u001b[0;34m:\u001b[0m\u001b[0;34m\u001b[0m\u001b[0;34m\u001b[0m\u001b[0m\n\u001b[1;32m    569\u001b[0m         \u001b[0;32mfor\u001b[0m \u001b[0mmodule\u001b[0m \u001b[0;32min\u001b[0m \u001b[0mself\u001b[0m\u001b[0;34m.\u001b[0m\u001b[0mchildren\u001b[0m\u001b[0;34m(\u001b[0m\u001b[0;34m)\u001b[0m\u001b[0;34m:\u001b[0m\u001b[0;34m\u001b[0m\u001b[0;34m\u001b[0m\u001b[0m\n\u001b[0;32m--> 570\u001b[0;31m             \u001b[0mmodule\u001b[0m\u001b[0;34m.\u001b[0m\u001b[0m_apply\u001b[0m\u001b[0;34m(\u001b[0m\u001b[0mfn\u001b[0m\u001b[0;34m)\u001b[0m\u001b[0;34m\u001b[0m\u001b[0;34m\u001b[0m\u001b[0m\n\u001b[0m\u001b[1;32m    571\u001b[0m \u001b[0;34m\u001b[0m\u001b[0m\n\u001b[1;32m    572\u001b[0m         \u001b[0;32mdef\u001b[0m \u001b[0mcompute_should_use_set_data\u001b[0m\u001b[0;34m(\u001b[0m\u001b[0mtensor\u001b[0m\u001b[0;34m,\u001b[0m \u001b[0mtensor_applied\u001b[0m\u001b[0;34m)\u001b[0m\u001b[0;34m:\u001b[0m\u001b[0;34m\u001b[0m\u001b[0;34m\u001b[0m\u001b[0m\n",
            "\u001b[0;32m/usr/local/lib/python3.7/dist-packages/torch/nn/modules/module.py\u001b[0m in \u001b[0;36m_apply\u001b[0;34m(self, fn)\u001b[0m\n\u001b[1;32m    568\u001b[0m     \u001b[0;32mdef\u001b[0m \u001b[0m_apply\u001b[0m\u001b[0;34m(\u001b[0m\u001b[0mself\u001b[0m\u001b[0;34m,\u001b[0m \u001b[0mfn\u001b[0m\u001b[0;34m)\u001b[0m\u001b[0;34m:\u001b[0m\u001b[0;34m\u001b[0m\u001b[0;34m\u001b[0m\u001b[0m\n\u001b[1;32m    569\u001b[0m         \u001b[0;32mfor\u001b[0m \u001b[0mmodule\u001b[0m \u001b[0;32min\u001b[0m \u001b[0mself\u001b[0m\u001b[0;34m.\u001b[0m\u001b[0mchildren\u001b[0m\u001b[0;34m(\u001b[0m\u001b[0;34m)\u001b[0m\u001b[0;34m:\u001b[0m\u001b[0;34m\u001b[0m\u001b[0;34m\u001b[0m\u001b[0m\n\u001b[0;32m--> 570\u001b[0;31m             \u001b[0mmodule\u001b[0m\u001b[0;34m.\u001b[0m\u001b[0m_apply\u001b[0m\u001b[0;34m(\u001b[0m\u001b[0mfn\u001b[0m\u001b[0;34m)\u001b[0m\u001b[0;34m\u001b[0m\u001b[0;34m\u001b[0m\u001b[0m\n\u001b[0m\u001b[1;32m    571\u001b[0m \u001b[0;34m\u001b[0m\u001b[0m\n\u001b[1;32m    572\u001b[0m         \u001b[0;32mdef\u001b[0m \u001b[0mcompute_should_use_set_data\u001b[0m\u001b[0;34m(\u001b[0m\u001b[0mtensor\u001b[0m\u001b[0;34m,\u001b[0m \u001b[0mtensor_applied\u001b[0m\u001b[0;34m)\u001b[0m\u001b[0;34m:\u001b[0m\u001b[0;34m\u001b[0m\u001b[0;34m\u001b[0m\u001b[0m\n",
            "\u001b[0;32m/usr/local/lib/python3.7/dist-packages/torch/nn/modules/module.py\u001b[0m in \u001b[0;36m_apply\u001b[0;34m(self, fn)\u001b[0m\n\u001b[1;32m    591\u001b[0m             \u001b[0;31m# `with torch.no_grad():`\u001b[0m\u001b[0;34m\u001b[0m\u001b[0;34m\u001b[0m\u001b[0;34m\u001b[0m\u001b[0m\n\u001b[1;32m    592\u001b[0m             \u001b[0;32mwith\u001b[0m \u001b[0mtorch\u001b[0m\u001b[0;34m.\u001b[0m\u001b[0mno_grad\u001b[0m\u001b[0;34m(\u001b[0m\u001b[0;34m)\u001b[0m\u001b[0;34m:\u001b[0m\u001b[0;34m\u001b[0m\u001b[0;34m\u001b[0m\u001b[0m\n\u001b[0;32m--> 593\u001b[0;31m                 \u001b[0mparam_applied\u001b[0m \u001b[0;34m=\u001b[0m \u001b[0mfn\u001b[0m\u001b[0;34m(\u001b[0m\u001b[0mparam\u001b[0m\u001b[0;34m)\u001b[0m\u001b[0;34m\u001b[0m\u001b[0;34m\u001b[0m\u001b[0m\n\u001b[0m\u001b[1;32m    594\u001b[0m             \u001b[0mshould_use_set_data\u001b[0m \u001b[0;34m=\u001b[0m \u001b[0mcompute_should_use_set_data\u001b[0m\u001b[0;34m(\u001b[0m\u001b[0mparam\u001b[0m\u001b[0;34m,\u001b[0m \u001b[0mparam_applied\u001b[0m\u001b[0;34m)\u001b[0m\u001b[0;34m\u001b[0m\u001b[0;34m\u001b[0m\u001b[0m\n\u001b[1;32m    595\u001b[0m             \u001b[0;32mif\u001b[0m \u001b[0mshould_use_set_data\u001b[0m\u001b[0;34m:\u001b[0m\u001b[0;34m\u001b[0m\u001b[0;34m\u001b[0m\u001b[0m\n",
            "\u001b[0;32m/usr/local/lib/python3.7/dist-packages/torch/nn/modules/module.py\u001b[0m in \u001b[0;36mconvert\u001b[0;34m(t)\u001b[0m\n\u001b[1;32m    895\u001b[0m                 return t.to(device, dtype if t.is_floating_point() or t.is_complex() else None,\n\u001b[1;32m    896\u001b[0m                             non_blocking, memory_format=convert_to_format)\n\u001b[0;32m--> 897\u001b[0;31m             \u001b[0;32mreturn\u001b[0m \u001b[0mt\u001b[0m\u001b[0;34m.\u001b[0m\u001b[0mto\u001b[0m\u001b[0;34m(\u001b[0m\u001b[0mdevice\u001b[0m\u001b[0;34m,\u001b[0m \u001b[0mdtype\u001b[0m \u001b[0;32mif\u001b[0m \u001b[0mt\u001b[0m\u001b[0;34m.\u001b[0m\u001b[0mis_floating_point\u001b[0m\u001b[0;34m(\u001b[0m\u001b[0;34m)\u001b[0m \u001b[0;32mor\u001b[0m \u001b[0mt\u001b[0m\u001b[0;34m.\u001b[0m\u001b[0mis_complex\u001b[0m\u001b[0;34m(\u001b[0m\u001b[0;34m)\u001b[0m \u001b[0;32melse\u001b[0m \u001b[0;32mNone\u001b[0m\u001b[0;34m,\u001b[0m \u001b[0mnon_blocking\u001b[0m\u001b[0;34m)\u001b[0m\u001b[0;34m\u001b[0m\u001b[0;34m\u001b[0m\u001b[0m\n\u001b[0m\u001b[1;32m    898\u001b[0m \u001b[0;34m\u001b[0m\u001b[0m\n\u001b[1;32m    899\u001b[0m         \u001b[0;32mreturn\u001b[0m \u001b[0mself\u001b[0m\u001b[0;34m.\u001b[0m\u001b[0m_apply\u001b[0m\u001b[0;34m(\u001b[0m\u001b[0mconvert\u001b[0m\u001b[0;34m)\u001b[0m\u001b[0;34m\u001b[0m\u001b[0;34m\u001b[0m\u001b[0m\n",
            "\u001b[0;31mRuntimeError\u001b[0m: CUDA error: device-side assert triggered"
          ]
        }
      ],
      "source": [
        "# Train the graph attention network (GAT)\n",
        "train_gat_ppi(get_training_args())"
      ]
    },
    {
      "cell_type": "markdown",
      "id": "roman-weather",
      "metadata": {
        "id": "roman-weather"
      },
      "source": [
        "Nice!!! 🎉🎉🎉 Level 4 unlocked (GAT visualizations 🔮). 😍\n",
        "\n",
        "We just achieved `0.978` micro-F1 on PPI's test graphs! The same numbers as reported in the original GAT paper!\n",
        "\n",
        "So we now have everything in place:\n",
        "1. PPI data loading and visualizations 📜 -> checked\n",
        "2. GAT model defined 🦄 -> checked\n",
        "3. Training loop setup and the trained model binaries 💪 -> checked\n",
        "\n",
        "Now let's play the GAT model under a microscope 🔬🔬🔬 and understand the weights we got - we can do that in many ways."
      ]
    },
    {
      "cell_type": "markdown",
      "id": "constitutional-reach",
      "metadata": {
        "id": "constitutional-reach"
      },
      "source": [
        "# Part 4: Visualizing GAT on PPI 🔮\n",
        "\n",
        "I tried visualizing PPI's 2D embeddings using t-SNE without any label/color information but it's not that informative, so we'll only do **attention** and **entropy visualizations** in this notebook.\n",
        "\n",
        "Let's start by defining some functions we'll need. \n",
        "\n",
        "The following cell's code snippet will get called multiple times so let's just extract it inside a function - a nice modular design.\n",
        "\n",
        "*Note: the main reason is actually that igraph is having problems with Jupyter so I'm working around it, check out the [original code](https://github.com/gordicaleksa/pytorch-GAT/blob/main/playground.py#L147) if you're curious* 😂"
      ]
    },
    {
      "cell_type": "code",
      "execution_count": null,
      "id": "satisfactory-yeast",
      "metadata": {
        "id": "satisfactory-yeast"
      },
      "outputs": [],
      "source": [
        "def gat_forward_pass(model_name, dataset_name):\n",
        "    device = torch.device(\"cuda\" if torch.cuda.is_available() else \"cpu\")  # checking whether you have a GPU, I hope so!\n",
        "\n",
        "    config = {\n",
        "        'dataset_name': dataset_name,\n",
        "        'should_visualize': False,  # don't visualize the dataset\n",
        "        'batch_size': 2,  # we're using 2 graphs per batch as reported in the paper\n",
        "        'ppi_load_test_only': True  # optimization, we're loading only test graphs\n",
        "    }\n",
        "\n",
        "    # Step 1: Prepare the data\n",
        "    data_loader_test = load_graph_data(config, device)\n",
        "    node_features, node_labels, topology = next(iter(data_loader_test))\n",
        "    node_features = node_features.to(device)  # need to explicitly push them to GPU since PPI eats up a lot of VRAM\n",
        "    node_labels = node_labels.to(device)\n",
        "    topology = topology.to(device)\n",
        "\n",
        "    # Step 2: Prepare the model\n",
        "    model_path = os.path.join(BINARIES_PATH, model_name)\n",
        "    model_state = torch.load(model_path)\n",
        "\n",
        "    gat = GAT(\n",
        "        num_of_layers=model_state['num_of_layers'],\n",
        "        num_heads_per_layer=model_state['num_heads_per_layer'],\n",
        "        num_features_per_layer=model_state['num_features_per_layer'],\n",
        "        add_skip_connection=model_state['add_skip_connection'],\n",
        "        bias=model_state['bias'],\n",
        "        dropout=model_state['dropout'],\n",
        "        log_attention_weights=True\n",
        "    ).to(device)\n",
        "\n",
        "    print_model_metadata(model_state)\n",
        "    assert model_state['dataset_name'].lower() == dataset_name.lower(), \\\n",
        "        f\"The model was trained on {model_state['dataset_name']} but you're calling it on {dataset_name}.\"\n",
        "    gat.load_state_dict(model_state[\"state_dict\"], strict=True)\n",
        "    gat.eval()  # some layers like nn.Dropout behave differently in train vs eval mode so this part is important\n",
        "\n",
        "    # Step 3: Calculate the things we'll need for different visualization types (attention, scores, edge_index)\n",
        "\n",
        "    # This context manager is important (and you'll often see it), otherwise PyTorch will eat much more memory.\n",
        "    # It would be saving activations for backprop but we are not going to do any model training just the prediction.\n",
        "    with torch.no_grad():\n",
        "        # Step 3: Run predictions and collect the high dimensional data\n",
        "        all_nodes_unnormalized_scores, _ = gat((node_features, topology))  # shape = (N, num of classes)\n",
        "        all_nodes_unnormalized_scores = all_nodes_unnormalized_scores.cpu().numpy()\n",
        "\n",
        "    return all_nodes_unnormalized_scores, topology, node_labels, gat"
      ]
    },
    {
      "cell_type": "code",
      "execution_count": null,
      "id": "mZunF2w0stBq",
      "metadata": {
        "id": "mZunF2w0stBq"
      },
      "outputs": [],
      "source": [
        "model_name = 'gat_PPI_000001.pth'\n",
        "dataset_name=DatasetType.PPI.name\n",
        "all_nodes_unnormalized_scores, edge_index, node_labels, gat = gat_forward_pass(model_name, dataset_name)"
      ]
    },
    {
      "cell_type": "code",
      "execution_count": null,
      "id": "G0pI3qJgs-9H",
      "metadata": {
        "id": "G0pI3qJgs-9H"
      },
      "outputs": [],
      "source": [
        "def printnp(a):\n",
        "    for row in a:\n",
        "        for col in row:\n",
        "            print('{: 4.2f}'.format(col), end=' ')\n",
        "        print('argmax =', np.argmax(row, axis=-1))\n",
        "\n",
        "#np.set_printoptions(suppress=True)\n",
        "for node_features, node_labels, edge_index in zip(node_features_list, node_labels_list, edge_index_list):\n",
        "    preds, _ = gat((node_features.cuda(), edge_index.cuda()))\n",
        "    preds = torch.softmax(preds, -1)\n",
        "    preds = preds.cpu().detach().numpy()\n",
        "    node_labels = node_labels.cpu().detach().numpy()\n",
        "    print('<' * 24)\n",
        "    printnp(preds)\n",
        "    print('-' * 24)\n",
        "    print(node_labels)\n",
        "    print('>' * 24)\n",
        "    #print(preds, node_labels, sep='\\n')\n",
        "#np.set_printoptions(suppress=False)"
      ]
    },
    {
      "cell_type": "markdown",
      "id": "extensive-drain",
      "metadata": {
        "id": "extensive-drain"
      },
      "source": [
        "Nice that one just produces the data that'll get consumed in the downstream visualizations that you'll see defined in the following cells."
      ]
    },
    {
      "cell_type": "markdown",
      "id": "impressed-tamil",
      "metadata": {
        "id": "impressed-tamil"
      },
      "source": [
        "# Visualizing neighborhood attention 📣\n",
        "\n",
        "So, you now hopefully understand how GAT roughly works, and so you know that during the aggregation stage every single node assigns an **attention coefficient** to every single one of its neighbors (including itself since we added self edges).\n",
        "\n",
        "Any ideas on what we could visualize? Well let's pick some nodes and see which attention patterns they've learned!\n",
        "\n",
        "The first idea that may pop to your mind is to draw edges **thicker** if the **attention is larger** and vice versa (*well that's also the last idea that pops to my mind*).\n",
        "\n",
        "Let's do it!"
      ]
    },
    {
      "cell_type": "code",
      "execution_count": null,
      "id": "combined-ceiling",
      "metadata": {
        "colab": {
          "base_uri": "https://localhost:8080/",
          "height": 1000
        },
        "id": "combined-ceiling",
        "outputId": "92c528d1-d83a-45c1-9e28-a1ced60a7e9a"
      },
      "outputs": [
        {
          "name": "stdout",
          "output_type": "stream",
          "text": [
            "Loading test graph 23 to CPU. It has 3224 nodes and 103872 edges.\n",
            "Loading test graph 24 to CPU. It has 2300 nodes and 63628 edges.\n",
            "\n",
            "***** Model training metadata: *****\n",
            "commit_hash: ad028f5d4bdb533020a73c6ffcacfb2fd9767539\n",
            "dataset_name: PPI\n",
            "num_of_epochs: 200\n",
            "test_perf: 0.9779919847816116\n",
            "num_of_layers: 3\n",
            "num_heads_per_layer: [4, 4, 6]\n",
            "num_features_per_layer: [50, 256, 256, 121]\n",
            "add_skip_connection: True\n",
            "bias: True\n",
            "dropout: 0.0\n",
            "layer_type: IMP3\n",
            "*************************************\n",
            "\n",
            "tensor([False, False, False,  ..., False, False, False], device='cuda:0')\n",
            "Max attention weight = 0.7059098482131958 and min = 0.0023552586790174246\n"
          ]
        },
        {
          "data": {
            "image/svg+xml": "<?xml version=\"1.0\" encoding=\"UTF-8\"?>\n<svg xmlns=\"http://www.w3.org/2000/svg\" xmlns:xlink=\"http://www.w3.org/1999/xlink\" width=\"600pt\" height=\"600pt\" viewBox=\"0 0 600 600\" version=\"1.1\">\n<g id=\"surface8\">\n<rect x=\"0\" y=\"0\" width=\"600\" height=\"600\" style=\"fill:rgb(100%,100%,100%);fill-opacity:1;stroke:none;\"/>\n<path style=\"fill:none;stroke-width:0.00769083;stroke-linecap:butt;stroke-linejoin:miter;stroke:rgb(26.666667%,26.666667%,26.666667%);stroke-opacity:1;stroke-miterlimit:10;\" d=\"M 323.871094 289.585938 C 323.871094 297.871094 317.15625 304.585938 308.871094 304.585938 C 300.589844 304.585938 293.871094 297.871094 293.871094 289.585938 C 293.871094 281.300781 300.589844 274.585938 308.871094 274.585938 C 317.15625 274.585938 323.871094 281.300781 323.871094 289.585938 \"/>\n<path style=\"fill:none;stroke-width:1;stroke-linecap:butt;stroke-linejoin:miter;stroke:rgb(26.666667%,26.666667%,26.666667%);stroke-opacity:1;stroke-miterlimit:10;\" d=\"M 298.265625 300.191406 L 580 300.191406 \"/>\n<path style=\"fill:none;stroke-width:0.00616214;stroke-linecap:butt;stroke-linejoin:miter;stroke:rgb(26.666667%,26.666667%,26.666667%);stroke-opacity:1;stroke-miterlimit:10;\" d=\"M 298.265625 300.191406 L 564.652344 391.636719 \"/>\n<path style=\"fill:none;stroke-width:0.0187682;stroke-linecap:butt;stroke-linejoin:miter;stroke:rgb(26.666667%,26.666667%,26.666667%);stroke-opacity:1;stroke-miterlimit:10;\" d=\"M 298.265625 300.191406 L 520.273438 473.117188 \"/>\n<path style=\"fill:none;stroke-width:0.00333649;stroke-linecap:butt;stroke-linejoin:miter;stroke:rgb(26.666667%,26.666667%,26.666667%);stroke-opacity:1;stroke-miterlimit:10;\" d=\"M 298.265625 300.191406 L 451.710938 535.753906 \"/>\n<path style=\"fill:none;stroke-width:0.00675488;stroke-linecap:butt;stroke-linejoin:miter;stroke:rgb(26.666667%,26.666667%,26.666667%);stroke-opacity:1;stroke-miterlimit:10;\" d=\"M 298.265625 300.191406 L 366.421875 572.726562 \"/>\n<path style=\"fill:none;stroke-width:0.0154947;stroke-linecap:butt;stroke-linejoin:miter;stroke:rgb(26.666667%,26.666667%,26.666667%);stroke-opacity:1;stroke-miterlimit:10;\" d=\"M 298.265625 300.191406 L 273.710938 580 \"/>\n<path style=\"fill:none;stroke-width:0.00675488;stroke-linecap:butt;stroke-linejoin:miter;stroke:rgb(26.666667%,26.666667%,26.666667%);stroke-opacity:1;stroke-miterlimit:10;\" d=\"M 298.265625 300.191406 L 183.675781 556.785156 \"/>\n<path style=\"fill:none;stroke-width:0.00361774;stroke-linecap:butt;stroke-linejoin:miter;stroke:rgb(26.666667%,26.666667%,26.666667%);stroke-opacity:1;stroke-miterlimit:10;\" d=\"M 298.265625 300.191406 L 106.125 505.613281 \"/>\n<path style=\"fill:none;stroke-width:0.00793732;stroke-linecap:butt;stroke-linejoin:miter;stroke:rgb(26.666667%,26.666667%,26.666667%);stroke-opacity:1;stroke-miterlimit:10;\" d=\"M 298.265625 300.191406 L 49.507812 432.054688 \"/>\n<path style=\"fill:none;stroke-width:0.00784118;stroke-linecap:butt;stroke-linejoin:miter;stroke:rgb(26.666667%,26.666667%,26.666667%);stroke-opacity:1;stroke-miterlimit:10;\" d=\"M 298.265625 300.191406 L 20 344.132812 \"/>\n<path style=\"fill:none;stroke-width:0.00784118;stroke-linecap:butt;stroke-linejoin:miter;stroke:rgb(26.666667%,26.666667%,26.666667%);stroke-opacity:1;stroke-miterlimit:10;\" d=\"M 298.265625 300.191406 L 20.8125 251.417969 \"/>\n<path style=\"fill:none;stroke-width:0.00624381;stroke-linecap:butt;stroke-linejoin:miter;stroke:rgb(26.666667%,26.666667%,26.666667%);stroke-opacity:1;stroke-miterlimit:10;\" d=\"M 298.265625 300.191406 L 51.855469 164.019531 \"/>\n<path style=\"fill:none;stroke-width:0.271425;stroke-linecap:butt;stroke-linejoin:miter;stroke:rgb(26.666667%,26.666667%,26.666667%);stroke-opacity:1;stroke-miterlimit:10;\" d=\"M 298.265625 300.191406 L 109.75 91.460938 \"/>\n<path style=\"fill:none;stroke-width:0.00784118;stroke-linecap:butt;stroke-linejoin:miter;stroke:rgb(26.666667%,26.666667%,26.666667%);stroke-opacity:1;stroke-miterlimit:10;\" d=\"M 298.265625 300.191406 L 188.183594 41.644531 \"/>\n<path style=\"fill:none;stroke-width:0.00748776;stroke-linecap:butt;stroke-linejoin:miter;stroke:rgb(26.666667%,26.666667%,26.666667%);stroke-opacity:1;stroke-miterlimit:10;\" d=\"M 298.265625 300.191406 L 278.613281 20 \"/>\n<path style=\"fill:none;stroke-width:0.00784118;stroke-linecap:butt;stroke-linejoin:miter;stroke:rgb(26.666667%,26.666667%,26.666667%);stroke-opacity:1;stroke-miterlimit:10;\" d=\"M 298.265625 300.191406 L 371.183594 28.886719 \"/>\n<path style=\"fill:none;stroke-width:0.00675488;stroke-linecap:butt;stroke-linejoin:miter;stroke:rgb(26.666667%,26.666667%,26.666667%);stroke-opacity:1;stroke-miterlimit:10;\" d=\"M 298.265625 300.191406 L 455.808594 67.335938 \"/>\n<path style=\"fill:none;stroke-width:0.00784118;stroke-linecap:butt;stroke-linejoin:miter;stroke:rgb(26.666667%,26.666667%,26.666667%);stroke-opacity:1;stroke-miterlimit:10;\" d=\"M 298.265625 300.191406 L 523.269531 131.15625 \"/>\n<path style=\"fill:none;stroke-width:0.00897365;stroke-linecap:butt;stroke-linejoin:miter;stroke:rgb(26.666667%,26.666667%,26.666667%);stroke-opacity:1;stroke-miterlimit:10;\" d=\"M 298.265625 300.191406 L 566.210938 213.398438 \"/>\n<path style=\"fill-rule:nonzero;fill:rgb(100%,0%,0%);fill-opacity:1;stroke-width:1;stroke-linecap:butt;stroke-linejoin:miter;stroke:rgb(0%,0%,0%);stroke-opacity:1;stroke-miterlimit:10;\" d=\"M 308.265625 300.191406 C 308.265625 305.714844 303.789062 310.191406 298.265625 310.191406 C 292.742188 310.191406 288.265625 305.714844 288.265625 300.191406 C 288.265625 294.667969 292.742188 290.191406 298.265625 290.191406 C 303.789062 290.191406 308.265625 294.667969 308.265625 300.191406 \"/>\n<path style=\"fill-rule:nonzero;fill:rgb(100%,0%,0%);fill-opacity:1;stroke-width:1;stroke-linecap:butt;stroke-linejoin:miter;stroke:rgb(0%,0%,0%);stroke-opacity:1;stroke-miterlimit:10;\" d=\"M 590 300.191406 C 590 305.714844 585.523438 310.191406 580 310.191406 C 574.476562 310.191406 570 305.714844 570 300.191406 C 570 294.667969 574.476562 290.191406 580 290.191406 C 585.523438 290.191406 590 294.667969 590 300.191406 \"/>\n<path style=\"fill-rule:nonzero;fill:rgb(100%,0%,0%);fill-opacity:1;stroke-width:1;stroke-linecap:butt;stroke-linejoin:miter;stroke:rgb(0%,0%,0%);stroke-opacity:1;stroke-miterlimit:10;\" d=\"M 574.652344 391.636719 C 574.652344 397.160156 570.171875 401.636719 564.652344 401.636719 C 559.128906 401.636719 554.652344 397.160156 554.652344 391.636719 C 554.652344 386.113281 559.128906 381.636719 564.652344 381.636719 C 570.171875 381.636719 574.652344 386.113281 574.652344 391.636719 \"/>\n<path style=\"fill-rule:nonzero;fill:rgb(100%,0%,0%);fill-opacity:1;stroke-width:1;stroke-linecap:butt;stroke-linejoin:miter;stroke:rgb(0%,0%,0%);stroke-opacity:1;stroke-miterlimit:10;\" d=\"M 530.273438 473.117188 C 530.273438 478.640625 525.796875 483.117188 520.273438 483.117188 C 514.753906 483.117188 510.273438 478.640625 510.273438 473.117188 C 510.273438 467.59375 514.753906 463.117188 520.273438 463.117188 C 525.796875 463.117188 530.273438 467.59375 530.273438 473.117188 \"/>\n<path style=\"fill-rule:nonzero;fill:rgb(100%,0%,0%);fill-opacity:1;stroke-width:1;stroke-linecap:butt;stroke-linejoin:miter;stroke:rgb(0%,0%,0%);stroke-opacity:1;stroke-miterlimit:10;\" d=\"M 461.710938 535.753906 C 461.710938 541.277344 457.230469 545.753906 451.710938 545.753906 C 446.1875 545.753906 441.710938 541.277344 441.710938 535.753906 C 441.710938 530.230469 446.1875 525.753906 451.710938 525.753906 C 457.230469 525.753906 461.710938 530.230469 461.710938 535.753906 \"/>\n<path style=\"fill-rule:nonzero;fill:rgb(100%,0%,0%);fill-opacity:1;stroke-width:1;stroke-linecap:butt;stroke-linejoin:miter;stroke:rgb(0%,0%,0%);stroke-opacity:1;stroke-miterlimit:10;\" d=\"M 376.421875 572.726562 C 376.421875 578.25 371.945312 582.726562 366.421875 582.726562 C 360.902344 582.726562 356.421875 578.25 356.421875 572.726562 C 356.421875 567.203125 360.902344 562.726562 366.421875 562.726562 C 371.945312 562.726562 376.421875 567.203125 376.421875 572.726562 \"/>\n<path style=\"fill-rule:nonzero;fill:rgb(100%,0%,0%);fill-opacity:1;stroke-width:1;stroke-linecap:butt;stroke-linejoin:miter;stroke:rgb(0%,0%,0%);stroke-opacity:1;stroke-miterlimit:10;\" d=\"M 283.710938 580 C 283.710938 585.523438 279.234375 590 273.710938 590 C 268.1875 590 263.710938 585.523438 263.710938 580 C 263.710938 574.476562 268.1875 570 273.710938 570 C 279.234375 570 283.710938 574.476562 283.710938 580 \"/>\n<path style=\"fill-rule:nonzero;fill:rgb(100%,0%,0%);fill-opacity:1;stroke-width:1;stroke-linecap:butt;stroke-linejoin:miter;stroke:rgb(0%,0%,0%);stroke-opacity:1;stroke-miterlimit:10;\" d=\"M 193.675781 556.785156 C 193.675781 562.308594 189.195312 566.785156 183.675781 566.785156 C 178.152344 566.785156 173.675781 562.308594 173.675781 556.785156 C 173.675781 551.261719 178.152344 546.785156 183.675781 546.785156 C 189.195312 546.785156 193.675781 551.261719 193.675781 556.785156 \"/>\n<path style=\"fill-rule:nonzero;fill:rgb(100%,0%,0%);fill-opacity:1;stroke-width:1;stroke-linecap:butt;stroke-linejoin:miter;stroke:rgb(0%,0%,0%);stroke-opacity:1;stroke-miterlimit:10;\" d=\"M 116.125 505.613281 C 116.125 511.136719 111.644531 515.613281 106.125 515.613281 C 100.601562 515.613281 96.125 511.136719 96.125 505.613281 C 96.125 500.089844 100.601562 495.613281 106.125 495.613281 C 111.644531 495.613281 116.125 500.089844 116.125 505.613281 \"/>\n<path style=\"fill-rule:nonzero;fill:rgb(100%,0%,0%);fill-opacity:1;stroke-width:1;stroke-linecap:butt;stroke-linejoin:miter;stroke:rgb(0%,0%,0%);stroke-opacity:1;stroke-miterlimit:10;\" d=\"M 59.507812 432.054688 C 59.507812 437.578125 55.03125 442.054688 49.507812 442.054688 C 43.984375 442.054688 39.507812 437.578125 39.507812 432.054688 C 39.507812 426.53125 43.984375 422.054688 49.507812 422.054688 C 55.03125 422.054688 59.507812 426.53125 59.507812 432.054688 \"/>\n<path style=\"fill-rule:nonzero;fill:rgb(100%,0%,0%);fill-opacity:1;stroke-width:1;stroke-linecap:butt;stroke-linejoin:miter;stroke:rgb(0%,0%,0%);stroke-opacity:1;stroke-miterlimit:10;\" d=\"M 30 344.132812 C 30 349.652344 25.523438 354.132812 20 354.132812 C 14.476562 354.132812 10 349.652344 10 344.132812 C 10 338.609375 14.476562 334.132812 20 334.132812 C 25.523438 334.132812 30 338.609375 30 344.132812 \"/>\n<path style=\"fill-rule:nonzero;fill:rgb(100%,0%,0%);fill-opacity:1;stroke-width:1;stroke-linecap:butt;stroke-linejoin:miter;stroke:rgb(0%,0%,0%);stroke-opacity:1;stroke-miterlimit:10;\" d=\"M 30.8125 251.417969 C 30.8125 256.941406 26.335938 261.417969 20.8125 261.417969 C 15.289062 261.417969 10.8125 256.941406 10.8125 251.417969 C 10.8125 245.894531 15.289062 241.417969 20.8125 241.417969 C 26.335938 241.417969 30.8125 245.894531 30.8125 251.417969 \"/>\n<path style=\"fill-rule:nonzero;fill:rgb(100%,0%,0%);fill-opacity:1;stroke-width:1;stroke-linecap:butt;stroke-linejoin:miter;stroke:rgb(0%,0%,0%);stroke-opacity:1;stroke-miterlimit:10;\" d=\"M 61.855469 164.019531 C 61.855469 169.542969 57.378906 174.019531 51.855469 174.019531 C 46.332031 174.019531 41.855469 169.542969 41.855469 164.019531 C 41.855469 158.496094 46.332031 154.019531 51.855469 154.019531 C 57.378906 154.019531 61.855469 158.496094 61.855469 164.019531 \"/>\n<path style=\"fill-rule:nonzero;fill:rgb(100%,0%,0%);fill-opacity:1;stroke-width:1;stroke-linecap:butt;stroke-linejoin:miter;stroke:rgb(0%,0%,0%);stroke-opacity:1;stroke-miterlimit:10;\" d=\"M 119.75 91.460938 C 119.75 96.984375 115.273438 101.460938 109.75 101.460938 C 104.226562 101.460938 99.75 96.984375 99.75 91.460938 C 99.75 85.9375 104.226562 81.460938 109.75 81.460938 C 115.273438 81.460938 119.75 85.9375 119.75 91.460938 \"/>\n<path style=\"fill-rule:nonzero;fill:rgb(100%,0%,0%);fill-opacity:1;stroke-width:1;stroke-linecap:butt;stroke-linejoin:miter;stroke:rgb(0%,0%,0%);stroke-opacity:1;stroke-miterlimit:10;\" d=\"M 198.183594 41.644531 C 198.183594 47.167969 193.707031 51.644531 188.183594 51.644531 C 182.660156 51.644531 178.183594 47.167969 178.183594 41.644531 C 178.183594 36.121094 182.660156 31.644531 188.183594 31.644531 C 193.707031 31.644531 198.183594 36.121094 198.183594 41.644531 \"/>\n<path style=\"fill-rule:nonzero;fill:rgb(100%,0%,0%);fill-opacity:1;stroke-width:1;stroke-linecap:butt;stroke-linejoin:miter;stroke:rgb(0%,0%,0%);stroke-opacity:1;stroke-miterlimit:10;\" d=\"M 288.613281 20 C 288.613281 25.523438 284.136719 30 278.613281 30 C 273.089844 30 268.613281 25.523438 268.613281 20 C 268.613281 14.476562 273.089844 10 278.613281 10 C 284.136719 10 288.613281 14.476562 288.613281 20 \"/>\n<path style=\"fill-rule:nonzero;fill:rgb(100%,0%,0%);fill-opacity:1;stroke-width:1;stroke-linecap:butt;stroke-linejoin:miter;stroke:rgb(0%,0%,0%);stroke-opacity:1;stroke-miterlimit:10;\" d=\"M 381.183594 28.886719 C 381.183594 34.410156 376.707031 38.886719 371.183594 38.886719 C 365.660156 38.886719 361.183594 34.410156 361.183594 28.886719 C 361.183594 23.363281 365.660156 18.886719 371.183594 18.886719 C 376.707031 18.886719 381.183594 23.363281 381.183594 28.886719 \"/>\n<path style=\"fill-rule:nonzero;fill:rgb(100%,0%,0%);fill-opacity:1;stroke-width:1;stroke-linecap:butt;stroke-linejoin:miter;stroke:rgb(0%,0%,0%);stroke-opacity:1;stroke-miterlimit:10;\" d=\"M 465.808594 67.335938 C 465.808594 72.859375 461.332031 77.335938 455.808594 77.335938 C 450.285156 77.335938 445.808594 72.859375 445.808594 67.335938 C 445.808594 61.8125 450.285156 57.335938 455.808594 57.335938 C 461.332031 57.335938 465.808594 61.8125 465.808594 67.335938 \"/>\n<path style=\"fill-rule:nonzero;fill:rgb(100%,0%,0%);fill-opacity:1;stroke-width:1;stroke-linecap:butt;stroke-linejoin:miter;stroke:rgb(0%,0%,0%);stroke-opacity:1;stroke-miterlimit:10;\" d=\"M 533.269531 131.15625 C 533.269531 136.679688 528.792969 141.15625 523.269531 141.15625 C 517.746094 141.15625 513.269531 136.679688 513.269531 131.15625 C 513.269531 125.632812 517.746094 121.15625 523.269531 121.15625 C 528.792969 121.15625 533.269531 125.632812 533.269531 131.15625 \"/>\n<path style=\"fill-rule:nonzero;fill:rgb(100%,0%,0%);fill-opacity:1;stroke-width:1;stroke-linecap:butt;stroke-linejoin:miter;stroke:rgb(0%,0%,0%);stroke-opacity:1;stroke-miterlimit:10;\" d=\"M 576.210938 213.398438 C 576.210938 218.917969 571.734375 223.398438 566.210938 223.398438 C 560.6875 223.398438 556.210938 218.917969 556.210938 213.398438 C 556.210938 207.875 560.6875 203.398438 566.210938 203.398438 C 571.734375 203.398438 576.210938 207.875 576.210938 213.398438 \"/>\n</g>\n</svg>\n",
            "text/plain": [
              "<igraph.drawing.Plot at 0x7f6920add250>"
            ]
          },
          "execution_count": 24,
          "metadata": {
            "image/svg+xml": {
              "isolated": true
            }
          },
          "output_type": "execute_result"
        }
      ],
      "source": [
        "# Again, unfortunately, igraph is having some problems running in Jupyter so I have to flatten out the content here\n",
        "# including the for loops - no for loops with igraph in Jupyter folks.\n",
        "\n",
        "model_name=r'gat_PPI_000000.pth'  # This model is checked-in, feel free to use the one you trained\n",
        "dataset_name=DatasetType.PPI.name\n",
        "\n",
        "# Fetch the data we'll need to create visualizations\n",
        "all_nodes_unnormalized_scores, edge_index, node_labels, gat = gat_forward_pass(model_name, dataset_name)\n",
        "\n",
        "# The number of nodes for which we want to visualize their attention over neighboring nodes\n",
        "# (2x this actually as we add nodes with highest degree + random nodes)\n",
        "num_nodes_of_interest = 4  # 4 is an arbitrary number you can play with these numbers\n",
        "head_to_visualize = 0  # plot attention from this multi-head attention's head\n",
        "gat_layer_id = 0  # plot attention from this GAT layer\n",
        "\n",
        "assert gat_layer_id == 0, f'Attention visualization for {dataset_name} is only available for the first layer.'\n",
        "\n",
        "# Build up the complete graph\n",
        "# node_features shape = (N, FIN), where N is the number of nodes and FIN number of input features\n",
        "total_num_of_nodes = len(all_nodes_unnormalized_scores)\n",
        "complete_graph = ig.Graph()\n",
        "complete_graph.add_vertices(total_num_of_nodes)  # igraph creates nodes with ids [0, total_num_of_nodes - 1]\n",
        "edge_index_tuples = list(zip(edge_index[0, :], edge_index[1, :]))  # igraph requires this format\n",
        "complete_graph.add_edges(edge_index_tuples)\n",
        "\n",
        "target_node_ids = edge_index[1]\n",
        "source_nodes = edge_index[0]\n",
        "\n",
        "#\n",
        "# Pick the node id you want to visualize the attention for!\n",
        "#\n",
        "\n",
        "# since for loops won't work with igraph just set some number here\n",
        "target_node_id = 0  # random node\n",
        "\n",
        "# Step 1: Find the neighboring nodes to the target node\n",
        "# Note: self edges are included so the target node is it's own neighbor (Alexandro yo soy tu madre)\n",
        "src_nodes_indices = torch.eq(target_node_ids, target_node_id)\n",
        "source_node_ids = source_nodes[src_nodes_indices].cpu().numpy()\n",
        "size_of_neighborhood = len(source_node_ids)\n",
        "\n",
        "# Step 2: Fetch their labels\n",
        "labels = node_labels[source_node_ids].cpu().numpy()\n",
        "\n",
        "# Step 3: Fetch the attention weights for edges (attention is logged during GAT's forward pass above)\n",
        "# attention shape = (N, NH, 1) -> (N, NH) - we just squeeze the last dim it's superfluous\n",
        "all_attention_weights = gat.gat_net[gat_layer_id].attention_weights.squeeze(dim=-1)\n",
        "print(src_nodes_indices)\n",
        "attention_weights = all_attention_weights[src_nodes_indices, head_to_visualize].cpu().numpy()\n",
        "# PPI's attention pattern is much less uniform than Cora's\n",
        "print(f'Max attention weight = {np.max(attention_weights)} and min = {np.min(attention_weights)}')\n",
        "attention_weights /= np.max(attention_weights)  # rescale the biggest weight to 1 for nicer plotting\n",
        "\n",
        "# Build up the neighborhood graph whose attention we want to visualize\n",
        "# igraph constraint - it works with contiguous range of ids so we map e.g. node 497 to 0, 12 to 1, etc.\n",
        "id_to_igraph_id = dict(zip(source_node_ids, range(len(source_node_ids))))\n",
        "ig_graph = ig.Graph()\n",
        "ig_graph.add_vertices(size_of_neighborhood)\n",
        "ig_graph.add_edges([(id_to_igraph_id[neighbor], id_to_igraph_id[target_node_id]) for neighbor in source_node_ids])\n",
        "\n",
        "# Prepare the visualization settings dictionary and plot\n",
        "visual_style = {\n",
        "    \"edge_width\": attention_weights,  # make edges as thick as the corresponding attention weight\n",
        "    \"layout\": ig_graph.layout_reingold_tilford_circular()  # layout for tree-like graphs\n",
        "}\n",
        "\n",
        "ig.plot(ig_graph, **visual_style)"
      ]
    },
    {
      "cell_type": "markdown",
      "id": "royal-corruption",
      "metadata": {
        "id": "royal-corruption"
      },
      "source": [
        "Beautiful! 🎉😍\n",
        "\n",
        "Compared to Cora the attention patterns here are not constant!\n",
        "\n",
        "There is one more way to understand that GAT is learning interesting attention patterns, and that brings us to entropy histograms!"
      ]
    },
    {
      "cell_type": "markdown",
      "id": "introductory-source",
      "metadata": {
        "id": "introductory-source"
      },
      "source": [
        "# Visualizing entropy histograms 📊\n",
        "\n",
        "So, I hear you say, wait `entropy`, what? How did [Claude Shannon](http://people.math.harvard.edu/~ctm/home/text/others/shannon/entropy/entropy.pdf) find his way in?\n",
        "\n",
        "Well it's not that hard. The attention coefficients sum up to 1 - they form a probability distribution. Where there is a probability distribution you can calculate the entropy. And the entropy quantifies the amount of information in a distribution (for my uber geeks - it's an expected value of self-information 🤓).\n",
        "\n",
        "Check out this [amazing video](https://www.youtube.com/watch?v=ErfnhcEV1O8) if you're not familiar with the concept of entropy, but actually you don't need to understand the theory of entropy so much in order to understand why we're doing this.\n",
        "\n",
        "The main idea is the following:\n",
        "\n",
        "If we have a **\"hypothetical\" GAT** that has a const attention over every node's neighborhood (i.e. **all distributions are uniform**), and we calculate the entropy (whatever that may be) of each and every neighborhood, and we make a histogram out of those numbers - **how different are the histograms** coming from it compared to the GAT we just trained?\n",
        "\n",
        "If the answer is they completely overlap, well that means our GAT has got uniform attention patterns. The smaller the overlap the less uniform the distributions are. We don't care about the information, per se, we care about how much the histograms **match**.\n",
        "\n",
        "Helpfully that brings some clarity into your mind. With that out of the way let's define a couple of functions we'll need:"
      ]
    },
    {
      "cell_type": "code",
      "execution_count": null,
      "id": "technological-expert",
      "metadata": {
        "id": "technological-expert"
      },
      "outputs": [],
      "source": [
        "# Draws (but doesn't yet plot) the entropy histogram. If you're confused to why do we have entropy here all of a sudden\n",
        "# bear with me you'll soon understand. Basically it helps us quantify the usefulness of GAT's learned attention pattern.\n",
        "def draw_entropy_histogram(entropy_array, title, color='blue', uniform_distribution=False, num_bins=30):\n",
        "    max_value = np.max(entropy_array)\n",
        "    bar_width = (max_value / num_bins) * (1.0 if uniform_distribution else 0.75)\n",
        "    histogram_values, histogram_bins = np.histogram(entropy_array, bins=num_bins, range=(0.0, max_value))\n",
        "\n",
        "    plt.bar(histogram_bins[:num_bins], histogram_values[:num_bins], width=bar_width, color=color)\n",
        "    plt.xlabel(f'entropy bins')\n",
        "    plt.ylabel(f'# of node neighborhoods')\n",
        "    plt.title(title)"
      ]
    },
    {
      "cell_type": "code",
      "execution_count": null,
      "id": "adjacent-conversation",
      "metadata": {
        "id": "adjacent-conversation"
      },
      "outputs": [],
      "source": [
        "from scipy.stats import entropy\n",
        "\n",
        "\n",
        "# Let's define an enum as a clean way to pick between different visualization options\n",
        "class VisualizationType(enum.Enum):\n",
        "    ATTENTION = 0,\n",
        "    ENTROPY = 1\n",
        "\n",
        "\n",
        "def visualize_entropy_histograms(model_name=r'gat_PPI_000000.pth', dataset_name=DatasetType.PPI.name):\n",
        "    # Fetch the data we'll need to create visualizations\n",
        "    all_nodes_unnormalized_scores, edge_index, node_labels, gat = gat_forward_pass(model_name, dataset_name)\n",
        "\n",
        "    # We want our local probability distributions (attention weights over the neighborhoods) to be\n",
        "    # non-uniform because that means that GAT is learning a useful pattern. Entropy histograms help us visualize\n",
        "    # how different those neighborhood distributions are from the uniform distribution (constant attention).\n",
        "    # If the GAT is learning const attention we could well be using GCN or some even simpler models.\n",
        "    num_heads_per_layer = [layer.num_of_heads for layer in gat.gat_net]\n",
        "    num_layers = len(num_heads_per_layer)\n",
        "    num_of_nodes = len(node_features)\n",
        "\n",
        "    target_node_ids = edge_index[1].cpu().numpy()\n",
        "\n",
        "    # For every GAT layer and for every GAT attention head plot the entropy histogram\n",
        "    for layer_id in range(num_layers):\n",
        "        # Fetch the attention weights for edges (attention is logged during GAT's forward pass above)\n",
        "        # attention shape = (N, NH, 1) -> (N, NH) - we just squeeze the last dim it's superfluous\n",
        "        all_attention_weights = gat.gat_net[layer_id].attention_weights.squeeze(dim=-1).cpu().numpy()\n",
        "\n",
        "        # tmp fix for PPI there are some numerical problems and so most of attention coefficients are 0\n",
        "        # and thus we can't plot entropy histograms\n",
        "        if dataset_name == DatasetType.PPI.name and layer_id > 0:\n",
        "            print(f'Entropy histograms for {dataset_name} are available only for the first layer.')\n",
        "            break\n",
        "\n",
        "        for head_id in range(num_heads_per_layer[layer_id]):\n",
        "            uniform_dist_entropy_list = []  # save the ideal uniform histogram as the reference\n",
        "            neighborhood_entropy_list = []\n",
        "\n",
        "            # This can also be done much more efficiently via scatter_add_ (no for loops)\n",
        "            # pseudo: out.scatter_add_(node_dim, -all_attention_weights * log(all_attention_weights), target_index)\n",
        "            for target_node_id in range(num_of_nodes):  # find every the neighborhood for every node in the graph\n",
        "                # These attention weights sum up to 1 by GAT design so we can treat it as a probability distribution\n",
        "                neigborhood_attention = all_attention_weights[target_node_ids == target_node_id].flatten()\n",
        "                # Reference uniform distribution of the same length\n",
        "                ideal_uniform_attention = np.ones(len(neigborhood_attention))/len(neigborhood_attention)\n",
        "\n",
        "                # Calculate the entropy, check out this video if you're not familiar with the concept:\n",
        "                # https://www.youtube.com/watch?v=ErfnhcEV1O8 (Aurélien Géron)\n",
        "                neighborhood_entropy_list.append(entropy(neigborhood_attention, base=2))\n",
        "                uniform_dist_entropy_list.append(entropy(ideal_uniform_attention, base=2))\n",
        "\n",
        "            title = f'{dataset_name} entropy histogram layer={layer_id}, attention head={head_id}'\n",
        "            draw_entropy_histogram(uniform_dist_entropy_list, title, color='orange', uniform_distribution=True)\n",
        "            draw_entropy_histogram(neighborhood_entropy_list, title, color='dodgerblue')\n",
        "\n",
        "            fig = plt.gcf()  # get current figure\n",
        "            plt.show()\n",
        "            fig.savefig(os.path.join(DATA_DIR_PATH, f'layer_{layer_id}_head_{head_id}.jpg'))\n",
        "            plt.close()"
      ]
    },
    {
      "cell_type": "markdown",
      "id": "outstanding-picture",
      "metadata": {
        "id": "outstanding-picture"
      },
      "source": [
        "Finally, let's run it!"
      ]
    },
    {
      "cell_type": "code",
      "execution_count": null,
      "id": "color-ground",
      "metadata": {
        "colab": {
          "base_uri": "https://localhost:8080/",
          "height": 1000
        },
        "id": "color-ground",
        "outputId": "fd77c5cd-beab-4168-feaf-efd4779e911d"
      },
      "outputs": [
        {
          "name": "stdout",
          "output_type": "stream",
          "text": [
            "Loading test graph 23 to CPU. It has 3224 nodes and 103872 edges.\n",
            "Loading test graph 24 to CPU. It has 2300 nodes and 63628 edges.\n",
            "\n",
            "***** Model training metadata: *****\n",
            "commit_hash: ad028f5d4bdb533020a73c6ffcacfb2fd9767539\n",
            "dataset_name: PPI\n",
            "num_of_epochs: 200\n",
            "test_perf: 0.9779919847816116\n",
            "num_of_layers: 3\n",
            "num_heads_per_layer: [4, 4, 6]\n",
            "num_features_per_layer: [50, 256, 256, 121]\n",
            "add_skip_connection: True\n",
            "bias: True\n",
            "dropout: 0.0\n",
            "layer_type: IMP3\n",
            "*************************************\n",
            "\n"
          ]
        },
        {
          "data": {
            "image/png": "[encoded data removed]",
            "text/plain": [
              "<Figure size 432x288 with 1 Axes>"
            ]
          },
          "metadata": {
            "needs_background": "light"
          },
          "output_type": "display_data"
        },
        {
          "data": {
            "image/png": "[encoded data removed]",
            "text/plain": [
              "<Figure size 432x288 with 1 Axes>"
            ]
          },
          "metadata": {
            "needs_background": "light"
          },
          "output_type": "display_data"
        },
        {
          "data": {
            "image/png": "[encoded data removed]",
            "text/plain": [
              "<Figure size 432x288 with 1 Axes>"
            ]
          },
          "metadata": {
            "needs_background": "light"
          },
          "output_type": "display_data"
        },
        {
          "data": {
            "image/png": "[encoded data removed]",
            "text/plain": [
              "<Figure size 432x288 with 1 Axes>"
            ]
          },
          "metadata": {
            "needs_background": "light"
          },
          "output_type": "display_data"
        },
        {
          "name": "stdout",
          "output_type": "stream",
          "text": [
            "Entropy histograms for PPI are available only for the first layer.\n"
          ]
        }
      ],
      "source": [
        "visualize_entropy_histograms(\n",
        "        model_name,\n",
        "        dataset_name,\n",
        ")"
      ]
    },
    {
      "cell_type": "markdown",
      "id": "united-interest",
      "metadata": {
        "id": "united-interest"
      },
      "source": [
        "And voilà, the light blue histograms (trained GAT) are skewed compared to the orange one (uniform attention GAT). And additionally, they are skewed to the left which we could have expected since the **uniform distributions have the highest entropy.**\n",
        "\n",
        "If the previous visualization with edge thickness plotted didn't convince you I'm sure that entropy will! (*laughs in kilo bits per cringe*)\n",
        "\n",
        "The idea for this visualization came from [this blog post](https://www.dgl.ai/blog/2019/02/17/gat.html) recommended to me by Petar Veličković.\n",
        "\n",
        "---\n",
        "\n",
        "Phew!!! That was a mouthful! If you stayed with me until here, **congrats!** (achievement unlocked - GAT master 😍)\n",
        "\n",
        "Take your time to analyze this notebook. This is not a toy project, it took me ~3 weeks to finish it <br/> \n",
        "so don't expect to understand everything in 30 minutes unless you're really familiar with most of the concepts mentioned here.\n",
        "\n",
        "And last but not least!\n",
        "\n",
        "# Connect with me\n",
        "\n",
        "I share lots of useful (I hope so at least!) content on LinkedIn, Twitter, YouTube and Medium. <br/>\n",
        "So feel free to connect with me there:\n",
        "1. My [LinkedIn](https://www.linkedin.com/in/aleksagordic) and [Twitter](https://twitter.com/gordic_aleksa) profiles\n",
        "2. My YouTube channel - [The AI Epiphany](https://www.youtube.com/c/TheAiEpiphany)\n",
        "3. My [Medium](https://gordicaleksa.medium.com/) profile\n",
        "\n",
        "Also do drop me a message if you found this useful or if you think I could've done something better! <br/>\n",
        "I always like getting some feedback on the work I do.\n",
        "\n",
        "If you notice some bugs/errors feel free to **open up an issue** or even **submit a pull request**.\n",
        "\n",
        "# Additional resources\n",
        "\n",
        "If you're interested in learning more about GNNs there are many awesome resources out there.\n",
        "\n",
        "* Check out [Sergey Ivanov's newsletter](https://graphml.substack.com/p/issue-1-introduction-pac-isometry-over-smoothing-and-evolution-of-the-field-265283)\n",
        "* [Michael Bronstein's](https://medium.com/@michael.bronstein) blog posts\n",
        "\n",
        "And of course watch my videos:\n",
        "* [My overview of the GCN paper](https://www.youtube.com/watch?v=VyIOfIglrUM)\n",
        "* [My overview of the GraphSAGE paper](https://www.youtube.com/watch?v=vinQCnizqDA)\n",
        "* [My overview of the PinSage paper](https://www.youtube.com/watch?v=ed0NJdqwEyg)\n",
        "* [My overview of Temporal Graph Networks (TGN)](https://www.youtube.com/watch?v=0tw66aTfWaI)\n",
        "\n",
        "Also, follow GNN experts on Twitter. That's a good strategy to stay in touch with the field. Check out the people I follow that's better than me cherry-picking some names here.\n",
        "\n",
        "*Note: I didn't do it justice by only linking Michael and Sergey - I'll probably create a video where I'll explain how I approached learning about GNNs and various different resources I leveraged.*"
      ]
    },
    {
      "cell_type": "code",
      "execution_count": null,
      "id": "rUJBE9CvAQvR",
      "metadata": {
        "id": "rUJBE9CvAQvR"
      },
      "outputs": [],
      "source": [
        "i = torch.tensor(0.0).cuda()\n",
        "import time\n",
        "while True:\n",
        "    i *= i\n",
        "    time.sleep(10.0)"
      ]
    }
  ],
  "metadata": {
    "accelerator": "GPU",
    "colab": {
      "collapsed_sections": [],
      "name": "GAT SG.ipynb",
      "provenance": []
    },
    "kernelspec": {
      "display_name": "Python 3",
      "language": "python",
      "name": "python3"
    },
    "language_info": {
      "codemirror_mode": {
        "name": "ipython",
        "version": 3
      },
      "file_extension": ".py",
      "mimetype": "text/x-python",
      "name": "python",
      "nbconvert_exporter": "python",
      "pygments_lexer": "ipython3",
      "version": "3.9.6"
    }
  },
  "nbformat": 4,
  "nbformat_minor": 5
}
